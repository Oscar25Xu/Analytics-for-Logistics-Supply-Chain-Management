{
 "cells": [
  {
   "cell_type": "markdown",
   "metadata": {
    "id": "B9zEJMKGvGp_"
   },
   "source": [
    "# **Case Study**\n"
   ]
  },
  {
   "cell_type": "markdown",
   "metadata": {
    "id": "pzT55Z6Orl_4"
   },
   "source": [
    "## **Question 1 ：For each policy, Lim should determine the class for each arriving pallet and each departing pallet so that the total travel distance in week 17 was minimised. She use the actual demands in Exhibit 2 to evaluate each policy**"
   ]
  },
  {
   "cell_type": "markdown",
   "metadata": {
    "id": "8Obb0V7EsWuX"
   },
   "source": [
    "Steps for Question 1：\n",
    "1. calculate flow rate to select Top 10 product\n",
    "\n",
    "2. Assign top 10 product to class\n",
    "> 2.1 partitioning warehouse into 4 classes beased on  inbound and outbound distance frequency of sections (Done)  \n",
    "\n",
    " > 2.2 Calculate the distance from class to in-door and out-door\n",
    "\n",
    " > 2.3 Estimate the minimum initial inventory for Top 10 prodcut\n",
    "\n",
    " > 2.4 Assign Top 10 product into class based on each policy; and calculate total travel distance for each policy （LPM,TOD,TOS） \n",
    "\n",
    "     > (1) LPM \n",
    "\n",
    "    >(2)TOS\n",
    "\n",
    "    >(3)TOD\n",
    "\n",
    "\n",
    "\n"
   ]
  },
  {
   "cell_type": "markdown",
   "metadata": {
    "id": "MqXy-CRWxvq7"
   },
   "source": [
    "**Answer**\n",
    "1. For LPM policy, the optimal total travel distance in week 17 is 36016.04.\n",
    "2. For TOS policy, based on our assigning rule, the total travel distance in week 17 is 22764.79.\n",
    "3. For TOD policy, we have finished calculating the turnover rate for week 17and have also written a class assigning rule for the product as part of our TOD policy. The only pending task is to write the code."
   ]
  },
  {
   "cell_type": "markdown",
   "metadata": {
    "id": "fW9XFOByZTtl"
   },
   "source": [
    "### **Step 1- Calculate flow rate to select Top 10 product**\n",
    "\n",
    "I calculate the flow amount for the first 16 weeks to pick up the top 10 product (we need to predict later) that has the largest flow amount. And use these 10 products to forecast the optimized distance."
   ]
  },
  {
   "cell_type": "code",
   "execution_count": 1,
   "metadata": {
    "id": "2od0IGbMvFXv"
   },
   "outputs": [],
   "source": [
    "import pandas as pd\n",
    "import numpy as np\n",
    "from matplotlib import colors\n",
    "import matplotlib.pyplot as plt\n",
    "from matplotlib.colors import LinearSegmentedColormap\n"
   ]
  },
  {
   "cell_type": "code",
   "execution_count": 3,
   "metadata": {
    "colab": {
     "base_uri": "https://localhost:8080/"
    },
    "id": "MfJX6VR-vXZD",
    "outputId": "e5d16273-50c8-45df-9828-c236646ba487"
   },
   "outputs": [],
   "source": [
    "#load two sheets seperatly\n",
    "#load the first sheet, and add column names\n",
    "df_inbound = pd.read_excel('C:/Users/26741/BAX424/HW1/SMU566-XLS-ENG(2).xlsx',sheet_name='Inbound', header=None, names=['day', 'product', 'inbound'])\n",
    "\n",
    "# Load the second sheet of the Excel file as outbound\n",
    "df_outbound = pd.read_excel('C:/Users/26741/BAX424/HW1/SMU566-XLS-ENG(2).xlsx',sheet_name='Outbound', header=None, names=['day', 'product', 'outbound'])"
   ]
  },
  {
   "cell_type": "code",
   "execution_count": 4,
   "metadata": {
    "colab": {
     "base_uri": "https://localhost:8080/",
     "height": 423
    },
    "id": "Of-goZWqvXfr",
    "outputId": "70b23d17-33bb-4b94-b505-fd6340768a95"
   },
   "outputs": [
    {
     "data": {
      "text/html": [
       "<div>\n",
       "<style scoped>\n",
       "    .dataframe tbody tr th:only-of-type {\n",
       "        vertical-align: middle;\n",
       "    }\n",
       "\n",
       "    .dataframe tbody tr th {\n",
       "        vertical-align: top;\n",
       "    }\n",
       "\n",
       "    .dataframe thead th {\n",
       "        text-align: right;\n",
       "    }\n",
       "</style>\n",
       "<table border=\"1\" class=\"dataframe\">\n",
       "  <thead>\n",
       "    <tr style=\"text-align: right;\">\n",
       "      <th></th>\n",
       "      <th>day</th>\n",
       "      <th>product</th>\n",
       "      <th>outbound</th>\n",
       "    </tr>\n",
       "  </thead>\n",
       "  <tbody>\n",
       "    <tr>\n",
       "      <th>0</th>\n",
       "      <td>1</td>\n",
       "      <td>3</td>\n",
       "      <td>10</td>\n",
       "    </tr>\n",
       "    <tr>\n",
       "      <th>1</th>\n",
       "      <td>1</td>\n",
       "      <td>7</td>\n",
       "      <td>10</td>\n",
       "    </tr>\n",
       "    <tr>\n",
       "      <th>2</th>\n",
       "      <td>1</td>\n",
       "      <td>9</td>\n",
       "      <td>1</td>\n",
       "    </tr>\n",
       "    <tr>\n",
       "      <th>3</th>\n",
       "      <td>1</td>\n",
       "      <td>12</td>\n",
       "      <td>4</td>\n",
       "    </tr>\n",
       "    <tr>\n",
       "      <th>4</th>\n",
       "      <td>1</td>\n",
       "      <td>14</td>\n",
       "      <td>4</td>\n",
       "    </tr>\n",
       "    <tr>\n",
       "      <th>...</th>\n",
       "      <td>...</td>\n",
       "      <td>...</td>\n",
       "      <td>...</td>\n",
       "    </tr>\n",
       "    <tr>\n",
       "      <th>2341</th>\n",
       "      <td>307</td>\n",
       "      <td>13</td>\n",
       "      <td>2</td>\n",
       "    </tr>\n",
       "    <tr>\n",
       "      <th>2342</th>\n",
       "      <td>307</td>\n",
       "      <td>14</td>\n",
       "      <td>1</td>\n",
       "    </tr>\n",
       "    <tr>\n",
       "      <th>2343</th>\n",
       "      <td>307</td>\n",
       "      <td>15</td>\n",
       "      <td>1</td>\n",
       "    </tr>\n",
       "    <tr>\n",
       "      <th>2344</th>\n",
       "      <td>307</td>\n",
       "      <td>16</td>\n",
       "      <td>2</td>\n",
       "    </tr>\n",
       "    <tr>\n",
       "      <th>2345</th>\n",
       "      <td>307</td>\n",
       "      <td>19</td>\n",
       "      <td>2</td>\n",
       "    </tr>\n",
       "  </tbody>\n",
       "</table>\n",
       "<p>2346 rows × 3 columns</p>\n",
       "</div>"
      ],
      "text/plain": [
       "      day  product  outbound\n",
       "0       1        3        10\n",
       "1       1        7        10\n",
       "2       1        9         1\n",
       "3       1       12         4\n",
       "4       1       14         4\n",
       "...   ...      ...       ...\n",
       "2341  307       13         2\n",
       "2342  307       14         1\n",
       "2343  307       15         1\n",
       "2344  307       16         2\n",
       "2345  307       19         2\n",
       "\n",
       "[2346 rows x 3 columns]"
      ]
     },
     "execution_count": 4,
     "metadata": {},
     "output_type": "execute_result"
    }
   ],
   "source": [
    "#look at the first 16 weeks data first\n",
    "#df_inbound = df_inbound[df_inbound['day'] <= 16*6]\n",
    "#df_outbound = df_outbound[df_outbound['day'] <= 16*6]\n",
    "df_outbound"
   ]
  },
  {
   "cell_type": "code",
   "execution_count": 5,
   "metadata": {
    "colab": {
     "base_uri": "https://localhost:8080/"
    },
    "id": "eR-9c4PVvXiF",
    "outputId": "29021f36-eed7-4dd2-f34c-b36c2105f9a4"
   },
   "outputs": [
    {
     "name": "stderr",
     "output_type": "stream",
     "text": [
      "C:\\Users\\26741\\AppData\\Local\\Temp/ipykernel_17364/2028572246.py:14: FutureWarning: Indexing with multiple keys (implicitly converted to a tuple of keys) will be deprecated, use a list instead.\n",
      "  df_flow = df_merged.groupby(['day', 'product'])['inbound', 'outbound'].sum()\n"
     ]
    },
    {
     "data": {
      "text/plain": [
       "product\n",
       "1     3315.0\n",
       "3     1423.0\n",
       "2     1339.0\n",
       "4     1271.0\n",
       "9     1106.0\n",
       "5     1030.0\n",
       "7     1015.0\n",
       "10     968.0\n",
       "11     919.0\n",
       "12     904.0\n",
       "Name: flow_amount, dtype: float64"
      ]
     },
     "execution_count": 5,
     "metadata": {},
     "output_type": "execute_result"
    }
   ],
   "source": [
    "#Then merge two xlsx files using outer join on 'day' and 'product'\n",
    "df_merged = pd.merge(df_inbound, df_outbound, on=['day', 'product'], how='outer')\n",
    "\n",
    "# Fill NaN values with 0\n",
    "df_merged.fillna(0, inplace=True)\n",
    "\n",
    "# Sort the merged dataframe by 'day' and 'product'\n",
    "df_merged.sort_values(['day', 'product'], inplace=True)\n",
    "\n",
    "# Reset the index\n",
    "df_merged.reset_index(drop=True, inplace=True)\n",
    "\n",
    "# group the data by day and product, and calculate the sum of inbound and outbound amounts\n",
    "df_flow = df_merged.groupby(['day', 'product'])['inbound', 'outbound'].sum()\n",
    "\n",
    "# calculate the flow amount by adding inbound and outbound amounts\n",
    "df_flow['flow_amount'] = df_flow['inbound'] + df_flow['outbound']\n",
    "\n",
    "# filter the data for the first 16 weeks\n",
    "df_flow_16weeks = df_flow[df_flow.index.get_level_values('day') <= 96]\n",
    "\n",
    "# calculate the average flow amount for each product and sort by descending order\n",
    "df_ranked = df_flow_16weeks.groupby('product')['flow_amount'].sum().sort_values(ascending=False)\n",
    "df_ranked.head(10)\n"
   ]
  },
  {
   "cell_type": "markdown",
   "metadata": {
    "id": "ZYjHFEJqw0F2"
   },
   "source": [
    "Here, we can see the top 10 flow amount products are 1,3,2,4,9,5,7,10,11,12"
   ]
  },
  {
   "cell_type": "code",
   "execution_count": 6,
   "metadata": {
    "id": "SpHMZxfx6jfr"
   },
   "outputs": [],
   "source": [
    "products_to_select = [1, 3, 2, 4, 9, 5, 7, 10, 11, 12]\n",
    "filtered_data = df_merged[df_merged['product'].isin(products_to_select)]\n",
    "#filtered_data.head(30)"
   ]
  },
  {
   "cell_type": "code",
   "execution_count": 7,
   "metadata": {
    "colab": {
     "base_uri": "https://localhost:8080/",
     "height": 1000
    },
    "id": "RKTg7ZGb-GPr",
    "outputId": "2b1e572e-a764-43be-9733-64b10f2a1013"
   },
   "outputs": [
    {
     "data": {
      "text/html": [
       "<div>\n",
       "<style scoped>\n",
       "    .dataframe tbody tr th:only-of-type {\n",
       "        vertical-align: middle;\n",
       "    }\n",
       "\n",
       "    .dataframe tbody tr th {\n",
       "        vertical-align: top;\n",
       "    }\n",
       "\n",
       "    .dataframe thead th {\n",
       "        text-align: right;\n",
       "    }\n",
       "</style>\n",
       "<table border=\"1\" class=\"dataframe\">\n",
       "  <thead>\n",
       "    <tr style=\"text-align: right;\">\n",
       "      <th></th>\n",
       "      <th>day</th>\n",
       "      <th>product</th>\n",
       "      <th>inbound</th>\n",
       "      <th>outbound</th>\n",
       "    </tr>\n",
       "  </thead>\n",
       "  <tbody>\n",
       "    <tr>\n",
       "      <th>898</th>\n",
       "      <td>97</td>\n",
       "      <td>1</td>\n",
       "      <td>0.0</td>\n",
       "      <td>160.0</td>\n",
       "    </tr>\n",
       "    <tr>\n",
       "      <th>899</th>\n",
       "      <td>97</td>\n",
       "      <td>2</td>\n",
       "      <td>4.0</td>\n",
       "      <td>28.0</td>\n",
       "    </tr>\n",
       "    <tr>\n",
       "      <th>900</th>\n",
       "      <td>97</td>\n",
       "      <td>3</td>\n",
       "      <td>0.0</td>\n",
       "      <td>32.0</td>\n",
       "    </tr>\n",
       "    <tr>\n",
       "      <th>901</th>\n",
       "      <td>97</td>\n",
       "      <td>4</td>\n",
       "      <td>24.0</td>\n",
       "      <td>0.0</td>\n",
       "    </tr>\n",
       "    <tr>\n",
       "      <th>902</th>\n",
       "      <td>97</td>\n",
       "      <td>5</td>\n",
       "      <td>0.0</td>\n",
       "      <td>24.0</td>\n",
       "    </tr>\n",
       "    <tr>\n",
       "      <th>905</th>\n",
       "      <td>97</td>\n",
       "      <td>9</td>\n",
       "      <td>63.0</td>\n",
       "      <td>0.0</td>\n",
       "    </tr>\n",
       "    <tr>\n",
       "      <th>911</th>\n",
       "      <td>98</td>\n",
       "      <td>1</td>\n",
       "      <td>54.0</td>\n",
       "      <td>0.0</td>\n",
       "    </tr>\n",
       "    <tr>\n",
       "      <th>912</th>\n",
       "      <td>98</td>\n",
       "      <td>2</td>\n",
       "      <td>18.0</td>\n",
       "      <td>0.0</td>\n",
       "    </tr>\n",
       "    <tr>\n",
       "      <th>913</th>\n",
       "      <td>98</td>\n",
       "      <td>5</td>\n",
       "      <td>36.0</td>\n",
       "      <td>4.0</td>\n",
       "    </tr>\n",
       "    <tr>\n",
       "      <th>914</th>\n",
       "      <td>98</td>\n",
       "      <td>7</td>\n",
       "      <td>0.0</td>\n",
       "      <td>3.0</td>\n",
       "    </tr>\n",
       "    <tr>\n",
       "      <th>915</th>\n",
       "      <td>98</td>\n",
       "      <td>10</td>\n",
       "      <td>0.0</td>\n",
       "      <td>104.0</td>\n",
       "    </tr>\n",
       "    <tr>\n",
       "      <th>916</th>\n",
       "      <td>98</td>\n",
       "      <td>11</td>\n",
       "      <td>0.0</td>\n",
       "      <td>2.0</td>\n",
       "    </tr>\n",
       "    <tr>\n",
       "      <th>921</th>\n",
       "      <td>99</td>\n",
       "      <td>1</td>\n",
       "      <td>19.0</td>\n",
       "      <td>0.0</td>\n",
       "    </tr>\n",
       "    <tr>\n",
       "      <th>922</th>\n",
       "      <td>99</td>\n",
       "      <td>3</td>\n",
       "      <td>0.0</td>\n",
       "      <td>2.0</td>\n",
       "    </tr>\n",
       "    <tr>\n",
       "      <th>924</th>\n",
       "      <td>99</td>\n",
       "      <td>10</td>\n",
       "      <td>0.0</td>\n",
       "      <td>68.0</td>\n",
       "    </tr>\n",
       "    <tr>\n",
       "      <th>926</th>\n",
       "      <td>100</td>\n",
       "      <td>1</td>\n",
       "      <td>18.0</td>\n",
       "      <td>0.0</td>\n",
       "    </tr>\n",
       "    <tr>\n",
       "      <th>927</th>\n",
       "      <td>100</td>\n",
       "      <td>2</td>\n",
       "      <td>0.0</td>\n",
       "      <td>7.0</td>\n",
       "    </tr>\n",
       "    <tr>\n",
       "      <th>928</th>\n",
       "      <td>100</td>\n",
       "      <td>3</td>\n",
       "      <td>0.0</td>\n",
       "      <td>18.0</td>\n",
       "    </tr>\n",
       "    <tr>\n",
       "      <th>929</th>\n",
       "      <td>100</td>\n",
       "      <td>5</td>\n",
       "      <td>0.0</td>\n",
       "      <td>9.0</td>\n",
       "    </tr>\n",
       "    <tr>\n",
       "      <th>931</th>\n",
       "      <td>100</td>\n",
       "      <td>7</td>\n",
       "      <td>0.0</td>\n",
       "      <td>4.0</td>\n",
       "    </tr>\n",
       "    <tr>\n",
       "      <th>932</th>\n",
       "      <td>100</td>\n",
       "      <td>12</td>\n",
       "      <td>0.0</td>\n",
       "      <td>47.0</td>\n",
       "    </tr>\n",
       "    <tr>\n",
       "      <th>937</th>\n",
       "      <td>101</td>\n",
       "      <td>1</td>\n",
       "      <td>72.0</td>\n",
       "      <td>4.0</td>\n",
       "    </tr>\n",
       "    <tr>\n",
       "      <th>938</th>\n",
       "      <td>101</td>\n",
       "      <td>5</td>\n",
       "      <td>19.0</td>\n",
       "      <td>10.0</td>\n",
       "    </tr>\n",
       "    <tr>\n",
       "      <th>940</th>\n",
       "      <td>101</td>\n",
       "      <td>7</td>\n",
       "      <td>0.0</td>\n",
       "      <td>28.0</td>\n",
       "    </tr>\n",
       "    <tr>\n",
       "      <th>941</th>\n",
       "      <td>101</td>\n",
       "      <td>9</td>\n",
       "      <td>38.0</td>\n",
       "      <td>2.0</td>\n",
       "    </tr>\n",
       "    <tr>\n",
       "      <th>946</th>\n",
       "      <td>102</td>\n",
       "      <td>1</td>\n",
       "      <td>18.0</td>\n",
       "      <td>44.0</td>\n",
       "    </tr>\n",
       "    <tr>\n",
       "      <th>947</th>\n",
       "      <td>102</td>\n",
       "      <td>2</td>\n",
       "      <td>0.0</td>\n",
       "      <td>4.0</td>\n",
       "    </tr>\n",
       "    <tr>\n",
       "      <th>948</th>\n",
       "      <td>102</td>\n",
       "      <td>3</td>\n",
       "      <td>0.0</td>\n",
       "      <td>8.0</td>\n",
       "    </tr>\n",
       "    <tr>\n",
       "      <th>950</th>\n",
       "      <td>102</td>\n",
       "      <td>7</td>\n",
       "      <td>0.0</td>\n",
       "      <td>36.0</td>\n",
       "    </tr>\n",
       "    <tr>\n",
       "      <th>951</th>\n",
       "      <td>102</td>\n",
       "      <td>9</td>\n",
       "      <td>0.0</td>\n",
       "      <td>1.0</td>\n",
       "    </tr>\n",
       "    <tr>\n",
       "      <th>952</th>\n",
       "      <td>102</td>\n",
       "      <td>12</td>\n",
       "      <td>0.0</td>\n",
       "      <td>25.0</td>\n",
       "    </tr>\n",
       "  </tbody>\n",
       "</table>\n",
       "</div>"
      ],
      "text/plain": [
       "     day  product  inbound  outbound\n",
       "898   97        1      0.0     160.0\n",
       "899   97        2      4.0      28.0\n",
       "900   97        3      0.0      32.0\n",
       "901   97        4     24.0       0.0\n",
       "902   97        5      0.0      24.0\n",
       "905   97        9     63.0       0.0\n",
       "911   98        1     54.0       0.0\n",
       "912   98        2     18.0       0.0\n",
       "913   98        5     36.0       4.0\n",
       "914   98        7      0.0       3.0\n",
       "915   98       10      0.0     104.0\n",
       "916   98       11      0.0       2.0\n",
       "921   99        1     19.0       0.0\n",
       "922   99        3      0.0       2.0\n",
       "924   99       10      0.0      68.0\n",
       "926  100        1     18.0       0.0\n",
       "927  100        2      0.0       7.0\n",
       "928  100        3      0.0      18.0\n",
       "929  100        5      0.0       9.0\n",
       "931  100        7      0.0       4.0\n",
       "932  100       12      0.0      47.0\n",
       "937  101        1     72.0       4.0\n",
       "938  101        5     19.0      10.0\n",
       "940  101        7      0.0      28.0\n",
       "941  101        9     38.0       2.0\n",
       "946  102        1     18.0      44.0\n",
       "947  102        2      0.0       4.0\n",
       "948  102        3      0.0       8.0\n",
       "950  102        7      0.0      36.0\n",
       "951  102        9      0.0       1.0\n",
       "952  102       12      0.0      25.0"
      ]
     },
     "execution_count": 7,
     "metadata": {},
     "output_type": "execute_result"
    }
   ],
   "source": [
    "#for question 1: we need all 17th weeks' data, which is from (6*16+1) to (17*6)\n",
    "df_flow_17th_week = filtered_data[(filtered_data['day'] <= 17*6) & ( filtered_data['day'] > 16*6)]\n",
    "#df_flow_17th_week = filtered_data[filtered_data['day'] > 16*6]\n",
    "df_flow_17th_week\n"
   ]
  },
  {
   "cell_type": "markdown",
   "metadata": {
    "id": "s1FvUJOPZo0F"
   },
   "source": [
    "### **Step 2 - Assign top 10 product to class**\n",
    "\n",
    "#### **2.1 partitioning warehouse into 4 classes beased on inbound and outbound distance frequency of each section**\n",
    "\n"
   ]
  },
  {
   "cell_type": "code",
   "execution_count": 8,
   "metadata": {
    "id": "iIi_uo0dxThY"
   },
   "outputs": [],
   "source": [
    "#set the coordinate for in_door and out_door\n",
    "in_door = (0,37)\n",
    "out_door = (2,0)"
   ]
  },
  {
   "cell_type": "code",
   "execution_count": 9,
   "metadata": {
    "id": "a-FJyL70xjR1"
   },
   "outputs": [],
   "source": [
    "#set a array to collect all space that forklift need to move to\n",
    "spaces = []\n",
    "for row in range(1,48):\n",
    "    if row % 5 != 0:\n",
    "        continue\n",
    "    for col in range(0, 54):\n",
    "        if col < 4 or col > 51:\n",
    "            continue\n",
    "  \n",
    "        x = col\n",
    "        #even rows are 1,3,5,7,9,11,13,15,17, they are located in 4th,9th,14th,19th,24th,29th,34th,39th and 44th row.\n",
    "        #therefore the forklift should move to 3rd,8th,13th,18th,23rd,28th,33rd,38th and 43rd row which are the numbers dividable by 5 minus 2 in range (0,48).\n",
    "        #the same way, odd rows are located in 5 dividable rows and the forklift should move to rows+1 th row.\n",
    "        y_even = row+1\n",
    "        y_odd = row-2 \n",
    "        \n",
    "        spaces.append((x, y_odd))\n",
    "        spaces.append((x, y_even))"
   ]
  },
  {
   "cell_type": "code",
   "execution_count": 10,
   "metadata": {
    "id": "Yg5poihHxjT6"
   },
   "outputs": [],
   "source": [
    "#calculate the distance that forklift need to move to \n",
    "distances = []\n",
    "for space in spaces:\n",
    "    #the warehouse is a 73.125*65 meters rectangle and is divided into 54*48 small rectancles\n",
    "    #therefore the length of each small rectancle is (73.125/54) and wide is (65/48) \n",
    "    dist_to_in_door = abs(space[0] - in_door[0])*(73.125/54) + abs(space[1] - in_door[1])*(65/48)\n",
    "    dist_to_out_door = abs(space[0] - out_door[0])*(73.125/54) + abs(space[1] - out_door[1])*(65/48)\n",
    "    total_dist = dist_to_in_door + dist_to_out_door\n",
    "    distances.append((space, total_dist))\n",
    "\n",
    "#sort the distance \n",
    "distances.sort(key=lambda x: x[1])\n",
    "\n",
    "#and then divide it into 4 classes by percentile\n",
    "dist_values = [x[1] for x in distances]\n",
    "quartiles = np.percentile(dist_values, [25, 50, 75])\n",
    "class1 = [x[0] for x in distances if x[1] <= quartiles[0]]\n",
    "class2 = [x[0] for x in distances if quartiles[0] < x[1] <= quartiles[1]]\n",
    "class3 = [x[0] for x in distances if quartiles[1] < x[1] <= quartiles[2]]\n",
    "class4 = [x[0] for x in distances if x[1] > quartiles[2]]"
   ]
  },
  {
   "cell_type": "code",
   "execution_count": 11,
   "metadata": {
    "colab": {
     "base_uri": "https://localhost:8080/",
     "height": 589
    },
    "id": "36rT9mEXxjWG",
    "outputId": "1ce0ec82-3271-4acc-bbec-c04607901a66"
   },
   "outputs": [
    {
     "data": {
      "text/plain": [
       "<matplotlib.legend.Legend at 0x28f16aa5940>"
      ]
     },
     "execution_count": 11,
     "metadata": {},
     "output_type": "execute_result"
    },
    {
     "data": {
      "image/png": "[encoded data removed]",
      "text/plain": [
       "<Figure size 864x576 with 1 Axes>"
      ]
     },
     "metadata": {
      "needs_background": "light"
     },
     "output_type": "display_data"
    }
   ],
   "source": [
    "# define the colors for the classes using gradient green\n",
    "cmap = colors.LinearSegmentedColormap.from_list(\"\", [\"red\", \"orange\", \"yellow\", \"green\", \"blue\", \"purple\"])\n",
    "\n",
    "# create the plot\n",
    "fig, ax = plt.subplots(figsize=(12, 8))\n",
    "\n",
    "# plot the spaces\n",
    "ax.scatter([space[0] for space in class1], [space[1] for space in class1], color=cmap(0.25), label='Class 1', s=50)\n",
    "ax.scatter([space[0] for space in class2], [space[1] for space in class2], color=cmap(0.50), label='Class 2', s=50)\n",
    "ax.scatter([space[0] for space in class3], [space[1] for space in class3], color=cmap(0.75), label='Class 3', s=50)\n",
    "ax.scatter([space[0] for space in class4], [space[1] for space in class4], color=cmap(1.0), label='Class 4', s=50)\n",
    "\n",
    "# plot the in_door and out_door\n",
    "ax.scatter(in_door[0], in_door[1], color='black', label='In Door', s=100)\n",
    "ax.scatter(out_door[0], out_door[1], color='red', label='Out Door', s=100)\n",
    "\n",
    "# set the title and labels\n",
    "ax.set_title('Warehouse Space Plot')\n",
    "ax.set_xlabel('X')\n",
    "ax.set_ylabel('Y')\n",
    "\n",
    "# add the legend\n",
    "ax.legend()"
   ]
  },
  {
   "cell_type": "markdown",
   "metadata": {
    "id": "qDtZe0BQZ_sD"
   },
   "source": [
    "#### **2.2 Calculate the distance from class to in-door and out-door**\n",
    "\n",
    "we use average distance to estimate s_j & r_j for each class"
   ]
  },
  {
   "cell_type": "code",
   "execution_count": 12,
   "metadata": {
    "colab": {
     "base_uri": "https://localhost:8080/"
    },
    "id": "b-h2FVqnPJa8",
    "outputId": "31dcb9a5-8cd9-4aed-b59c-ba0f75a167f9"
   },
   "outputs": [
    {
     "name": "stdout",
     "output_type": "stream",
     "text": [
      "[[34.66549928 42.02002514]\n",
      " [50.01474057 60.74587264]\n",
      " [66.44034091 76.78125   ]\n",
      " [80.68802083 94.90677083]]\n"
     ]
    }
   ],
   "source": [
    "# calculate average distance to in_door and out_door for each class\n",
    "class_distances = [class1, class2, class3, class4]\n",
    "\n",
    "avg_distances = np.zeros((4, 2))  # create a matrix of zeros with shape (4, 2)\n",
    "\n",
    "for i in range(4):\n",
    "    distances = class_distances[i]\n",
    "    total_dist_in = 0\n",
    "    total_dist_out = 0\n",
    "    for space in distances:\n",
    "        dist_to_in_door = abs(space[0] - in_door[0])*(73.125/54) + abs(space[1] - in_door[1])*(65/48)\n",
    "        dist_to_out_door = abs(space[0] - out_door[0])*(73.125/54) + abs(space[1] - out_door[1])*(65/48)\n",
    "        total_dist_in += dist_to_in_door\n",
    "        total_dist_out += dist_to_out_door\n",
    "    avg_dist_in = total_dist_in / len(distances)\n",
    "    avg_dist_out = total_dist_out / len(distances)\n",
    "    avg_distances[i, 0] = avg_dist_in  # assign the average distances to the matrix\n",
    "    avg_distances[i, 1] = avg_dist_out\n",
    "\n",
    "print(avg_distances)"
   ]
  },
  {
   "cell_type": "code",
   "execution_count": 13,
   "metadata": {
    "colab": {
     "base_uri": "https://localhost:8080/"
    },
    "id": "bNr00mjhS64X",
    "outputId": "62480028-8b5a-454a-bd4b-a44118619238"
   },
   "outputs": [
    {
     "name": "stdout",
     "output_type": "stream",
     "text": [
      "[34.66549928 50.01474057 66.44034091 80.68802083]\n",
      "[42.02002514 60.74587264 76.78125    94.90677083]\n"
     ]
    }
   ],
   "source": [
    "# extract the first column as s\n",
    "# extract the second column as r\n",
    "s_j = avg_distances[:, 0]\n",
    "r_j = avg_distances[:, 1]\n",
    "# print s_j\n",
    "print(s_j)\n",
    "print(r_j)"
   ]
  },
  {
   "cell_type": "markdown",
   "metadata": {
    "id": "4PS1kgfzFUKm"
   },
   "source": [
    " \n",
    " #### **2.3 Estimate the minimum initial inventory for Top 10 prodcut**\n"
   ]
  },
  {
   "cell_type": "markdown",
   "metadata": {
    "id": "o495GNTaFngf"
   },
   "source": [
    "To calculate the minimum initial inventory for Top 10 product in Day 1 to ensure that it has enough outbound for each day, we can follow these steps:\n",
    "\n",
    "1.   Calculate the cumulative inbound and outbound for each product and day.\n",
    "2.   Calculate the difference between cumulative inbound and outbound for each   product and day.\n",
    "3. Find the minimum difference for each product.\n",
    "4. If the minimum difference is negative, its absolute value represents the minimum initial inventory required for that product\n",
    "\n"
   ]
  },
  {
   "cell_type": "code",
   "execution_count": 14,
   "metadata": {
    "id": "F3UuIlNnF_Pd"
   },
   "outputs": [],
   "source": [
    "#Then merge two xlsx files using outer join on 'day' and 'product'\n",
    "df_merged = pd.merge(df_inbound, df_outbound, on=['day', 'product'], how='outer')\n",
    "\n",
    "# Fill NaN values with 0\n",
    "df_merged.fillna(0, inplace=True)\n",
    "\n",
    "# Sort the merged dataframe by 'day' and 'product'\n",
    "df_merged.sort_values(['day', 'product'], inplace=True)\n",
    "\n",
    "# Reset the index\n",
    "df_merged.reset_index(drop=True, inplace=True)"
   ]
  },
  {
   "cell_type": "code",
   "execution_count": 15,
   "metadata": {
    "colab": {
     "base_uri": "https://localhost:8080/"
    },
    "id": "7obTUcu3FpGu",
    "outputId": "76761f75-36b9-460b-bd77-39821d6288c7"
   },
   "outputs": [
    {
     "name": "stdout",
     "output_type": "stream",
     "text": [
      "   product  min_initial_inventory\n",
      "0        1                  115.0\n",
      "1        2                  188.0\n",
      "2        3                 4035.0\n",
      "3        4                    0.0\n",
      "4        5                  245.0\n",
      "5        7                 3022.0\n",
      "6        9                    0.0\n",
      "7       10                 2590.0\n",
      "8       11                    0.0\n",
      "9       12                 2657.0\n"
     ]
    }
   ],
   "source": [
    "# List of desired products\n",
    "desired_products = [1, 3, 2, 4, 9, 5, 7, 10, 11, 12]\n",
    "\n",
    "# Filter the DataFrame to include only rows with day <= 96 and the desired products, then create a new DataFrame\n",
    "df_filtered = df_merged[(df_merged['product'].isin(desired_products))].copy()\n",
    "\n",
    "# Calculate the cumulative sum of inbound and outbound for each product\n",
    "df_filtered['cum_inbound'] = df_filtered.groupby('product')['inbound'].cumsum()\n",
    "df_filtered['cum_outbound'] = df_filtered.groupby('product')['outbound'].cumsum()\n",
    "\n",
    "# Calculate the difference between cumulative inbound and outbound\n",
    "df_filtered['difference'] = df_filtered['cum_inbound'] - df_filtered['cum_outbound']\n",
    "\n",
    "# Find the minimum difference for each product\n",
    "min_difference = df_filtered.groupby('product')['difference'].min().reset_index()\n",
    "\n",
    "# If the minimum difference is negative, take its absolute value as the minimum initial inventory required\n",
    "min_difference['min_initial_inventory'] = min_difference['difference'].apply(lambda x: abs(x) if x < 0 else 0)\n",
    "\n",
    "print(min_difference[['product', 'min_initial_inventory']])"
   ]
  },
  {
   "cell_type": "markdown",
   "metadata": {
    "id": "mUkRiW0BaHVb"
   },
   "source": [
    "#### **2.4 Assign Top 10 product into class based on each policy; and calculate total travel distance for each policy （LPM,TOD,TOS）**\n",
    "\n"
   ]
  },
  {
   "cell_type": "markdown",
   "metadata": {
    "id": "-ZGgAzsrh0hR"
   },
   "source": [
    "**2.4.1 Calculate the inbound and outbound flow for Top 10 product of 17th_week**"
   ]
  },
  {
   "cell_type": "code",
   "execution_count": 16,
   "metadata": {
    "colab": {
     "base_uri": "https://localhost:8080/",
     "height": 1000
    },
    "id": "IyfwGCtrkZeU",
    "outputId": "6bbb847a-3c3e-408b-d6a1-9a41115c7a70"
   },
   "outputs": [
    {
     "data": {
      "text/html": [
       "<div>\n",
       "<style scoped>\n",
       "    .dataframe tbody tr th:only-of-type {\n",
       "        vertical-align: middle;\n",
       "    }\n",
       "\n",
       "    .dataframe tbody tr th {\n",
       "        vertical-align: top;\n",
       "    }\n",
       "\n",
       "    .dataframe thead th {\n",
       "        text-align: right;\n",
       "    }\n",
       "</style>\n",
       "<table border=\"1\" class=\"dataframe\">\n",
       "  <thead>\n",
       "    <tr style=\"text-align: right;\">\n",
       "      <th></th>\n",
       "      <th>day</th>\n",
       "      <th>product</th>\n",
       "      <th>inbound</th>\n",
       "      <th>outbound</th>\n",
       "    </tr>\n",
       "  </thead>\n",
       "  <tbody>\n",
       "    <tr>\n",
       "      <th>898</th>\n",
       "      <td>97</td>\n",
       "      <td>1</td>\n",
       "      <td>0.0</td>\n",
       "      <td>160.0</td>\n",
       "    </tr>\n",
       "    <tr>\n",
       "      <th>899</th>\n",
       "      <td>97</td>\n",
       "      <td>2</td>\n",
       "      <td>4.0</td>\n",
       "      <td>28.0</td>\n",
       "    </tr>\n",
       "    <tr>\n",
       "      <th>900</th>\n",
       "      <td>97</td>\n",
       "      <td>3</td>\n",
       "      <td>0.0</td>\n",
       "      <td>32.0</td>\n",
       "    </tr>\n",
       "    <tr>\n",
       "      <th>901</th>\n",
       "      <td>97</td>\n",
       "      <td>4</td>\n",
       "      <td>24.0</td>\n",
       "      <td>0.0</td>\n",
       "    </tr>\n",
       "    <tr>\n",
       "      <th>902</th>\n",
       "      <td>97</td>\n",
       "      <td>5</td>\n",
       "      <td>0.0</td>\n",
       "      <td>24.0</td>\n",
       "    </tr>\n",
       "    <tr>\n",
       "      <th>905</th>\n",
       "      <td>97</td>\n",
       "      <td>9</td>\n",
       "      <td>63.0</td>\n",
       "      <td>0.0</td>\n",
       "    </tr>\n",
       "    <tr>\n",
       "      <th>911</th>\n",
       "      <td>98</td>\n",
       "      <td>1</td>\n",
       "      <td>54.0</td>\n",
       "      <td>0.0</td>\n",
       "    </tr>\n",
       "    <tr>\n",
       "      <th>912</th>\n",
       "      <td>98</td>\n",
       "      <td>2</td>\n",
       "      <td>18.0</td>\n",
       "      <td>0.0</td>\n",
       "    </tr>\n",
       "    <tr>\n",
       "      <th>913</th>\n",
       "      <td>98</td>\n",
       "      <td>5</td>\n",
       "      <td>36.0</td>\n",
       "      <td>4.0</td>\n",
       "    </tr>\n",
       "    <tr>\n",
       "      <th>914</th>\n",
       "      <td>98</td>\n",
       "      <td>7</td>\n",
       "      <td>0.0</td>\n",
       "      <td>3.0</td>\n",
       "    </tr>\n",
       "    <tr>\n",
       "      <th>915</th>\n",
       "      <td>98</td>\n",
       "      <td>10</td>\n",
       "      <td>0.0</td>\n",
       "      <td>104.0</td>\n",
       "    </tr>\n",
       "    <tr>\n",
       "      <th>916</th>\n",
       "      <td>98</td>\n",
       "      <td>11</td>\n",
       "      <td>0.0</td>\n",
       "      <td>2.0</td>\n",
       "    </tr>\n",
       "    <tr>\n",
       "      <th>921</th>\n",
       "      <td>99</td>\n",
       "      <td>1</td>\n",
       "      <td>19.0</td>\n",
       "      <td>0.0</td>\n",
       "    </tr>\n",
       "    <tr>\n",
       "      <th>922</th>\n",
       "      <td>99</td>\n",
       "      <td>3</td>\n",
       "      <td>0.0</td>\n",
       "      <td>2.0</td>\n",
       "    </tr>\n",
       "    <tr>\n",
       "      <th>924</th>\n",
       "      <td>99</td>\n",
       "      <td>10</td>\n",
       "      <td>0.0</td>\n",
       "      <td>68.0</td>\n",
       "    </tr>\n",
       "    <tr>\n",
       "      <th>926</th>\n",
       "      <td>100</td>\n",
       "      <td>1</td>\n",
       "      <td>18.0</td>\n",
       "      <td>0.0</td>\n",
       "    </tr>\n",
       "    <tr>\n",
       "      <th>927</th>\n",
       "      <td>100</td>\n",
       "      <td>2</td>\n",
       "      <td>0.0</td>\n",
       "      <td>7.0</td>\n",
       "    </tr>\n",
       "    <tr>\n",
       "      <th>928</th>\n",
       "      <td>100</td>\n",
       "      <td>3</td>\n",
       "      <td>0.0</td>\n",
       "      <td>18.0</td>\n",
       "    </tr>\n",
       "    <tr>\n",
       "      <th>929</th>\n",
       "      <td>100</td>\n",
       "      <td>5</td>\n",
       "      <td>0.0</td>\n",
       "      <td>9.0</td>\n",
       "    </tr>\n",
       "    <tr>\n",
       "      <th>931</th>\n",
       "      <td>100</td>\n",
       "      <td>7</td>\n",
       "      <td>0.0</td>\n",
       "      <td>4.0</td>\n",
       "    </tr>\n",
       "    <tr>\n",
       "      <th>932</th>\n",
       "      <td>100</td>\n",
       "      <td>12</td>\n",
       "      <td>0.0</td>\n",
       "      <td>47.0</td>\n",
       "    </tr>\n",
       "    <tr>\n",
       "      <th>937</th>\n",
       "      <td>101</td>\n",
       "      <td>1</td>\n",
       "      <td>72.0</td>\n",
       "      <td>4.0</td>\n",
       "    </tr>\n",
       "    <tr>\n",
       "      <th>938</th>\n",
       "      <td>101</td>\n",
       "      <td>5</td>\n",
       "      <td>19.0</td>\n",
       "      <td>10.0</td>\n",
       "    </tr>\n",
       "    <tr>\n",
       "      <th>940</th>\n",
       "      <td>101</td>\n",
       "      <td>7</td>\n",
       "      <td>0.0</td>\n",
       "      <td>28.0</td>\n",
       "    </tr>\n",
       "    <tr>\n",
       "      <th>941</th>\n",
       "      <td>101</td>\n",
       "      <td>9</td>\n",
       "      <td>38.0</td>\n",
       "      <td>2.0</td>\n",
       "    </tr>\n",
       "    <tr>\n",
       "      <th>946</th>\n",
       "      <td>102</td>\n",
       "      <td>1</td>\n",
       "      <td>18.0</td>\n",
       "      <td>44.0</td>\n",
       "    </tr>\n",
       "    <tr>\n",
       "      <th>947</th>\n",
       "      <td>102</td>\n",
       "      <td>2</td>\n",
       "      <td>0.0</td>\n",
       "      <td>4.0</td>\n",
       "    </tr>\n",
       "    <tr>\n",
       "      <th>948</th>\n",
       "      <td>102</td>\n",
       "      <td>3</td>\n",
       "      <td>0.0</td>\n",
       "      <td>8.0</td>\n",
       "    </tr>\n",
       "    <tr>\n",
       "      <th>950</th>\n",
       "      <td>102</td>\n",
       "      <td>7</td>\n",
       "      <td>0.0</td>\n",
       "      <td>36.0</td>\n",
       "    </tr>\n",
       "    <tr>\n",
       "      <th>951</th>\n",
       "      <td>102</td>\n",
       "      <td>9</td>\n",
       "      <td>0.0</td>\n",
       "      <td>1.0</td>\n",
       "    </tr>\n",
       "    <tr>\n",
       "      <th>952</th>\n",
       "      <td>102</td>\n",
       "      <td>12</td>\n",
       "      <td>0.0</td>\n",
       "      <td>25.0</td>\n",
       "    </tr>\n",
       "  </tbody>\n",
       "</table>\n",
       "</div>"
      ],
      "text/plain": [
       "     day  product  inbound  outbound\n",
       "898   97        1      0.0     160.0\n",
       "899   97        2      4.0      28.0\n",
       "900   97        3      0.0      32.0\n",
       "901   97        4     24.0       0.0\n",
       "902   97        5      0.0      24.0\n",
       "905   97        9     63.0       0.0\n",
       "911   98        1     54.0       0.0\n",
       "912   98        2     18.0       0.0\n",
       "913   98        5     36.0       4.0\n",
       "914   98        7      0.0       3.0\n",
       "915   98       10      0.0     104.0\n",
       "916   98       11      0.0       2.0\n",
       "921   99        1     19.0       0.0\n",
       "922   99        3      0.0       2.0\n",
       "924   99       10      0.0      68.0\n",
       "926  100        1     18.0       0.0\n",
       "927  100        2      0.0       7.0\n",
       "928  100        3      0.0      18.0\n",
       "929  100        5      0.0       9.0\n",
       "931  100        7      0.0       4.0\n",
       "932  100       12      0.0      47.0\n",
       "937  101        1     72.0       4.0\n",
       "938  101        5     19.0      10.0\n",
       "940  101        7      0.0      28.0\n",
       "941  101        9     38.0       2.0\n",
       "946  102        1     18.0      44.0\n",
       "947  102        2      0.0       4.0\n",
       "948  102        3      0.0       8.0\n",
       "950  102        7      0.0      36.0\n",
       "951  102        9      0.0       1.0\n",
       "952  102       12      0.0      25.0"
      ]
     },
     "execution_count": 16,
     "metadata": {},
     "output_type": "execute_result"
    }
   ],
   "source": [
    "#Then merge two xlsx files using outer join on 'day' and 'product'\n",
    "df_merged = pd.merge(df_inbound, df_outbound, on=['day', 'product'], how='outer')\n",
    "\n",
    "# Fill NaN values with 0\n",
    "df_merged.fillna(0, inplace=True)\n",
    "\n",
    "# Sort the merged dataframe by 'day' and 'product'\n",
    "df_merged.sort_values(['day', 'product'], inplace=True)\n",
    "\n",
    "# Reset the index\n",
    "df_merged.reset_index(drop=True, inplace=True)\n",
    "\n",
    "# List of desired products\n",
    "desired_products = [1, 3, 2, 4, 9, 5, 7, 10, 11, 12]\n",
    "week_17th = [97,98,99,100,101,102]\n",
    "\n",
    "# Filter the DataFrame to include only rows in week 17 and the desired products, then create a new DataFrame\n",
    "df_flow_17th_week = df_merged[(df_merged['day'].isin(week_17th)) & (df_merged['product'].isin(desired_products))].copy()\n",
    "\n",
    "df_flow_17th_week"
   ]
  },
  {
   "cell_type": "markdown",
   "metadata": {
    "id": "GuBBGNIYiELW"
   },
   "source": [
    "**2.4.2 Calculate variable\" a_it \" and \"d_it\" for Top 10 product**"
   ]
  },
  {
   "cell_type": "code",
   "execution_count": 17,
   "metadata": {
    "id": "Eldv3_JZaMOv"
   },
   "outputs": [],
   "source": [
    "# Get the unique days in the dataframe\n",
    "#days = df_inbound['day'].unique()\n",
    "\n",
    "# Create an empty numpy array to store the values of a_it\n",
    "a_it = np.zeros((20, 7))\n",
    "d_it = np.zeros((20, 7))\n",
    "\n",
    "# Loop through each product and day and get the corresponding value of a_it\n",
    "for i in range(20):\n",
    "    for t in range(7):\n",
    "        day = t + 96\n",
    "        if i in df_flow_17th_week['product'].values:\n",
    "            inbound_values = df_flow_17th_week.loc[(df_flow_17th_week['product'] == i) & (df_flow_17th_week['day'] == day), 'inbound'].values\n",
    "            if len(inbound_values) > 0:\n",
    "                a_it[i][t] = inbound_values[0]\n",
    "            else:\n",
    "                a_it[i][t] = 0\n",
    "        else:\n",
    "            a_it[i][t] = 0\n",
    "        \n",
    "\n",
    "for i in range(20):\n",
    "    for t in range(7):\n",
    "        day = t + 96\n",
    "        if i in df_flow_17th_week['product'].values:\n",
    "            outbound_values = df_flow_17th_week.loc[(df_flow_17th_week['product'] == i) & (df_flow_17th_week['day'] == day), 'outbound'].values\n",
    "            if len(outbound_values) > 0:\n",
    "                d_it[i][t] = outbound_values[0]\n",
    "            else:\n",
    "                d_it[i][t] = 0\n",
    "        else:\n",
    "            d_it[i][t] = 0"
   ]
  },
  {
   "cell_type": "markdown",
   "metadata": {
    "id": "6HHdCLnUi3Oc"
   },
   "source": [
    "**2.4.3 LPM Policy**"
   ]
  },
  {
   "cell_type": "markdown",
   "metadata": {
    "id": "tIQtCOglX5f3"
   },
   "source": [
    "**For LPM policy, the optimal total travel distance in week 17 is 36016.04**.\n",
    "\n",
    "\n",
    "> for detailed calculation please see the code shown as below:\n",
    "\n"
   ]
  },
  {
   "cell_type": "code",
   "execution_count": 18,
   "metadata": {
    "colab": {
     "base_uri": "https://localhost:8080/"
    },
    "id": "yAWxFMS4Sycw",
    "outputId": "d2fb0629-8078-4f0f-b9ce-6bcfc5bf33c6"
   },
   "outputs": [
    {
     "name": "stdout",
     "output_type": "stream",
     "text": [
      "Collecting pulp\n",
      "  Downloading PuLP-2.7.0-py3-none-any.whl (14.3 MB)\n",
      "Installing collected packages: pulp\n",
      "Successfully installed pulp-2.7.0\n",
      "Status: Optimal\n",
      "Optimal Solution: 36016.04121767242\n",
      "v_(1,_0,_100) = 19.0\n",
      "v_(1,_0,_101) = 18.0\n",
      "v_(1,_0,_102) = 72.0\n",
      "v_(1,_0,_99) = 54.0\n",
      "v_(2,_0,_98) = 4.0\n",
      "v_(2,_0,_99) = 18.0\n",
      "v_(4,_0,_98) = 24.0\n",
      "v_(5,_0,_102) = 19.0\n",
      "v_(5,_0,_99) = 36.0\n",
      "v_(9,_0,_102) = 38.0\n",
      "v_(9,_0,_98) = 63.0\n",
      "w_(1,_0,_102) = 4.0\n",
      "w_(1,_0,_98) = 160.0\n",
      "w_(10,_0,_100) = 68.0\n",
      "w_(10,_0,_99) = 104.0\n",
      "w_(11,_0,_99) = 2.0\n",
      "w_(12,_0,_101) = 47.0\n",
      "w_(2,_0,_101) = 7.0\n",
      "w_(2,_0,_98) = 28.0\n",
      "w_(3,_0,_100) = 2.0\n",
      "w_(3,_0,_101) = 18.0\n",
      "w_(3,_0,_98) = 32.0\n",
      "w_(5,_0,_101) = 9.0\n",
      "w_(5,_0,_102) = 10.0\n",
      "w_(5,_0,_98) = 24.0\n",
      "w_(5,_0,_99) = 4.0\n",
      "w_(7,_0,_101) = 4.0\n",
      "w_(7,_0,_102) = 28.0\n",
      "w_(7,_0,_99) = 3.0\n",
      "w_(9,_0,_102) = 2.0\n",
      "x_(1,_0,_100) = 54.0\n",
      "x_(1,_0,_101) = 73.0\n",
      "x_(1,_0,_102) = 91.0\n",
      "x_(1,_0,_97) = 160.0\n",
      "x_(1,_0,_98) = 160.0\n",
      "x_(10,_0,_100) = 68.0\n",
      "x_(10,_0,_97) = 172.0\n",
      "x_(10,_0,_98) = 172.0\n",
      "x_(10,_0,_99) = 172.0\n",
      "x_(11,_0,_97) = 2.0\n",
      "x_(11,_0,_98) = 2.0\n",
      "x_(11,_0,_99) = 2.0\n",
      "x_(12,_0,_100) = 47.0\n",
      "x_(12,_0,_101) = 47.0\n",
      "x_(12,_0,_97) = 47.0\n",
      "x_(12,_0,_98) = 47.0\n",
      "x_(12,_0,_99) = 47.0\n",
      "x_(2,_0,_100) = 18.0\n",
      "x_(2,_0,_101) = 18.0\n",
      "x_(2,_0,_102) = 11.0\n",
      "x_(2,_0,_97) = 24.0\n",
      "x_(2,_0,_98) = 24.0\n",
      "x_(3,_0,_100) = 20.0\n",
      "x_(3,_0,_101) = 18.0\n",
      "x_(3,_0,_97) = 52.0\n",
      "x_(3,_0,_98) = 52.0\n",
      "x_(3,_0,_99) = 20.0\n",
      "x_(4,_0,_100) = 24.0\n",
      "x_(4,_0,_101) = 24.0\n",
      "x_(4,_0,_102) = 24.0\n",
      "x_(4,_0,_99) = 24.0\n",
      "x_(5,_0,_100) = 32.0\n",
      "x_(5,_0,_101) = 32.0\n",
      "x_(5,_0,_102) = 23.0\n",
      "x_(5,_0,_97) = 24.0\n",
      "x_(5,_0,_98) = 24.0\n",
      "x_(7,_0,_100) = 4.0\n",
      "x_(7,_0,_101) = 4.0\n",
      "x_(7,_0,_97) = 7.0\n",
      "x_(7,_0,_98) = 7.0\n",
      "x_(7,_0,_99) = 7.0\n",
      "x_(9,_0,_100) = 63.0\n",
      "x_(9,_0,_101) = 63.0\n",
      "x_(9,_0,_102) = 63.0\n",
      "x_(9,_0,_99) = 63.0\n"
     ]
    }
   ],
   "source": [
    "!pip install pulp\n",
    "import pulp\n",
    "\n",
    "#M = products_to_select\n",
    "N = 4\n",
    "M = [1, 3, 2, 4, 9, 5, 7, 10, 11, 12]\n",
    "T = [97, 98, 99, 100, 101, 102]\n",
    "\n",
    "# capacity c\n",
    "c_j = [1068, 964, 1004, 900]\n",
    "\n",
    "# Define the problem\n",
    "problem = pulp.LpProblem(\"Warehouse_Optimization\", pulp.LpMinimize)\n",
    "\n",
    "# Define decision variables\n",
    "v = pulp.LpVariable.dicts(\"v\", ((i, j, t) for i in M for j in range(N) for t in T), lowBound=0, cat=\"Continuous\")\n",
    "w = pulp.LpVariable.dicts(\"w\", ((i, j, t) for i in M for j in range(N) for t in T), lowBound=0, cat=\"Continuous\")\n",
    "x = pulp.LpVariable.dicts(\"x\", ((i, j, t) for i in M for j in range(N) for t in T), lowBound=0, cat=\"Continuous\")\n",
    "\n",
    "# Define objective function\n",
    "problem += pulp.lpSum(s_j[j] * v[i, j, t] + r_j[j] * w[i, j, t] for i in M for j in range(N) for t in T)\n",
    "\n",
    "# Add constraints\n",
    "for i in M:\n",
    "    for t in T:\n",
    "        problem += pulp.lpSum(v[i, j, t] for j in range(N)) == a_it[i][t-97]  # constraint 1\n",
    "        problem += pulp.lpSum(w[i, j, t] for j in range(N)) == d_it[i][t-97]  # constraint 2\n",
    "\n",
    "for i in M:\n",
    "    for j in range(N):\n",
    "        for t in T[:-1]:\n",
    "            problem += v[i, j, t] - w[i, j, t] + x[i, j, t] == x[i, j, t + 1]  # constraint 3\n",
    "\n",
    "for j in range(N):\n",
    "    for t in T:\n",
    "        problem += pulp.lpSum(x[i, j, t] + v[i, j, t] for i in M) <= c_j[j]  # constraint 4\n",
    "\n",
    "# Solve the problem\n",
    "problem.solve()\n",
    "\n",
    "# Print the results\n",
    "print(\"Status:\", pulp.LpStatus[problem.status])\n",
    "print(\"Optimal Solution:\", pulp.value(problem.objective))\n",
    "\n",
    "# Print decision variables\n",
    "for variable in problem.variables():\n",
    "    if variable.varValue > 0:\n",
    "        print(variable.name, \"=\", variable.varValue)"
   ]
  },
  {
   "cell_type": "markdown",
   "metadata": {
    "id": "Dfu1khQKYjHS"
   },
   "source": [
    "Note: explaination for the result:v_(product id,class No., Day) & w_(product id,class No., Day) ; and Class No. = [0,1,2,3] represent [class1,class2,class3,class4]; v_(1,_0,_100) means the arrivals of product 1 in Day 100 is assigned to class 1. "
   ]
  },
  {
   "cell_type": "markdown",
   "metadata": {
    "id": "xmEtubtjklXm"
   },
   "source": [
    "## **Question 2 ：Following the moving-average forecasting method, repeat Question (1) for each ofthe remaining weeks (week 18 to week 52). Which policy gives the smallest average weekly travel distance?**"
   ]
  },
  {
   "cell_type": "markdown",
   "metadata": {
    "id": "BKibXyvgoJGx"
   },
   "source": [
    "**Answer**\n",
    "\n",
    "based on up to date  calculation, **LPM gives the smallest average weekly travel distance.**\n",
    "\n",
    "\n",
    "1. Average weekly travel distance for LPM policy is 60791.48\n",
    "2. Average weekly travel distance for TOS policy is 24017.990733906663\n",
    "3. for TOD policy, we have also written a class assigning rule in Question 1(step2-2.4.5. TOD Policy). The only pending task is to write the code."
   ]
  },
  {
   "cell_type": "markdown",
   "metadata": {
    "id": "RSoR1Fterh3i"
   },
   "source": [
    "#### **2.1 LPM Policy**"
   ]
  },
  {
   "cell_type": "markdown",
   "metadata": {
    "id": "vZKHWXXn_iBQ"
   },
   "source": [
    "**Result : Average weekly travel distance for LPM policy is 60791.48** \n",
    "\n",
    "Detailed calculation is shown as below:"
   ]
  },
  {
   "cell_type": "code",
   "execution_count": 19,
   "metadata": {
    "colab": {
     "base_uri": "https://localhost:8080/",
     "height": 423
    },
    "id": "CVvDHSFKKO3F",
    "outputId": "e584ca0f-cbec-41d7-8039-62d0652c4d5c"
   },
   "outputs": [
    {
     "data": {
      "text/html": [
       "<div>\n",
       "<style scoped>\n",
       "    .dataframe tbody tr th:only-of-type {\n",
       "        vertical-align: middle;\n",
       "    }\n",
       "\n",
       "    .dataframe tbody tr th {\n",
       "        vertical-align: top;\n",
       "    }\n",
       "\n",
       "    .dataframe thead th {\n",
       "        text-align: right;\n",
       "    }\n",
       "</style>\n",
       "<table border=\"1\" class=\"dataframe\">\n",
       "  <thead>\n",
       "    <tr style=\"text-align: right;\">\n",
       "      <th></th>\n",
       "      <th>day</th>\n",
       "      <th>product</th>\n",
       "      <th>inbound</th>\n",
       "      <th>outbound</th>\n",
       "    </tr>\n",
       "  </thead>\n",
       "  <tbody>\n",
       "    <tr>\n",
       "      <th>0</th>\n",
       "      <td>1</td>\n",
       "      <td>1</td>\n",
       "      <td>18.0</td>\n",
       "      <td>0.0</td>\n",
       "    </tr>\n",
       "    <tr>\n",
       "      <th>1</th>\n",
       "      <td>1</td>\n",
       "      <td>3</td>\n",
       "      <td>0.0</td>\n",
       "      <td>10.0</td>\n",
       "    </tr>\n",
       "    <tr>\n",
       "      <th>2</th>\n",
       "      <td>1</td>\n",
       "      <td>4</td>\n",
       "      <td>1.0</td>\n",
       "      <td>0.0</td>\n",
       "    </tr>\n",
       "    <tr>\n",
       "      <th>3</th>\n",
       "      <td>1</td>\n",
       "      <td>5</td>\n",
       "      <td>55.0</td>\n",
       "      <td>0.0</td>\n",
       "    </tr>\n",
       "    <tr>\n",
       "      <th>4</th>\n",
       "      <td>1</td>\n",
       "      <td>7</td>\n",
       "      <td>17.0</td>\n",
       "      <td>10.0</td>\n",
       "    </tr>\n",
       "    <tr>\n",
       "      <th>...</th>\n",
       "      <td>...</td>\n",
       "      <td>...</td>\n",
       "      <td>...</td>\n",
       "      <td>...</td>\n",
       "    </tr>\n",
       "    <tr>\n",
       "      <th>888</th>\n",
       "      <td>96</td>\n",
       "      <td>3</td>\n",
       "      <td>0.0</td>\n",
       "      <td>72.0</td>\n",
       "    </tr>\n",
       "    <tr>\n",
       "      <th>889</th>\n",
       "      <td>96</td>\n",
       "      <td>4</td>\n",
       "      <td>70.0</td>\n",
       "      <td>0.0</td>\n",
       "    </tr>\n",
       "    <tr>\n",
       "      <th>890</th>\n",
       "      <td>96</td>\n",
       "      <td>5</td>\n",
       "      <td>0.0</td>\n",
       "      <td>17.0</td>\n",
       "    </tr>\n",
       "    <tr>\n",
       "      <th>892</th>\n",
       "      <td>96</td>\n",
       "      <td>9</td>\n",
       "      <td>0.0</td>\n",
       "      <td>1.0</td>\n",
       "    </tr>\n",
       "    <tr>\n",
       "      <th>893</th>\n",
       "      <td>96</td>\n",
       "      <td>11</td>\n",
       "      <td>0.0</td>\n",
       "      <td>1.0</td>\n",
       "    </tr>\n",
       "  </tbody>\n",
       "</table>\n",
       "<p>548 rows × 4 columns</p>\n",
       "</div>"
      ],
      "text/plain": [
       "     day  product  inbound  outbound\n",
       "0      1        1     18.0       0.0\n",
       "1      1        3      0.0      10.0\n",
       "2      1        4      1.0       0.0\n",
       "3      1        5     55.0       0.0\n",
       "4      1        7     17.0      10.0\n",
       "..   ...      ...      ...       ...\n",
       "888   96        3      0.0      72.0\n",
       "889   96        4     70.0       0.0\n",
       "890   96        5      0.0      17.0\n",
       "892   96        9      0.0       1.0\n",
       "893   96       11      0.0       1.0\n",
       "\n",
       "[548 rows x 4 columns]"
      ]
     },
     "execution_count": 19,
     "metadata": {},
     "output_type": "execute_result"
    }
   ],
   "source": [
    "df_merged_desired = df_merged[df_merged['product'].isin(desired_products)]\n",
    "df_merged_desired_16weeks = df_merged_desired[df_merged_desired['day']<=96]\n",
    "df_merged_desired_16weeks"
   ]
  },
  {
   "cell_type": "markdown",
   "metadata": {
    "id": "SQlm93teFgj4"
   },
   "source": [
    " - we use moving average to forcast demand:"
   ]
  },
  {
   "cell_type": "code",
   "execution_count": 20,
   "metadata": {
    "colab": {
     "base_uri": "https://localhost:8080/"
    },
    "id": "Q-y8zTJ8Zht4",
    "outputId": "1e7bf2cf-f7d2-4c58-f596-23bf6eee5887"
   },
   "outputs": [
    {
     "name": "stdout",
     "output_type": "stream",
     "text": [
      "      day  product  inbound   outbound\n",
      "0       1        1     18.0   0.000000\n",
      "1       1        3      0.0  10.000000\n",
      "2       1        4      1.0   0.000000\n",
      "3       1        5     55.0   0.000000\n",
      "4       1        7     17.0  10.000000\n",
      "...   ...      ...      ...        ...\n",
      "2643  308       12      0.0  11.344262\n",
      "2644  309       12      0.0  11.344262\n",
      "2645  310       12      0.0  11.344262\n",
      "2646  311       12      0.0  11.433333\n",
      "2647  312       12      0.0  11.423729\n",
      "\n",
      "[2648 rows x 4 columns]\n"
     ]
    }
   ],
   "source": [
    "all_results = []\n",
    "for i in range (17,52):\n",
    "  start_day = i*6 +1\n",
    "  end_day = i*6 +6\n",
    "  moving_average_days = 96\n",
    "\n",
    "  filtered_df = df_merged_desired[df_merged_desired['product'].isin(desired_products)]\n",
    "\n",
    "  filtered_df['inbound_ma'] = filtered_df.groupby('product')['inbound'].transform(lambda x: x.rolling(window=moving_average_days, min_periods=1).mean())\n",
    "  filtered_df['outbound_ma'] = filtered_df.groupby('product')['outbound'].transform(lambda x: x.rolling(window=moving_average_days, min_periods=1).mean())\n",
    "\n",
    "  results = []\n",
    "  for product in desired_products:\n",
    "      product_data = filtered_df[filtered_df['product'] == product]\n",
    "\n",
    "      for day in range(start_day, end_day + 1):\n",
    "          lower_bound = day - 96\n",
    "          upper_bound = day - 1\n",
    "          product_data_filtered = product_data[(product_data['day'] >= lower_bound) & (product_data['day'] <= upper_bound)]\n",
    "\n",
    "          average_inbound = product_data_filtered['inbound'].mean()\n",
    "          average_outbound = product_data_filtered['outbound'].mean()\n",
    "          results.append({'day': day, 'product': product, 'inbound': average_inbound,'outbound': average_outbound})\n",
    "\n",
    "  result_df = pd.DataFrame(results)\n",
    "  all_results.append(result_df)\n",
    "\n",
    "final_result_df = pd.concat(all_results, ignore_index=True)\n",
    "#print(final_result_df)\n",
    "\n",
    "concatenated_df = pd.concat([df_merged_desired_16weeks, final_result_df], ignore_index=True)\n",
    "print(concatenated_df)"
   ]
  },
  {
   "cell_type": "markdown",
   "metadata": {
    "id": "ISdhGXd5Fr9V"
   },
   "source": [
    "- calculate average weekly travel distance for LPM policy"
   ]
  },
  {
   "cell_type": "code",
   "execution_count": 21,
   "metadata": {
    "id": "_GrJxN5FwCyI"
   },
   "outputs": [],
   "source": [
    "# Create an empty numpy array to store the values of a_it\n",
    "a_it = np.zeros((20, 313))\n",
    "d_it = np.zeros((20, 313))\n",
    "\n",
    "# Loop through each product and day and get the corresponding value of a_it\n",
    "for i in range(20):\n",
    "    for t in range(97,313):\n",
    "        day = t\n",
    "        if i in concatenated_df['product'].values:\n",
    "            inbound_values = concatenated_df.loc[(concatenated_df['product'] == i) & (concatenated_df['day'] == day), 'inbound'].values\n",
    "            if len(inbound_values) > 0:\n",
    "                a_it[i][t] = inbound_values[0]\n",
    "            else:\n",
    "                a_it[i][t] = 0\n",
    "        else:\n",
    "            a_it[i][t] = 0\n",
    "        \n",
    "\n",
    "for i in range(20):\n",
    "    for t in range(97,313):\n",
    "        day = t\n",
    "        if i in concatenated_df['product'].values:\n",
    "            outbound_values = concatenated_df.loc[(concatenated_df['product'] == i) & (concatenated_df['day'] == day), 'outbound'].values\n",
    "            if len(outbound_values) > 0:\n",
    "                d_it[i][t] = outbound_values[0]\n",
    "            else:\n",
    "                d_it[i][t] = 0\n",
    "        else:\n",
    "            d_it[i][t] = 0"
   ]
  },
  {
   "cell_type": "code",
   "execution_count": 22,
   "metadata": {
    "colab": {
     "base_uri": "https://localhost:8080/"
    },
    "id": "cmV5eFGrjqdA",
    "outputId": "e10c4570-03e8-4eab-f7b0-a1c5b0738a16"
   },
   "outputs": [
    {
     "name": "stdout",
     "output_type": "stream",
     "text": [
      "Requirement already satisfied: pulp in c:\\users\\26741\\anaconda3\\lib\\site-packages (2.7.0)\n"
     ]
    },
    {
     "ename": "NameError",
     "evalue": "name 'LpProblem' is not defined",
     "output_type": "error",
     "traceback": [
      "\u001b[1;31m---------------------------------------------------------------------------\u001b[0m",
      "\u001b[1;31mNameError\u001b[0m                                 Traceback (most recent call last)",
      "\u001b[1;32m~\\AppData\\Local\\Temp/ipykernel_17364/2793199816.py\u001b[0m in \u001b[0;36m<module>\u001b[1;34m\u001b[0m\n\u001b[0;32m     12\u001b[0m     \u001b[0mc_j\u001b[0m \u001b[1;33m=\u001b[0m \u001b[1;33m[\u001b[0m\u001b[1;36m1068\u001b[0m\u001b[1;33m,\u001b[0m \u001b[1;36m964\u001b[0m\u001b[1;33m,\u001b[0m \u001b[1;36m1004\u001b[0m\u001b[1;33m,\u001b[0m \u001b[1;36m900\u001b[0m\u001b[1;33m]\u001b[0m\u001b[1;33m\u001b[0m\u001b[1;33m\u001b[0m\u001b[0m\n\u001b[0;32m     13\u001b[0m \u001b[1;33m\u001b[0m\u001b[0m\n\u001b[1;32m---> 14\u001b[1;33m     \u001b[0mproblem\u001b[0m \u001b[1;33m=\u001b[0m \u001b[0mLpProblem\u001b[0m\u001b[1;33m(\u001b[0m\u001b[1;34m\"Warehouse_Optimization\"\u001b[0m\u001b[1;33m,\u001b[0m \u001b[0mLpMinimize\u001b[0m\u001b[1;33m)\u001b[0m\u001b[1;33m\u001b[0m\u001b[1;33m\u001b[0m\u001b[0m\n\u001b[0m\u001b[0;32m     15\u001b[0m \u001b[1;33m\u001b[0m\u001b[0m\n\u001b[0;32m     16\u001b[0m     \u001b[0mv\u001b[0m \u001b[1;33m=\u001b[0m \u001b[0mLpVariable\u001b[0m\u001b[1;33m.\u001b[0m\u001b[0mdicts\u001b[0m\u001b[1;33m(\u001b[0m\u001b[1;34m\"v\"\u001b[0m\u001b[1;33m,\u001b[0m \u001b[1;33m(\u001b[0m\u001b[1;33m(\u001b[0m\u001b[0mi\u001b[0m\u001b[1;33m,\u001b[0m \u001b[0mj\u001b[0m\u001b[1;33m,\u001b[0m \u001b[0mt\u001b[0m\u001b[1;33m)\u001b[0m \u001b[1;32mfor\u001b[0m \u001b[0mi\u001b[0m \u001b[1;32min\u001b[0m \u001b[0mM\u001b[0m \u001b[1;32mfor\u001b[0m \u001b[0mj\u001b[0m \u001b[1;32min\u001b[0m \u001b[0mrange\u001b[0m\u001b[1;33m(\u001b[0m\u001b[0mN\u001b[0m\u001b[1;33m)\u001b[0m \u001b[1;32mfor\u001b[0m \u001b[0mt\u001b[0m \u001b[1;32min\u001b[0m \u001b[0mT\u001b[0m\u001b[1;33m)\u001b[0m\u001b[1;33m,\u001b[0m \u001b[0mlowBound\u001b[0m\u001b[1;33m=\u001b[0m\u001b[1;36m0\u001b[0m\u001b[1;33m,\u001b[0m \u001b[0mcat\u001b[0m\u001b[1;33m=\u001b[0m\u001b[1;34m\"Continuous\"\u001b[0m\u001b[1;33m)\u001b[0m\u001b[1;33m\u001b[0m\u001b[1;33m\u001b[0m\u001b[0m\n",
      "\u001b[1;31mNameError\u001b[0m: name 'LpProblem' is not defined"
     ]
    }
   ],
   "source": [
    "!pip install pulp\n",
    "import pulp\n",
    "\n",
    "N = 4\n",
    "M = [1, 3, 2, 4, 9, 5, 7, 10, 11, 12]\n",
    "\n",
    "result_list = []  # create an empty list to store the objective function values\n",
    "\n",
    "for k in range(18, 52):\n",
    "    T = [6 * k + 1, 6 * k + 2, 6 * k + 3, 6 * k + 4, 6 * k + 5, 6 * k + 6]\n",
    "\n",
    "    c_j = [1068, 964, 1004, 900]\n",
    "\n",
    "    problem = LpProblem(\"Warehouse_Optimization\", LpMinimize)\n",
    "\n",
    "    v = LpVariable.dicts(\"v\", ((i, j, t) for i in M for j in range(N) for t in T), lowBound=0, cat=\"Continuous\")\n",
    "    w = LpVariable.dicts(\"w\", ((i, j, t) for i in M for j in range(N) for t in T), lowBound=0, cat=\"Continuous\")\n",
    "    x = LpVariable.dicts(\"x\", ((i, j, t) for i in M for j in range(N) for t in T), lowBound=0, cat=\"Continuous\")\n",
    "\n",
    "    problem += lpSum(s_j[j] * v[i, j, t] + r_j[j] * w[i, j, t] for i in M for j in range(N) for t in T)\n",
    "\n",
    "    for i in M:\n",
    "        for t in T:\n",
    "            problem += lpSum(v[i, j, t] for j in range(N)) == a_it[i][t]\n",
    "            problem += lpSum(w[i, j, t] for j in range(N)) == d_it[i][t]\n",
    "\n",
    "    for i in M:\n",
    "        for j in range(N):\n",
    "            for t in T[:-1]:\n",
    "                problem += v[i, j, t] - w[i, j, t] + x[i, j, t] == x[i, j, t + 1]\n",
    "\n",
    "    for j in range(N):\n",
    "        for t in T:\n",
    "            problem += lpSum(x[i, j, t] + v[i, j, t] for i in M) <= c_j[j]\n",
    "\n",
    "    problem.solve()\n",
    "\n",
    "    result_list.append(value(problem.objective))  # append the objective function value to the list\n",
    "\n",
    "    print(f\"Status week{k}: {LpStatus[problem.status]}\")\n",
    "    print(\"Optimal Solution:\", value(problem.objective))\n",
    "\n",
    "mean_result = sum(result_list) / len(result_list)  # calculate the mean of the objective function values\n",
    "\n",
    "print(f\"Mean of objective function values: {mean_result}\")\n"
   ]
  },
  {
   "cell_type": "markdown",
   "metadata": {
    "id": "o1wSp-eFkriA"
   },
   "source": [
    "## **Question 3 ：For Ouestion (2). could Lim reduce the average weekly travel distance for each policy if she increased the number of classes N? When Lim changed the value of N she needed to decide on how the storage locations were grouped into different classes.?**"
   ]
  },
  {
   "cell_type": "markdown",
   "metadata": {
    "id": "w5mWZCeHk3jp"
   },
   "source": [
    "**Answer**:\n",
    "\n",
    "**Yes, based on up to date calculation, increasing N from 4 to 8  has decreased the average weekly travel distance for LPM and TOS policy** \n",
    "\n",
    "\n",
    "**Detailed reasoning and coding shown as below:**\n",
    "\n",
    "**Reason:**\n",
    "Our method of partitioning the warehouse (as described in section 2.1 & 2.2) involved dividing the rectangular warehouse into four vertical classes based on the inbound and outbound distance frequency of each section. Class 1 is located closest to the door, followed by Class 2, Class 3, and Class 4. The mean of the distance from sections to the indoor and outdoor areas was used to calculate the store distance (s_j) and retrieve distance (r_j).\n",
    "\n",
    "As the value of **N increases to from 4 to 8 classes**, the storage locations are grouped into more classes, each representing a more specific range of turnover rates. Products assigned to Class 1, which is located closer to the indoor and outdoor areas, will have reduced travel distance regardless of their assigned turnover rate (TOS or TOD). This fine-grained assignment of products to classes based on their turnover rates, s_j, and r_j can further optimize the total travel distance.\n",
    "\n",
    "\n",
    "**However** , increasing the number of classes (N) is not always beneficial. There are several factors to take into account when deciding on the optimal number of classes\n",
    "\n",
    "- **Complexity:** Increasing the number of classes can lead to more complexity in managing and maintaining the warehouse layout, as well as in the implementation of the storage and retrieval policies. This might result in additional costs and could offset the gains achieved through reduced travel distances.\n",
    "\n",
    "- **Diminishing returns:** At some point, the incremental improvement in travel distance reduction may become negligible, meaning that adding more classes may not lead to significant improvements in the overall performance of the warehouse. \n",
    "\n",
    "To determine the optimal number of classes, it is crucial to analyze the specific characteristics and requirements of the warehouse and weigh the potential benefits of reduced travel distance against the costs and drawbacks associated with increasing the number of classes. "
   ]
  },
  {
   "cell_type": "markdown",
   "metadata": {
    "id": "-BPuvHg7p_9X"
   },
   "source": [
    "#### **3.1 We increase N from 4 to 8:**\n",
    "\n",
    "partitioning warehouse into 8 classes beased on inbound and outbound distance frequency of each section "
   ]
  },
  {
   "cell_type": "code",
   "execution_count": 23,
   "metadata": {
    "colab": {
     "base_uri": "https://localhost:8080/",
     "height": 718
    },
    "id": "wckUelk_qAmf",
    "outputId": "3444e839-0f25-4bd3-e675-8d6454475be3"
   },
   "outputs": [
    {
     "data": {
      "image/png": "[encoded data removed]",
      "text/plain": [
       "<Figure size 864x576 with 1 Axes>"
      ]
     },
     "metadata": {
      "needs_background": "light"
     },
     "output_type": "display_data"
    }
   ],
   "source": [
    "# Import necessary libraries\n",
    "import numpy as np\n",
    "import matplotlib.pyplot as plt\n",
    "from matplotlib import colors\n",
    "\n",
    "# Set the coordinate for in_door and out_door\n",
    "in_door = (0, 37)\n",
    "out_door = (2, 0)\n",
    "\n",
    "# Set an array to collect all spaces that forklift needs to move to\n",
    "spaces = []\n",
    "for row in range(1, 48):\n",
    "    if row % 5 != 0:\n",
    "        continue\n",
    "    for col in range(0, 54):\n",
    "        if col < 4 or col > 51:\n",
    "            continue\n",
    "\n",
    "        x = col\n",
    "        y_even = row + 1\n",
    "        y_odd = row - 2\n",
    "\n",
    "        spaces.append((x, y_odd))\n",
    "        spaces.append((x, y_even))\n",
    "\n",
    "# Calculate the distance that forklift needs to move to\n",
    "distances = []\n",
    "for space in spaces:\n",
    "    dist_to_in_door = abs(space[0] - in_door[0]) * (73.125 / 54) + abs(space[1] - in_door[1]) * (65 / 48)\n",
    "    dist_to_out_door = abs(space[0] - out_door[0]) * (73.125 / 54) + abs(space[1] - out_door[1]) * (65 / 48)\n",
    "    total_dist = dist_to_in_door + dist_to_out_door\n",
    "    distances.append((space, total_dist))\n",
    "\n",
    "# Sort the distances\n",
    "distances.sort(key=lambda x: x[1])\n",
    "\n",
    "# And then divide it into 8 classes by percentile\n",
    "dist_values = [x[1] for x in distances]\n",
    "percentiles = np.percentile(dist_values, [12.5, 25, 37.5, 50, 62.5, 75, 87.5])\n",
    "class1 = [x[0] for x in distances if x[1] <= percentiles[0]]\n",
    "class2 = [x[0] for x in distances if percentiles[0] < x[1] <= percentiles[1]]\n",
    "class3 = [x[0] for x in distances if percentiles[1] < x[1] <= percentiles[2]]\n",
    "class4 = [x[0] for x in distances if percentiles[2] < x[1] <= percentiles[3]]\n",
    "class5 = [x[0] for x in distances if percentiles[3] < x[1] <= percentiles[4]]\n",
    "class6 = [x[0] for x in distances if percentiles[4] < x[1] <= percentiles[5]]\n",
    "class7 = [x[0] for x in distances if percentiles[5] < x[1] <= percentiles[6]]\n",
    "class8 = [x[0] for x in distances if x[1] > percentiles[6]]\n",
    "\n",
    "# Define the colors for the classes using gradient colormap\n",
    "cmap = colors.LinearSegmentedColormap.from_list(\"\", [\"red\", \"orange\", \"yellow\", \"green\", \"blue\", \"purple\", \"pink\", \"gray\"])\n",
    "\n",
    "# Create the plot\n",
    "fig, ax = plt.subplots(figsize=(12, 8))\n",
    "\n",
    "# Plot the spaces\n",
    "ax.scatter([space[0] for space in class1], [space[1] for space in class1], color=cmap(1/8), label='Class 1', s=50)\n",
    "ax.scatter([space[0] for space in class2], [space[1] for space in class2], color=cmap(2/8), label='Class 2', s=50)\n",
    "ax.scatter([space[0] for space in class3], [space[1] for space in class3], color=cmap(3/8), label='Class 3', s=50)\n",
    "ax.scatter([space[0] for space in class4], [space[1] for space in class4], color=cmap(4/8), label='Class 4', s=50)\n",
    "ax.scatter([space[0] for space in class5], [space[1] for space in class5], color=cmap(5/8), label='Class 5', s=50)\n",
    "ax.scatter([space[0] for space in class6], [space[1] for space in class6], color=cmap(6/8), label='Class 6', s=50)\n",
    "ax.scatter([space[0] for space in class7], [space[1] for space in class7], color=cmap(7/8), label='Class 7', s=50)\n",
    "ax.scatter([space[0] for space in class8], [space[1] for space in class8], color=cmap(8/8), label='Class 8', s=50)\n",
    "\n",
    "# Plot the in_door and out_door\n",
    "ax.scatter(in_door[0], in_door[1], color='black', label='In Door', s=100)\n",
    "ax.scatter(out_door[0], out_door[1], color='red', label='Out Door', s=100)\n",
    "\n",
    "# Set the title and labels\n",
    "ax.set_title('Warehouse Space Plot')\n",
    "ax.set_xlabel('X')\n",
    "ax.set_ylabel('Y')\n",
    "\n",
    "# Add the legend\n",
    "ax.legend()\n",
    "\n",
    "# Show the plot\n",
    "plt.show()"
   ]
  },
  {
   "cell_type": "markdown",
   "metadata": {
    "id": "CfhHshB7qRDC"
   },
   "source": [
    "#### **3.2 Calculate the distance from class to in-door and out-door**\n",
    "\n",
    "we use average distance to estimate s_j & r_j for 8 classes in each"
   ]
  },
  {
   "cell_type": "code",
   "execution_count": null,
   "metadata": {
    "colab": {
     "base_uri": "https://localhost:8080/"
    },
    "id": "nnQMc9cZqXfk",
    "outputId": "73df3a49-e041-4c61-c391-0de6ec4955b1"
   },
   "outputs": [
    {
     "name": "stdout",
     "output_type": "stream",
     "text": [
      "[[ 31.13329475  35.52179784]\n",
      " [ 37.74193548  47.67977151]\n",
      " [ 46.19212963  56.72453704]\n",
      " [ 53.984375    64.921875  ]\n",
      " [ 62.4609375   72.6171875 ]\n",
      " [ 70.56712963  81.09953704]\n",
      " [ 78.69212963  89.22453704]\n",
      " [ 83.03102355 101.5772192 ]]\n"
     ]
    }
   ],
   "source": [
    "# calculate average distance to in_door and out_door for each class\n",
    "class_distances = [class1, class2, class3, class4,class5, class6, class7, class8]\n",
    "\n",
    "avg_distances = np.zeros((8, 2))  # create a matrix of zeros with shape (8, 2)\n",
    "\n",
    "for i in range(8):\n",
    "    distances = class_distances[i]\n",
    "    total_dist_in = 0\n",
    "    total_dist_out = 0\n",
    "    for space in distances:\n",
    "        dist_to_in_door = abs(space[0] - in_door[0])*(73.125/54) + abs(space[1] - in_door[1])*(65/48)\n",
    "        dist_to_out_door = abs(space[0] - out_door[0])*(73.125/54) + abs(space[1] - out_door[1])*(65/48)\n",
    "        total_dist_in += dist_to_in_door\n",
    "        total_dist_out += dist_to_out_door\n",
    "    avg_dist_in = total_dist_in / len(distances)\n",
    "    avg_dist_out = total_dist_out / len(distances)\n",
    "    avg_distances[i, 0] = avg_dist_in  # assign the average distances to the matrix\n",
    "    avg_distances[i, 1] = avg_dist_out\n",
    "\n",
    "print(avg_distances)"
   ]
  },
  {
   "cell_type": "code",
   "execution_count": null,
   "metadata": {
    "colab": {
     "base_uri": "https://localhost:8080/"
    },
    "id": "2IzVmAUzqaJQ",
    "outputId": "68f97c78-e75f-4650-f57c-20e015ed1e0e"
   },
   "outputs": [
    {
     "name": "stdout",
     "output_type": "stream",
     "text": [
      "[31.13329475 37.74193548 46.19212963 53.984375   62.4609375  70.56712963\n",
      " 78.69212963 83.03102355]\n",
      "[ 35.52179784  47.67977151  56.72453704  64.921875    72.6171875\n",
      "  81.09953704  89.22453704 101.5772192 ]\n"
     ]
    }
   ],
   "source": [
    "# extract the first column as s\n",
    "# extract the second column as r\n",
    "s_j = avg_distances[:, 0]\n",
    "r_j = avg_distances[:, 1]\n",
    "# print s_j\n",
    "print(s_j)\n",
    "print(r_j)"
   ]
  },
  {
   "cell_type": "markdown",
   "metadata": {
    "id": "gr98_KY2qesv"
   },
   "source": [
    "#### **3.3 Calculate the capacity for 8 classes in each:**"
   ]
  },
  {
   "cell_type": "markdown",
   "metadata": {
    "id": "wFvvfeEWqhbe"
   },
   "source": [
    "we calculare the capacity based on the number of section in each classes and the number of level in each tracks in the warehouse.\n",
    "\n",
    "the result is shown as below:"
   ]
  },
  {
   "cell_type": "code",
   "execution_count": null,
   "metadata": {
    "colab": {
     "base_uri": "https://localhost:8080/"
    },
    "id": "PDCDDhD2qkLb",
    "outputId": "23c5d96b-e396-4d9c-8b76-a1982bf84af8"
   },
   "outputs": [
    {
     "name": "stdout",
     "output_type": "stream",
     "text": [
      "   Class  Capacity\n",
      "0      1       502\n",
      "1      2       566\n",
      "2      3       492\n",
      "3      4       472\n",
      "4      5       512\n",
      "5      6       492\n",
      "6      7       492\n",
      "7      8       408\n"
     ]
    }
   ],
   "source": [
    "import pandas as pd\n",
    "Capacity = [502,566,\t492,\t472,\t512,\t492,\t492\t,408]\n",
    "Class = [1,2,3,4,5,6,7,8]\n",
    "Capacity_8class = pd.DataFrame({'Class': Class, 'Capacity': Capacity})\n",
    "\n",
    "print(Capacity_8class)"
   ]
  },
  {
   "cell_type": "markdown",
   "metadata": {
    "id": "5WoE8SJs1iNQ"
   },
   "source": [
    "### **3.4 Evaluate the preformance of LPM method if increasing N**"
   ]
  },
  {
   "cell_type": "markdown",
   "metadata": {
    "id": "IPyszF5oCrT7"
   },
   "source": [
    "**Result : Average weekly travel distance for LPM policy is 62642.01** （这是全部的，如果要用前三周算 average需要换一下）\n",
    "\n",
    "Detailed calculation is shown as below:"
   ]
  },
  {
   "cell_type": "code",
   "execution_count": null,
   "metadata": {
    "colab": {
     "base_uri": "https://localhost:8080/"
    },
    "id": "h-7YEDDdCIAs",
    "outputId": "fa7c8727-5004-4ca5-b5e6-67d69dbf3b70"
   },
   "outputs": [
    {
     "name": "stdout",
     "output_type": "stream",
     "text": [
      "Looking in indexes: https://pypi.org/simple, https://us-python.pkg.dev/colab-wheels/public/simple/\n",
      "Requirement already satisfied: pulp in /usr/local/lib/python3.10/dist-packages (2.7.0)\n",
      "Status week18: Optimal\n",
      "Optimal Solution: 63346.057887980416\n",
      "Status week19: Optimal\n",
      "Optimal Solution: 64236.237534806656\n",
      "Status week20: Optimal\n",
      "Optimal Solution: 65120.85067393173\n",
      "Status week21: Optimal\n",
      "Optimal Solution: 65314.205369252\n",
      "Status week22: Optimal\n",
      "Optimal Solution: 66622.01885807041\n",
      "Status week23: Optimal\n",
      "Optimal Solution: 65682.6528890951\n",
      "Status week24: Optimal\n",
      "Optimal Solution: 65240.32528957113\n",
      "Status week25: Optimal\n",
      "Optimal Solution: 64279.72709200866\n",
      "Status week26: Optimal\n",
      "Optimal Solution: 63689.76525561984\n",
      "Status week27: Optimal\n",
      "Optimal Solution: 65656.18874675501\n",
      "Status week28: Optimal\n",
      "Optimal Solution: 66411.3550057249\n",
      "Status week29: Optimal\n",
      "Optimal Solution: 66725.52625959596\n",
      "Status week30: Optimal\n",
      "Optimal Solution: 65598.71874183555\n",
      "Status week31: Optimal\n",
      "Optimal Solution: 65039.08826334086\n",
      "Status week32: Optimal\n",
      "Optimal Solution: 65356.316991010994\n",
      "Status week33: Optimal\n",
      "Optimal Solution: 64431.754344076755\n",
      "Status week34: Optimal\n",
      "Optimal Solution: 64863.43780120125\n",
      "Status week35: Optimal\n",
      "Optimal Solution: 64431.77571232915\n",
      "Status week36: Optimal\n",
      "Optimal Solution: 63865.04891981698\n",
      "Status week37: Optimal\n",
      "Optimal Solution: 63714.521767467144\n",
      "Status week38: Optimal\n",
      "Optimal Solution: 62833.0551841361\n",
      "Status week39: Optimal\n",
      "Optimal Solution: 63060.365455358406\n",
      "Status week40: Optimal\n",
      "Optimal Solution: 63230.43557631472\n",
      "Status week41: Optimal\n",
      "Optimal Solution: 61470.29117454203\n",
      "Status week42: Optimal\n",
      "Optimal Solution: 61682.26692786584\n",
      "Status week43: Optimal\n",
      "Optimal Solution: 61642.672208009804\n",
      "Status week44: Optimal\n",
      "Optimal Solution: 60214.80252633364\n",
      "Status week45: Optimal\n",
      "Optimal Solution: 58706.69692118087\n",
      "Status week46: Optimal\n",
      "Optimal Solution: 58133.59502667879\n",
      "Status week47: Optimal\n",
      "Optimal Solution: 57671.790014339946\n",
      "Status week48: Optimal\n",
      "Optimal Solution: 56520.788399759294\n",
      "Status week49: Optimal\n",
      "Optimal Solution: 55407.85895583235\n",
      "Status week50: Optimal\n",
      "Optimal Solution: 55119.252786680416\n",
      "Status week51: Optimal\n",
      "Optimal Solution: 54509.06978664667\n",
      "Mean of objective function values: 62642.01512785793\n"
     ]
    }
   ],
   "source": [
    "!pip install pulp\n",
    "import pulp\n",
    "\n",
    "N = 8\n",
    "M = [1, 3, 2, 4, 9, 5, 7, 10, 11, 12]\n",
    "\n",
    "result_list = []  # create an empty list to store the objective function values\n",
    "\n",
    "for k in range(18, 52):\n",
    "    T = [6 * k + 1, 6 * k + 2, 6 * k + 3, 6 * k + 4, 6 * k + 5, 6 * k + 6]\n",
    "\n",
    "    c_j = [502, 566, 492, 472, 512, 492, 492, 408]\n",
    "\n",
    "    problem = LpProblem(\"Warehouse_Optimization\", LpMinimize)\n",
    "\n",
    "    v = LpVariable.dicts(\"v\", ((i, j, t) for i in M for j in range(N) for t in T), lowBound=0, cat=\"Continuous\")\n",
    "    w = LpVariable.dicts(\"w\", ((i, j, t) for i in M for j in range(N) for t in T), lowBound=0, cat=\"Continuous\")\n",
    "    x = LpVariable.dicts(\"x\", ((i, j, t) for i in M for j in range(N) for t in T), lowBound=0, cat=\"Continuous\")\n",
    "\n",
    "    problem += lpSum(s_j[j] * v[i, j, t] + r_j[j] * w[i, j, t] for i in M for j in range(N) for t in T)\n",
    "\n",
    "    for i in M:\n",
    "        for t in T:\n",
    "            problem += lpSum(v[i, j, t] for j in range(N)) == a_it[i][t]\n",
    "            problem += lpSum(w[i, j, t] for j in range(N)) == d_it[i][t]\n",
    "\n",
    "    for i in M:\n",
    "        for j in range(N):\n",
    "            for t in T[:-1]:\n",
    "                problem += v[i, j, t] - w[i, j, t] + x[i, j, t] == x[i, j, t + 1]\n",
    "\n",
    "    for j in range(N):\n",
    "        for t in T:\n",
    "            problem += lpSum(x[i, j, t] + v[i, j, t] for i in M) <= c_j[j]\n",
    "\n",
    "    problem.solve()\n",
    "\n",
    "    result_list.append(value(problem.objective))  # append the objective function value to the list\n",
    "\n",
    "    print(f\"Status week{k}: {LpStatus[problem.status]}\")\n",
    "    print(\"Optimal Solution:\", value(problem.objective))\n",
    "\n",
    "mean_result = sum(result_list) / len(result_list)  # calculate the mean of the objective function values\n",
    "\n",
    "print(f\"Mean of objective function values: {mean_result}\")\n"
   ]
  },
  {
   "cell_type": "code",
   "execution_count": null,
   "metadata": {
    "colab": {
     "base_uri": "https://localhost:8080/"
    },
    "id": "NHSrXWKsCHyu",
    "outputId": "1c4b61a6-e0ad-45a0-bca8-b162042ba799"
   },
   "outputs": [
    {
     "name": "stdout",
     "output_type": "stream",
     "text": [
      "Mean of the first three objective function values: 64234.382032239606\n"
     ]
    }
   ],
   "source": [
    "\n",
    "mean_result = sum(result_list[:3]) / 3  # calculate the mean of the first three objective function values\n",
    "\n",
    "print(f\"Mean of the first three objective function values: {mean_result}\")"
   ]
  },
  {
   "cell_type": "markdown",
   "metadata": {
    "id": "mKrTYl8ErF2d"
   },
   "source": [
    "## **Question 4 ：For Ouestion (2), what was the performance of each policy if the number of products M increased?**"
   ]
  },
  {
   "cell_type": "markdown",
   "metadata": {
    "id": "ta6cEg5azNYT"
   },
   "source": [
    "**Answer**\n",
    "\n",
    "Based on our calculation shown below, increasing the number of Product M would increase the travel distance of the policy.(eg. when M is increased from 10 to 15, Average weekly travel distance for LPM policy is increased from 60791.48 to 81165.67)"
   ]
  },
  {
   "cell_type": "markdown",
   "metadata": {
    "id": "UR7bVcYgy3CB"
   },
   "source": [
    "### **we increase M from 10 to 15**\n",
    "\n",
    "**4.1 Calculate flow rate to select Top 15 product**\n",
    "\n",
    "I calculate the flow amount for the first 16 weeks to pick up the **top 15** product (we need to predict later) that has the largest flow amount. And use these 15 products to forecast the optimized distance."
   ]
  },
  {
   "cell_type": "markdown",
   "metadata": {
    "id": "Bm05-nuWy36a"
   },
   "source": []
  },
  {
   "cell_type": "code",
   "execution_count": null,
   "metadata": {
    "colab": {
     "base_uri": "https://localhost:8080/"
    },
    "id": "imuf8KgUy8Vc",
    "outputId": "e6bfbd66-0c93-4edb-8602-b97da8f1bd2f"
   },
   "outputs": [
    {
     "name": "stderr",
     "output_type": "stream",
     "text": [
      "<ipython-input-143-d05e509a5fea>:14: FutureWarning: Indexing with multiple keys (implicitly converted to a tuple of keys) will be deprecated, use a list instead.\n",
      "  df_flow = df_merged.groupby(['day', 'product'])['inbound', 'outbound'].sum()\n"
     ]
    },
    {
     "data": {
      "text/plain": [
       "product\n",
       "1     3315.0\n",
       "3     1423.0\n",
       "2     1339.0\n",
       "4     1271.0\n",
       "9     1106.0\n",
       "5     1030.0\n",
       "7     1015.0\n",
       "10     968.0\n",
       "11     919.0\n",
       "12     904.0\n",
       "8      861.0\n",
       "16     861.0\n",
       "14     821.0\n",
       "6      717.0\n",
       "13     630.0\n",
       "Name: flow_amount, dtype: float64"
      ]
     },
     "execution_count": 143,
     "metadata": {},
     "output_type": "execute_result"
    }
   ],
   "source": [
    "#Then merge two xlsx files using outer join on 'day' and 'product'\n",
    "df_merged = pd.merge(df_inbound, df_outbound, on=['day', 'product'], how='outer')\n",
    "\n",
    "# Fill NaN values with 0\n",
    "df_merged.fillna(0, inplace=True)\n",
    "\n",
    "# Sort the merged dataframe by 'day' and 'product'\n",
    "df_merged.sort_values(['day', 'product'], inplace=True)\n",
    "\n",
    "# Reset the index\n",
    "df_merged.reset_index(drop=True, inplace=True)\n",
    "\n",
    "# group the data by day and product, and calculate the sum of inbound and outbound amounts\n",
    "df_flow = df_merged.groupby(['day', 'product'])['inbound', 'outbound'].sum()\n",
    "\n",
    "# calculate the flow amount by adding inbound and outbound amounts\n",
    "df_flow['flow_amount'] = df_flow['inbound'] + df_flow['outbound']\n",
    "\n",
    "# filter the data for the first 16 weeks\n",
    "df_flow_16weeks = df_flow[df_flow.index.get_level_values('day') <= 96]\n",
    "\n",
    "# calculate the average flow amount for each product and sort by descending order\n",
    "df_ranked = df_flow_16weeks.groupby('product')['flow_amount'].sum().sort_values(ascending=False)\n",
    "df_ranked.head(15)"
   ]
  },
  {
   "cell_type": "markdown",
   "metadata": {
    "id": "ERnwotsyzB8B"
   },
   "source": [
    "Here, we can see the top 10 flow amount products are 1,3,2,4,9,5,7,10,11,12,8,16,14,6,13"
   ]
  },
  {
   "cell_type": "code",
   "execution_count": null,
   "metadata": {
    "id": "-9cN3o7TzCf1"
   },
   "outputs": [],
   "source": [
    "desired_products = [1, 3, 2, 4, 9, 5, 7, 10, 11, 12,8,16,14,6,13]\n",
    "filtered_data15 = df_merged[df_merged['product'].isin(desired_products)]"
   ]
  },
  {
   "cell_type": "markdown",
   "metadata": {
    "id": "oWXLkA-k3e4I"
   },
   "source": [
    "**4.2 Estimate the minimum initial inventory for Top 15 prodcut**"
   ]
  },
  {
   "cell_type": "code",
   "execution_count": null,
   "metadata": {
    "colab": {
     "base_uri": "https://localhost:8080/"
    },
    "id": "u5rZG-7F3gea",
    "outputId": "a1d410d8-b3c3-42a9-8d43-c6283c974795"
   },
   "outputs": [
    {
     "name": "stdout",
     "output_type": "stream",
     "text": [
      "    product  min_initial_inventory\n",
      "0         1                  115.0\n",
      "1         2                  188.0\n",
      "2         3                 4035.0\n",
      "3         4                    0.0\n",
      "4         5                  245.0\n",
      "5         6                 1818.0\n",
      "6         7                 3022.0\n",
      "7         8                    0.0\n",
      "8         9                    0.0\n",
      "9        10                 2590.0\n",
      "10       11                    0.0\n",
      "11       12                 2657.0\n",
      "12       13                    1.0\n",
      "13       14                 2526.0\n",
      "14       16                  108.0\n"
     ]
    }
   ],
   "source": [
    "filtered_data15 = df_merged[df_merged['product'].isin(desired_products)].copy()\n",
    "# Calculate the cumulative sum of inbound and outbound for each product\n",
    "filtered_data15['cum_inbound'] = filtered_data15.groupby('product')['inbound'].cumsum()\n",
    "filtered_data15['cum_outbound'] = filtered_data15.groupby('product')['outbound'].cumsum()\n",
    "\n",
    "# Calculate the difference between cumulative inbound and outbound\n",
    "filtered_data15['difference'] = filtered_data15['cum_inbound'] - filtered_data15['cum_outbound']\n",
    "\n",
    "# Find the minimum difference for each product\n",
    "min_difference = filtered_data15.groupby('product')['difference'].min().reset_index()\n",
    "\n",
    "# If the minimum difference is negative, take its absolute value as the minimum initial inventory required\n",
    "min_difference['min_initial_inventory'] = min_difference['difference'].apply(lambda x: abs(x) if x < 0 else 0)\n",
    "\n",
    "print(min_difference[['product', 'min_initial_inventory']])"
   ]
  },
  {
   "cell_type": "markdown",
   "metadata": {
    "id": "Twg2xunW3lrn"
   },
   "source": [
    "**4.3 Using Moving Average to forecast demand**"
   ]
  },
  {
   "cell_type": "code",
   "execution_count": null,
   "metadata": {
    "id": "zKztaQ593ocV"
   },
   "outputs": [],
   "source": [
    "df_merged_desired = df_merged[df_merged['product'].isin(desired_products)].copy()\n",
    "df_merged_desired_16weeks = df_merged_desired[df_merged_desired['day']<=96]"
   ]
  },
  {
   "cell_type": "code",
   "execution_count": null,
   "metadata": {
    "colab": {
     "base_uri": "https://localhost:8080/"
    },
    "id": "3nSowzv93oXX",
    "outputId": "e8a26456-04cc-433a-9ef2-9132a8e0d0d5"
   },
   "outputs": [
    {
     "name": "stdout",
     "output_type": "stream",
     "text": [
      "      day  product  inbound   outbound\n",
      "0       1        1     18.0   0.000000\n",
      "1       1        3      0.0  10.000000\n",
      "2       1        4      1.0   0.000000\n",
      "3       1        5     55.0   0.000000\n",
      "4       1        7     17.0  10.000000\n",
      "...   ...      ...      ...        ...\n",
      "2883  308       12      0.0  11.344262\n",
      "2884  309       12      0.0  11.344262\n",
      "2885  310       12      0.0  11.344262\n",
      "2886  311       12      0.0  11.433333\n",
      "2887  312       12      0.0  11.423729\n",
      "\n",
      "[2888 rows x 4 columns]\n"
     ]
    }
   ],
   "source": [
    "all_results = []\n",
    "for i in range (17,52):\n",
    "  start_day = i*6 +1\n",
    "  end_day = i*6 +6\n",
    "  moving_average_days = 96\n",
    "\n",
    "  filtered_df = df_merged_desired[df_merged_desired['product'].isin(products_to_select)].copy()\n",
    "\n",
    "  filtered_df['inbound_ma'] = filtered_df.groupby('product')['inbound'].transform(lambda x: x.rolling(window=moving_average_days, min_periods=1).mean())\n",
    "  filtered_df['outbound_ma'] = filtered_df.groupby('product')['outbound'].transform(lambda x: x.rolling(window=moving_average_days, min_periods=1).mean())\n",
    "\n",
    "  results = []\n",
    "  for product in products_to_select:\n",
    "      product_data = filtered_df[filtered_df['product'] == product]\n",
    "\n",
    "      for day in range(start_day, end_day + 1):\n",
    "          lower_bound = day - 96\n",
    "          upper_bound = day - 1\n",
    "          product_data_filtered = product_data[(product_data['day'] >= lower_bound) & (product_data['day'] <= upper_bound)]\n",
    "\n",
    "          average_inbound = product_data_filtered['inbound'].mean()\n",
    "          average_outbound = product_data_filtered['outbound'].mean()\n",
    "          results.append({'day': day, 'product': product, 'inbound': average_inbound,'outbound': average_outbound})\n",
    "\n",
    "  result_df = pd.DataFrame(results)\n",
    "  all_results.append(result_df)\n",
    "\n",
    "final_result_df = pd.concat(all_results, ignore_index=True)\n",
    "#print(final_result_df)\n",
    "\n",
    "concatenated_df = pd.concat([df_merged_desired_16weeks, final_result_df], ignore_index=True)\n",
    "print(concatenated_df)"
   ]
  },
  {
   "cell_type": "markdown",
   "metadata": {
    "id": "wPbIXgGS5g2I"
   },
   "source": [
    "**4.4 Preformance of LPM if increasing M**"
   ]
  },
  {
   "cell_type": "markdown",
   "metadata": {
    "id": "-aVAkDEHEv3H"
   },
   "source": [
    "\n",
    "**Result : Average weekly travel distance for LPM policy is 81165.67** \n",
    "\n",
    "Detailed calculation is shown as below:"
   ]
  },
  {
   "cell_type": "code",
   "execution_count": null,
   "metadata": {
    "id": "_32z3SF-4zI4"
   },
   "outputs": [],
   "source": [
    "# Create an empty numpy array to store the values of a_it\n",
    "a_it = np.zeros((20, 313))\n",
    "d_it = np.zeros((20, 313))\n",
    "\n",
    "# Loop through each product and day and get the corresponding value of a_it\n",
    "for i in range(20):\n",
    "    for t in range(97,313):\n",
    "        day = t\n",
    "        if i in concatenated_df['product'].values:\n",
    "            inbound_values = concatenated_df.loc[(concatenated_df['product'] == i) & (concatenated_df['day'] == day), 'inbound'].values\n",
    "            if len(inbound_values) > 0:\n",
    "                a_it[i][t] = inbound_values[0]\n",
    "            else:\n",
    "                a_it[i][t] = 0\n",
    "        else:\n",
    "            a_it[i][t] = 0\n",
    "        \n",
    "\n",
    "for i in range(20):\n",
    "    for t in range(97,313):\n",
    "        day = t\n",
    "        if i in concatenated_df['product'].values:\n",
    "            outbound_values = concatenated_df.loc[(concatenated_df['product'] == i) & (concatenated_df['day'] == day), 'outbound'].values\n",
    "            if len(outbound_values) > 0:\n",
    "                d_it[i][t] = outbound_values[0]\n",
    "            else:\n",
    "                d_it[i][t] = 0\n",
    "        else:\n",
    "            d_it[i][t] = 0"
   ]
  },
  {
   "cell_type": "code",
   "execution_count": null,
   "metadata": {
    "colab": {
     "base_uri": "https://localhost:8080/"
    },
    "id": "45euBdqJ482f",
    "outputId": "420a20a4-4978-4376-d277-3084bab4309d"
   },
   "outputs": [
    {
     "name": "stdout",
     "output_type": "stream",
     "text": [
      "Looking in indexes: https://pypi.org/simple, https://us-python.pkg.dev/colab-wheels/public/simple/\n",
      "Requirement already satisfied: pulp in /usr/local/lib/python3.10/dist-packages (2.7.0)\n",
      "Status week18: Optimal\n",
      "Optimal Solution: 70279.3494125498\n",
      "Status week19: Optimal\n",
      "Optimal Solution: 71231.07365518477\n",
      "Status week20: Optimal\n",
      "Optimal Solution: 72079.53503147647\n",
      "Status week21: Optimal\n",
      "Optimal Solution: 72237.13779395743\n",
      "Status week22: Optimal\n",
      "Optimal Solution: 73503.02127142002\n",
      "Status week23: Optimal\n",
      "Optimal Solution: 72674.66147851705\n",
      "Status week24: Optimal\n",
      "Optimal Solution: 72366.0865585815\n",
      "Status week25: Optimal\n",
      "Optimal Solution: 71600.08370586905\n",
      "Status week26: Optimal\n",
      "Optimal Solution: 71199.8336863832\n",
      "Status week27: Optimal\n",
      "Optimal Solution: 73136.68001496163\n",
      "Status week28: Optimal\n",
      "Optimal Solution: 73877.82756154954\n",
      "Status week29: Optimal\n",
      "Optimal Solution: 74110.78349899521\n",
      "Status week30: Optimal\n",
      "Optimal Solution: 73188.8272334551\n",
      "Status week31: Optimal\n",
      "Optimal Solution: 72741.61509082222\n",
      "Status week32: Optimal\n",
      "Optimal Solution: 72966.75483763272\n",
      "Status week33: Optimal\n",
      "Optimal Solution: 72201.97875921085\n",
      "Status week34: Optimal\n",
      "Optimal Solution: 72510.80911486267\n",
      "Status week35: Optimal\n",
      "Optimal Solution: 72064.05177795599\n",
      "Status week36: Optimal\n",
      "Optimal Solution: 71532.13976906925\n",
      "Status week37: Optimal\n",
      "Optimal Solution: 71339.33141570825\n",
      "Status week38: Optimal\n",
      "Optimal Solution: 70638.18657181879\n",
      "Status week39: Optimal\n",
      "Optimal Solution: 70971.89891207626\n",
      "Status week40: Optimal\n",
      "Optimal Solution: 70970.57848267003\n",
      "Status week41: Optimal\n",
      "Optimal Solution: 69308.88914560946\n",
      "Status week42: Optimal\n",
      "Optimal Solution: 69423.90503292897\n",
      "Status week43: Optimal\n",
      "Optimal Solution: 69315.72194798732\n",
      "Status week44: Optimal\n",
      "Optimal Solution: 67805.95110188847\n",
      "Status week45: Optimal\n",
      "Optimal Solution: 66206.383988452\n",
      "Status week46: Optimal\n",
      "Optimal Solution: 65593.1518039918\n",
      "Status week47: Optimal\n",
      "Optimal Solution: 64984.91356237261\n",
      "Status week48: Optimal\n",
      "Optimal Solution: 63842.725260057356\n",
      "Status week49: Optimal\n",
      "Optimal Solution: 62882.79617693721\n",
      "Status week50: Optimal\n",
      "Optimal Solution: 62413.9704280353\n",
      "Status week51: Optimal\n",
      "Optimal Solution: 61826.18421845013\n",
      "Mean of objective function values: 70089.02465592466\n"
     ]
    }
   ],
   "source": [
    "!pip install pulp\n",
    "import pulp\n",
    "\n",
    "N = 4\n",
    "M = desired_products\n",
    "\n",
    "result_list = []\n",
    "\n",
    "for k in range(18,52):\n",
    "#M = products_to_select\n",
    "\n",
    "  T = [6*k+1, 6*k+2, 6*k+3, 6*k+4, 6*k+5, 6*k+6]\n",
    "\n",
    "  # capacity c\n",
    "  c_j = [1068, 964, 1004, 900]\n",
    "\n",
    "  # Define the problem\n",
    "  problem = pulp.LpProblem(\"Warehouse_Optimization\", pulp.LpMinimize)\n",
    "\n",
    "  # Define decision variables\n",
    "  v = pulp.LpVariable.dicts(\"v\", ((i, j, t) for i in M for j in range(N) for t in T), lowBound=0, cat=\"Continuous\")\n",
    "  w = pulp.LpVariable.dicts(\"w\", ((i, j, t) for i in M for j in range(N) for t in T), lowBound=0, cat=\"Continuous\")\n",
    "  x = pulp.LpVariable.dicts(\"x\", ((i, j, t) for i in M for j in range(N) for t in T), lowBound=0, cat=\"Continuous\")\n",
    "\n",
    "  # Define objective function\n",
    "  problem += pulp.lpSum(s_j[j] * v[i, j, t] + r_j[j] * w[i, j, t] for i in M for j in range(N) for t in T)\n",
    "\n",
    "  # Add constraints\n",
    "  for i in M:\n",
    "      for t in T:\n",
    "          problem += pulp.lpSum(v[i, j, t] for j in range(N)) == a_it[i][t]  # constraint 1\n",
    "          problem += pulp.lpSum(w[i, j, t] for j in range(N)) == d_it[i][t]  # constraint 2\n",
    "\n",
    "  for i in M:\n",
    "      for j in range(N):\n",
    "          for t in T[:-1]:\n",
    "              problem += v[i, j, t] - w[i, j, t] + x[i, j, t] == x[i, j, t + 1]  # constraint 3\n",
    "\n",
    "  for j in range(N):\n",
    "      for t in T:\n",
    "          problem += pulp.lpSum(x[i, j, t] + v[i, j, t] for i in M) <= c_j[j]  # constraint 4\n",
    "\n",
    "  # Solve the problem\n",
    "  problem.solve()\n",
    "\n",
    "  result_list.append(value(problem.objective))\n",
    "\n",
    "  # Print the results\n",
    "  print(f\"Status week{k}: {pulp.LpStatus[problem.status]}\")\n",
    "  print(\"Optimal Solution:\", pulp.value(problem.objective))\n",
    "\n",
    "mean_result = sum(result_list) / len(result_list)\n",
    "\n",
    "print(f\"Mean of objective function values: {mean_result}\")"
   ]
  }
 ],
 "metadata": {
  "colab": {
   "provenance": []
  },
  "kernelspec": {
   "display_name": "Python 3 (ipykernel)",
   "language": "python",
   "name": "python3"
  },
  "language_info": {
   "codemirror_mode": {
    "name": "ipython",
    "version": 3
   },
   "file_extension": ".py",
   "mimetype": "text/x-python",
   "name": "python",
   "nbconvert_exporter": "python",
   "pygments_lexer": "ipython3",
   "version": "3.9.7"
  }
 },
 "nbformat": 4,
 "nbformat_minor": 1
}
