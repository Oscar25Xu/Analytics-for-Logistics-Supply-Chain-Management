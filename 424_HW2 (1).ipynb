{
  "nbformat": 4,
  "nbformat_minor": 0,
  "metadata": {
    "colab": {
      "provenance": []
    },
    "kernelspec": {
      "name": "python3",
      "display_name": "Python 3"
    },
    "language_info": {
      "name": "python"
    }
  },
  "cells": [
    {
      "cell_type": "markdown",
      "source": [
        "# **Case Study 50 pts**"
      ],
      "metadata": {
        "id": "kg9NymNhObtr"
      }
    },
    {
      "cell_type": "markdown",
      "source": [
        "#### **1.What are the typical post harvest concerns for farmers and what is the role of a collection center in integrating farm supply chains and improving fresh produce distribution ? How does the supply chain network for VFF compare with traditional fresh produce distribution?** "
      ],
      "metadata": {
        "id": "jeyAUW1rOeEJ"
      }
    },
    {
      "cell_type": "markdown",
      "source": [
        "- **Typical post-harvest concerns for farmers include:**\n",
        "\n",
        "1. **Harvesting and handling:** Farmers need to ensure proper harvesting techniques and handling of the produce to maintain quality and reduce damage, which can lead to wastage.\n",
        "\n",
        "2. **Quality control:** Ensuring the quality of the produce is maintained throughout the post-harvest process is crucial for fetching good prices in the market and minimizing losses.\n",
        "\n",
        "3. **Storage:** Farmers need to store their produce under appropriate temperature and humidity conditions to prevent spoilage and maintain quality.\n",
        "\n",
        "4. **Transportation:** Farmers must ensure efficient and safe transportation of the produce from the farm to the market or collection centers, minimizing damage and spoilage during transit.\n",
        "\n",
        "5. **Market access:** Farmers need reliable access to markets where they can sell their produce at fair prices.\n",
        "\n",
        "6. **Price fluctuations:** Farmers face the risk of price fluctuations due to various factors such as supply and demand, seasonality, and market conditions, which can impact their income."
      ],
      "metadata": {
        "id": "6qB39jfsSNMY"
      }
    },
    {
      "cell_type": "markdown",
      "source": [
        "- **The role of a collection center in integrating farm supply chains and improving fresh produce distribution includes:**\n",
        "\n",
        "1. **Aggregation:** Collection centers serve as a central point where farmers can bring their produce, allowing for the consolidation of various products from different farms.\n",
        "\n",
        "2. **Quality control:** Collection centers can implement quality control measures, ensuring that only the best quality produce is procured for further distribution.\n",
        "\n",
        "3. **Storage and transportation:** Collection centers can invest in better storage facilities and transportation infrastructure, helping maintain the freshness and quality of the produce throughout the supply chain.\n",
        "\n",
        "4. **Reduced wastage:** Collection centers can help minimize wastage by optimizing the distribution process and ensuring that the produce reaches the end consumer in the best possible condition\n",
        "\n",
        "5. **Price stability:** By working directly with farmers and eliminating middlemen, collection centers can offer more stable and fair prices to farmers, contributing to their financial security.\n",
        "\n",
        "6. **Market access:** Collection centers can connect farmers to a wider range of buyers, including retail outlets, wholesalers, and institutions, expanding their market reach and providing more selling opportunities.\n",
        "\n",
        "\n"
      ],
      "metadata": {
        "id": "ErA-Q5VCTAf7"
      }
    },
    {
      "cell_type": "markdown",
      "source": [
        "- **How does the supply chain network for VFF compare with traditional fresh produce distribution?**\n",
        "\n",
        "In summary, VFF's supply chain network is designed to **address some of the main challenges of traditional fresh produce distribution**, such as **wastage, quality degradation, price fluctuations, and limited market access for farmers**. By focusing on direct procurement, efficient collection centers, and streamlined distribution, VFF aims to improve the overall efficiency and effectiveness of the fresh produce supply chain. Detailed explanation is shown as below:"
      ],
      "metadata": {
        "id": "RoqP0MmrSVIK"
      }
    },
    {
      "cell_type": "markdown",
      "source": [
        "The supply chain network for VFF (Vegetables and Fruits for All) differs from traditional fresh produce distribution mainly in 5 ways:\n",
        "\n",
        "1. **Reduced wastage:** By streamlining the distribution process and optimizing storage and transportation, VFF's supply chain network helps minimize wastage, which is a common issue in traditional fresh produce distribution channels.\n",
        "\n",
        "2. **Collection centers:** VFF's model includes collection centers that aggregate produce from various farmers. These centers implement **quality control** **measures**, maintain proper storage conditions, and organize transportation, ensuring that the produce remains fresh and in good condition throughout the supply chain.\n",
        "\n",
        "3. **Direct procurement:** VFF's integrated supply chain involves direct procurement from farmers, bypassing intermediaries such as wholesalers, traders, and middlemen. This eliminates multiple handoffs in the distribution process and allows for better control over the quality and freshness of the produce.\n",
        "\n",
        "4. **Improved market access:** VFF's supply chain network connects farmers directly to retail outlets, wholesalers, and institutional buyers, providing them with a wider range of selling opportunities and better market access.\n",
        "\n",
        "5. **Price stability and fairer returns for farmers:** By eliminating middlemen and working directly with farmers, VFF can offer more stable and fair prices, contributing to the financial security of the farmers and improving their profit margins.\n"
      ],
      "metadata": {
        "id": "BFDwSlkhUfsX"
      }
    },
    {
      "cell_type": "markdown",
      "source": [
        "#### **2.What profit does the farmer earn on produce and how does this compare with the actual customer purchase price from a retail outlet.?**"
      ],
      "metadata": {
        "id": "alT7e4TxOqhX"
      }
    },
    {
      "cell_type": "markdown",
      "source": [
        "- the farmer earns a profit of **₹8.25 per kilogram** on produce, while the actual customer purchase price from a retail outlet is **at least ₹19.68 per kilogram**. This shows a significant difference between the price the farmer receives and what the end consumer pays. The additional costs come from intermediaries, handling, transportation, sorting, grading, rent, salaries, and minimum quantity effect.\n",
        "\n",
        "\n",
        "\n"
      ],
      "metadata": {
        "id": "ZOBIcIFukL7x"
      }
    },
    {
      "cell_type": "markdown",
      "source": [
        "**The detailed calculation is shown as below:**"
      ],
      "metadata": {
        "id": "m8nEBHV-krzz"
      }
    },
    {
      "cell_type": "markdown",
      "source": [
        "Based on the information provided in Exhibit 8, we can determine the profit earned by the farmer and compare it with the actual customer purchase price from a retail outlet"
      ],
      "metadata": {
        "id": "QIICRWYHjFVL"
      }
    },
    {
      "cell_type": "markdown",
      "source": [
        "(1)**What profit does the farmer earn on produce？**\n"
      ],
      "metadata": {
        "id": "djd5rUw3jK95"
      }
    },
    {
      "cell_type": "markdown",
      "source": [
        "The farmer's total cost per kilogram of produce is the sum of the transportation cost, loading cost, and handling charges at the APMC:\n",
        "\n",
        "Farmer's Cost = ₹0.25 (transportation) + ₹1.25 (loading) + ₹0.25 (handling at APMC) = ₹1.75 per kilogram\n",
        "\n",
        "The broker pays the farmer ₹10 per kilogram. Therefore, the farmer's profit per kilogram is:\n",
        "\n",
        "Farmer's Profit = ₹10 - ₹1.75 (total cost) = ₹8.25 per kilogram\n",
        "\n",
        "So, Farmer earns **a profit of ₹8.25 per kilogram on produce.**"
      ],
      "metadata": {
        "id": "QRMwnQzptNbw"
      }
    },
    {
      "cell_type": "markdown",
      "source": [
        "**(2)what is the actual customer purchase price from a retail outlet?**\n",
        "\n",
        "The final cost for the consumer at the retail outlet can be calculated as follows:\n",
        "\n",
        "- Broker sells to the retailer: ₹11 per kilogram\n",
        "- Handling and transportation charges: ₹1 per kilogram\n",
        "- Sorting and grading cost (20% wastage): ₹2.40 per kilogram\n",
        "- Rent cost: ₹1 per kilogram\n",
        "- Store attendants' salaries: ₹1 per kilogram\n",
        "- Minimum quantity effect (20% excess): 20% * (₹11 + ₹1 + ₹2.40 + ₹1 + ₹1) = ₹3.28 per kilogram\n",
        "\n",
        "Total cost for the consumer: ₹11 + ₹1 + ₹2.40 + ₹1 + ₹1 + ₹3.28 = ₹19.68 per kilogram, which means **the actual customer purchase price** from a retail outlet is **at least ₹19.68 per kilogram**\n",
        "\n"
      ],
      "metadata": {
        "id": "9J7TN_OAjW3j"
      }
    },
    {
      "cell_type": "markdown",
      "source": [
        "#### **3. List the produce attributes and other variables influencing demand for produce that affect the quantity to be procured by VFF.**"
      ],
      "metadata": {
        "id": "8SoyuBliOwHK"
      }
    },
    {
      "cell_type": "markdown",
      "source": [
        "1. **Quality of produce:**The freshness, appearance, and overall quality of the F&V are important factors that influence demand of the produce.\n",
        "\n",
        "2. **Transportation costs:** Efficient transportation plays a crucial role in maintaining the freshness and quality of the produce.\n",
        "\n",
        "3. **Storage conditions:** Proper storage is essential to reduce wastage and maintain the quality of the produce. \n",
        "\n",
        "4. **Customer preferences:**The preferences of retail and wholesale customers, such as the demand for specific F&V, can influence the quantity VFF needs to procure.\n",
        "\n",
        "5. **Price:** The prices of F&V can impact customer demand, especially when prices fluctuate significantly, in turns it affect demand of the produce by VFF.\n",
        "\n",
        "6. **Seasonality:** The availability of certain F&V varies depending on the season, which can affect demand by customer."
      ],
      "metadata": {
        "id": "QtlJ4BdRZ6Q-"
      }
    },
    {
      "cell_type": "markdown",
      "source": [
        "#### **4.How should Vasant Farm Fresh (VFF) reduce food wastage ? Consider three different scenarios: -**"
      ],
      "metadata": {
        "id": "o8yi2HjRO1ZZ"
      }
    },
    {
      "cell_type": "markdown",
      "source": [
        "#### **(a) determine the optimal procurement quantity for cauliflower assuming that the average cost price and average selling price take fixed values and shelf life is one day.**"
      ],
      "metadata": {
        "id": "UTDUy_ffO600"
      }
    },
    {
      "cell_type": "markdown",
      "source": [
        "**answer:**\n",
        "- the optimal procurement quantity for cauliflower is 48.45 per day by using news vendor model\n",
        "- wastage does get reduced if using the optimal procurement quantity based on newsvendor model, the average reduction of wastage per day : 1.1\n"
      ],
      "metadata": {
        "id": "fz3NMDPvkmpy"
      }
    },
    {
      "cell_type": "code",
      "source": [
        "import pandas as pd\n",
        "import scipy.stats as stats\n",
        "import numpy as np\n",
        "\n",
        "units = pd.read_excel(\"/content/Exhibit 7.xlsx\")\n",
        "units = units.drop(index=0).reset_index(drop=True)\n",
        "\n",
        "\n",
        "std_purchase = units['Purchase'].std()\n",
        "mean_purchase = units['Purchase'].mean()\n",
        "\n",
        "c_u = 8.56\n",
        "c_o = 9.14\n",
        "\n",
        "from scipy.stats import norm\n",
        "\n",
        "P = (c_u)/(c_u+c_o)\n",
        "\n",
        "Z = norm.ppf(P)\n",
        "\n",
        "#sd*Z+mean\n",
        "Q = std_purchase * Z + mean_purchase\n",
        "\n",
        "\n",
        "# Conditionally assign 'Estimate Wastage' based on the relationship between Q and 'Total Sales'\n",
        "units['Estimate Wastage'] = np.where(Q > units['Total Sales'], Q - units['Total Sales'], 0)\n",
        "\n",
        "#units['Estimate Wastage'] = Q - units['Total Sales']\n",
        "\n"
      ],
      "metadata": {
        "id": "rQsPgpjwrAb6"
      },
      "execution_count": null,
      "outputs": []
    },
    {
      "cell_type": "code",
      "source": [
        "print(\"Optimal procurement quantity for cauliflower (Q):\", Q)\n",
        "Estimated_average_wastage = units['Estimate Wastage'].mean()\n",
        "print(\"Average of Estimated Wastage using Q:\", Estimated_average_wastage)\n",
        "\n",
        "actual_average_wastage = units['Wastage'].mean()\n",
        "print(\"Average of Actual Wastage:\", actual_average_wastage)\n"
      ],
      "metadata": {
        "colab": {
          "base_uri": "https://localhost:8080/"
        },
        "id": "Ga0wMDbIjSGS",
        "outputId": "1851dad3-9f34-4b41-f74b-aef16321e416"
      },
      "execution_count": null,
      "outputs": [
        {
          "output_type": "stream",
          "name": "stdout",
          "text": [
            "Optimal procurement quantity for cauliflower (Q): 48.45864390707313\n",
            "Average of Estimated Wastage using Q: 24.32268948846057\n",
            "Average of Actual Wastage: 25.42622950819672\n"
          ]
        }
      ]
    },
    {
      "cell_type": "code",
      "source": [
        "print(\"wastage does get reduced via simulation using a news vendor model, the reducing amount of wastage:\",round(actual_average_wastage-Estimated_average_wastage,2))"
      ],
      "metadata": {
        "colab": {
          "base_uri": "https://localhost:8080/"
        },
        "id": "n6a_ro8-kYta",
        "outputId": "c17929b3-e29f-4d5c-c862-3119d08c65ba"
      },
      "execution_count": null,
      "outputs": [
        {
          "output_type": "stream",
          "name": "stdout",
          "text": [
            "wastage does get reduced via simulation using a news vendor model, the reducing amount of wastage: 1.1\n"
          ]
        }
      ]
    },
    {
      "cell_type": "markdown",
      "source": [],
      "metadata": {
        "id": "A1VY18vIkHRs"
      }
    },
    {
      "cell_type": "markdown",
      "source": [
        "#### **(b) Determine the optimal procurement quantity by using daily price point for purchases and sales. Assume a one day shelf life.**"
      ],
      "metadata": {
        "id": "QJxPAFzkPBi-"
      }
    },
    {
      "cell_type": "markdown",
      "source": [
        "#### **answer**\n",
        "wastage does get reduced if using the optimal procurement quantity based on newsvendor model, the average reduction of wastage per day:19.77\n",
        "\n",
        "Detialed calculation is shown as below:\n",
        "\n",
        "------------------------------------\n"
      ],
      "metadata": {
        "id": "IVcJ_yCk-vBk"
      }
    },
    {
      "cell_type": "markdown",
      "source": [
        "***Steps for this question:*** \n",
        "\n",
        "-Since we assume a one-day shelf life, there is no excess stock for each day. Cauliflower that is not sold within one day would be wasted.\n",
        "\n",
        "**Sterp 0:Calculate the purchase price** (daily)\n",
        "- Assume  purchase price is a random variable and the modal prices are the realized values from a normal distribution. \n",
        "- fit those prices to a normal distribution and then use it to generate purchase price for any given day.\n",
        "\n",
        "**Step 1: Calculate the Cost of Overstock (Co)**(daily)\n",
        "\n",
        "Co = Purchase Price of a unit - salvage price of a unit\n",
        "\n",
        "- Retailer Minimum Quantity Effect = 20% Purchase Price of a unit\n",
        "- salvage price of a unit = Rs 5 /kg of cauliflower\n",
        "- the daily purchase price is fitted to the modal price in Exhibit 6 (divide these prices by 100 to get the price per kilogram )-\n",
        "\n",
        "**Step 2: Calculate the Cost of Underestock (Cu)** (daily)\n",
        "\n",
        "Cu= the selling price of a unit - Purchase Price of a unit\n",
        "\n",
        "-  selling price:  come from a uniform distribution[20,25], so we  assume the expected selling price to be the average of these two values, which is ₹22.5\n",
        "- the daily purchase price: the purchase price is fitted to the modal price in Exhibit 6 (divide these prices by 100 to get the price per kilogram )\n",
        "\n",
        "**Step 3: Calculate daily F(Q)**\n",
        "- (1)F(Q) means Prob(Demand <= Q) -> probability of not having a stockout: F(Q) = Cu / (Co + Cu)\n",
        "\n",
        "**Step 4:Calculate daily Q**\n",
        "\n",
        "- (2)Assuming a normal distribution for demand, use (\"PURCHASE\"column in EXHIBIT 7) to calculate μ & σ  \n",
        "\n",
        "-  use (1) & (2) to calculate : Q = μ + Zσ\n",
        "\n",
        "**Step 5:Calculate daily wastage based on Q**\n",
        "- use Q - daily total sale"
      ],
      "metadata": {
        "id": "0GSdE7CAH5zv"
      }
    },
    {
      "cell_type": "code",
      "source": [
        "import numpy as np\n",
        "import pandas as pd\n",
        "import scipy.stats as stats\n",
        "from scipy.stats import norm\n",
        "\n",
        "#read files(purchase and sales)\n",
        "units = pd.read_excel(\"/content/Exhibit 7.xlsx\")\n",
        "units = units.drop(index=0).reset_index(drop=True)\n",
        "days = units.shape[0]\n",
        "\n",
        "#find out the sigma and mu to fit the normal distribution\n",
        "std_Sales = units['Total Sales'].std()\n",
        "meanl_Sales = units['Total Sales'].mean()\n",
        "\n",
        "purchase_price = pd.read_excel(\"/content/Exhibit 6.xlsx\")\n",
        "purchase_price['Modal Price ((/Quintal)'] = purchase_price['Modal Price ((/Quintal)'] / 100\n",
        "std_purchase_price = purchase_price['Modal Price ((/Quintal)'].std()\n",
        "mean_purchase_price = purchase_price['Modal Price ((/Quintal)'].mean()\n",
        "\n",
        "#purchase price is randomly generated from normal with mean_purchase_price and std_purchase_price`\n",
        "pur_price = np.random.normal(mean_purchase_price, std_purchase_price, days)\n",
        "\n",
        "# Calculate Q for each randomly generated purchase price\n",
        "Q_list = []\n",
        "for i in range(days):\n",
        "    co = pur_price[i] - 5\n",
        "    cu = 22.5 - pur_price[i]\n",
        "    Z = norm.ppf(cu/(cu+co))\n",
        "    Q = meanl_Sales + Z*std_Sales\n",
        "    Q_list.append(Q)\n",
        "\n",
        "# Create a dataframe to store the optimal Q for each randomly generated pur_price\n",
        "result_df = pd.DataFrame({'Purchase Price': pur_price, 'Optimized Order Q': Q_list})\n",
        "# Conditionally assign 'Estimate Wastage' based on the relationship between Q and 'Total Sales'\n",
        "result_df['Estimate Wastage'] = np.where(result_df[\"Optimized Order Q\"] > units[\"Total Sales\"], result_df[\"Optimized Order Q\"] - units[\"Total Sales\"], 0)\n",
        "result_df\n"
      ],
      "metadata": {
        "colab": {
          "base_uri": "https://localhost:8080/",
          "height": 423
        },
        "id": "0jsmmi2H8PgQ",
        "outputId": "09865156-3ecf-4a04-c519-d282f9e2eaa6"
      },
      "execution_count": null,
      "outputs": [
        {
          "output_type": "execute_result",
          "data": {
            "text/plain": [
              "    Purchase Price  Optimized Order Q Estimate Wastage\n",
              "0        15.006822          22.113716                0\n",
              "1        13.680058          24.831036                0\n",
              "2        16.040129          19.935318                0\n",
              "3        14.673616          22.801103                0\n",
              "4        11.864909          28.577365                0\n",
              "..             ...                ...              ...\n",
              "56        8.053364          38.011917         5.011917\n",
              "57       10.477247          31.621878        10.621878\n",
              "58       14.830817          22.477451         5.477451\n",
              "59       21.719624           0.510136                0\n",
              "60       12.225850          27.819120          7.81912\n",
              "\n",
              "[61 rows x 3 columns]"
            ],
            "text/html": [
              "\n",
              "  <div id=\"df-8a7cb998-d133-4f3a-bb1b-555273dc6355\">\n",
              "    <div class=\"colab-df-container\">\n",
              "      <div>\n",
              "<style scoped>\n",
              "    .dataframe tbody tr th:only-of-type {\n",
              "        vertical-align: middle;\n",
              "    }\n",
              "\n",
              "    .dataframe tbody tr th {\n",
              "        vertical-align: top;\n",
              "    }\n",
              "\n",
              "    .dataframe thead th {\n",
              "        text-align: right;\n",
              "    }\n",
              "</style>\n",
              "<table border=\"1\" class=\"dataframe\">\n",
              "  <thead>\n",
              "    <tr style=\"text-align: right;\">\n",
              "      <th></th>\n",
              "      <th>Purchase Price</th>\n",
              "      <th>Optimized Order Q</th>\n",
              "      <th>Estimate Wastage</th>\n",
              "    </tr>\n",
              "  </thead>\n",
              "  <tbody>\n",
              "    <tr>\n",
              "      <th>0</th>\n",
              "      <td>15.006822</td>\n",
              "      <td>22.113716</td>\n",
              "      <td>0</td>\n",
              "    </tr>\n",
              "    <tr>\n",
              "      <th>1</th>\n",
              "      <td>13.680058</td>\n",
              "      <td>24.831036</td>\n",
              "      <td>0</td>\n",
              "    </tr>\n",
              "    <tr>\n",
              "      <th>2</th>\n",
              "      <td>16.040129</td>\n",
              "      <td>19.935318</td>\n",
              "      <td>0</td>\n",
              "    </tr>\n",
              "    <tr>\n",
              "      <th>3</th>\n",
              "      <td>14.673616</td>\n",
              "      <td>22.801103</td>\n",
              "      <td>0</td>\n",
              "    </tr>\n",
              "    <tr>\n",
              "      <th>4</th>\n",
              "      <td>11.864909</td>\n",
              "      <td>28.577365</td>\n",
              "      <td>0</td>\n",
              "    </tr>\n",
              "    <tr>\n",
              "      <th>...</th>\n",
              "      <td>...</td>\n",
              "      <td>...</td>\n",
              "      <td>...</td>\n",
              "    </tr>\n",
              "    <tr>\n",
              "      <th>56</th>\n",
              "      <td>8.053364</td>\n",
              "      <td>38.011917</td>\n",
              "      <td>5.011917</td>\n",
              "    </tr>\n",
              "    <tr>\n",
              "      <th>57</th>\n",
              "      <td>10.477247</td>\n",
              "      <td>31.621878</td>\n",
              "      <td>10.621878</td>\n",
              "    </tr>\n",
              "    <tr>\n",
              "      <th>58</th>\n",
              "      <td>14.830817</td>\n",
              "      <td>22.477451</td>\n",
              "      <td>5.477451</td>\n",
              "    </tr>\n",
              "    <tr>\n",
              "      <th>59</th>\n",
              "      <td>21.719624</td>\n",
              "      <td>0.510136</td>\n",
              "      <td>0</td>\n",
              "    </tr>\n",
              "    <tr>\n",
              "      <th>60</th>\n",
              "      <td>12.225850</td>\n",
              "      <td>27.819120</td>\n",
              "      <td>7.81912</td>\n",
              "    </tr>\n",
              "  </tbody>\n",
              "</table>\n",
              "<p>61 rows × 3 columns</p>\n",
              "</div>\n",
              "      <button class=\"colab-df-convert\" onclick=\"convertToInteractive('df-8a7cb998-d133-4f3a-bb1b-555273dc6355')\"\n",
              "              title=\"Convert this dataframe to an interactive table.\"\n",
              "              style=\"display:none;\">\n",
              "        \n",
              "  <svg xmlns=\"http://www.w3.org/2000/svg\" height=\"24px\"viewBox=\"0 0 24 24\"\n",
              "       width=\"24px\">\n",
              "    <path d=\"M0 0h24v24H0V0z\" fill=\"none\"/>\n",
              "    <path d=\"M18.56 5.44l.94 2.06.94-2.06 2.06-.94-2.06-.94-.94-2.06-.94 2.06-2.06.94zm-11 1L8.5 8.5l.94-2.06 2.06-.94-2.06-.94L8.5 2.5l-.94 2.06-2.06.94zm10 10l.94 2.06.94-2.06 2.06-.94-2.06-.94-.94-2.06-.94 2.06-2.06.94z\"/><path d=\"M17.41 7.96l-1.37-1.37c-.4-.4-.92-.59-1.43-.59-.52 0-1.04.2-1.43.59L10.3 9.45l-7.72 7.72c-.78.78-.78 2.05 0 2.83L4 21.41c.39.39.9.59 1.41.59.51 0 1.02-.2 1.41-.59l7.78-7.78 2.81-2.81c.8-.78.8-2.07 0-2.86zM5.41 20L4 18.59l7.72-7.72 1.47 1.35L5.41 20z\"/>\n",
              "  </svg>\n",
              "      </button>\n",
              "      \n",
              "  <style>\n",
              "    .colab-df-container {\n",
              "      display:flex;\n",
              "      flex-wrap:wrap;\n",
              "      gap: 12px;\n",
              "    }\n",
              "\n",
              "    .colab-df-convert {\n",
              "      background-color: #E8F0FE;\n",
              "      border: none;\n",
              "      border-radius: 50%;\n",
              "      cursor: pointer;\n",
              "      display: none;\n",
              "      fill: #1967D2;\n",
              "      height: 32px;\n",
              "      padding: 0 0 0 0;\n",
              "      width: 32px;\n",
              "    }\n",
              "\n",
              "    .colab-df-convert:hover {\n",
              "      background-color: #E2EBFA;\n",
              "      box-shadow: 0px 1px 2px rgba(60, 64, 67, 0.3), 0px 1px 3px 1px rgba(60, 64, 67, 0.15);\n",
              "      fill: #174EA6;\n",
              "    }\n",
              "\n",
              "    [theme=dark] .colab-df-convert {\n",
              "      background-color: #3B4455;\n",
              "      fill: #D2E3FC;\n",
              "    }\n",
              "\n",
              "    [theme=dark] .colab-df-convert:hover {\n",
              "      background-color: #434B5C;\n",
              "      box-shadow: 0px 1px 3px 1px rgba(0, 0, 0, 0.15);\n",
              "      filter: drop-shadow(0px 1px 2px rgba(0, 0, 0, 0.3));\n",
              "      fill: #FFFFFF;\n",
              "    }\n",
              "  </style>\n",
              "\n",
              "      <script>\n",
              "        const buttonEl =\n",
              "          document.querySelector('#df-8a7cb998-d133-4f3a-bb1b-555273dc6355 button.colab-df-convert');\n",
              "        buttonEl.style.display =\n",
              "          google.colab.kernel.accessAllowed ? 'block' : 'none';\n",
              "\n",
              "        async function convertToInteractive(key) {\n",
              "          const element = document.querySelector('#df-8a7cb998-d133-4f3a-bb1b-555273dc6355');\n",
              "          const dataTable =\n",
              "            await google.colab.kernel.invokeFunction('convertToInteractive',\n",
              "                                                     [key], {});\n",
              "          if (!dataTable) return;\n",
              "\n",
              "          const docLinkHtml = 'Like what you see? Visit the ' +\n",
              "            '<a target=\"_blank\" href=https://colab.research.google.com/notebooks/data_table.ipynb>data table notebook</a>'\n",
              "            + ' to learn more about interactive tables.';\n",
              "          element.innerHTML = '';\n",
              "          dataTable['output_type'] = 'display_data';\n",
              "          await google.colab.output.renderOutput(dataTable, element);\n",
              "          const docLink = document.createElement('div');\n",
              "          docLink.innerHTML = docLinkHtml;\n",
              "          element.appendChild(docLink);\n",
              "        }\n",
              "      </script>\n",
              "    </div>\n",
              "  </div>\n",
              "  "
            ]
          },
          "metadata": {},
          "execution_count": 8
        }
      ]
    },
    {
      "cell_type": "code",
      "source": [
        "print(\"Optimal procurement quantity for cauliflower (Q):\", result_df[\"Optimized Order Q\"])"
      ],
      "metadata": {
        "id": "MdXVwLkN7SxB",
        "colab": {
          "base_uri": "https://localhost:8080/"
        },
        "outputId": "b000aa5a-0c6b-4aba-d402-d628fe37df32"
      },
      "execution_count": null,
      "outputs": [
        {
          "output_type": "stream",
          "name": "stdout",
          "text": [
            "Optimal procurement quantity for cauliflower (Q): 0     22.113716\n",
            "1     24.831036\n",
            "2     19.935318\n",
            "3     22.801103\n",
            "4     28.577365\n",
            "        ...    \n",
            "56    38.011917\n",
            "57    31.621878\n",
            "58    22.477451\n",
            "59     0.510136\n",
            "60    27.819120\n",
            "Name: Optimized Order Q, Length: 61, dtype: float64\n"
          ]
        }
      ]
    },
    {
      "cell_type": "code",
      "source": [
        "Estimated_average_wastage = result_df[\"Estimate Wastage\"].mean()\n",
        "print(\"Average of Estimated Wastage using Q:\", Estimated_average_wastage)\n",
        "\n",
        "actual_average_wastage = units['Wastage'].mean()\n",
        "print(\"Average of Actual Wastage:\",  actual_average_wastage)"
      ],
      "metadata": {
        "colab": {
          "base_uri": "https://localhost:8080/"
        },
        "id": "W8nJOrIv8tau",
        "outputId": "3d572002-d340-44e1-c2bf-71b6862a71b1"
      },
      "execution_count": null,
      "outputs": [
        {
          "output_type": "stream",
          "name": "stdout",
          "text": [
            "Average of Estimated Wastage using Q: 5.660756458817009\n",
            "Average of Actual Wastage: 25.42622950819672\n"
          ]
        }
      ]
    },
    {
      "cell_type": "code",
      "source": [
        "print(\"wastage does get reduced via simulation using a news vendor model, the reducing amount of wastage:\",round(actual_average_wastage-Estimated_average_wastage,2))"
      ],
      "metadata": {
        "colab": {
          "base_uri": "https://localhost:8080/"
        },
        "id": "PsX9Lizl4pBQ",
        "outputId": "852f3b48-b8b9-4e76-c83e-66dfdde87542"
      },
      "execution_count": null,
      "outputs": [
        {
          "output_type": "stream",
          "name": "stdout",
          "text": [
            "wastage does get reduced via simulation using a news vendor model, the reducing amount of wastage: 19.77\n"
          ]
        }
      ]
    },
    {
      "cell_type": "markdown",
      "source": [
        "#### **(c) Determine the optimal procurement quantity by using daily price point for purchases and sales. Assume a two day shelf life.**"
      ],
      "metadata": {
        "id": "nJ9oxiIXPF3T"
      }
    },
    {
      "cell_type": "markdown",
      "source": [
        "#### **answer**\n",
        "wastage does get reduced if using the optimal procurement quantity based on newsvendor model, the average reduction of wastage per day:19.48\n",
        "\n",
        "Detialed calculation is shown as below:\n",
        "\n",
        "------------------------------------"
      ],
      "metadata": {
        "id": "9vjB3XCwKekm"
      }
    },
    {
      "cell_type": "markdown",
      "source": [
        "***Steps for this question:**\n",
        "\n",
        "-Since we assume a two-day shelf life, *there may be excess stock for the first day in each two-day shelf life*. Then, cauliflower that is not sold within two days would be wasted\n",
        "\n",
        "**Sterp 0:Calculate the purchase price** (daily)\n",
        "- Assume  purchase price is a random variable and the modal prices are the realized values from a normal distribution. \n",
        "- fit those prices to a normal distribution and then use it to generate purchase price for any given day.\n",
        "\n",
        "**Step 1: Calculate the Cost of Overstock (Co)**(daily)\n",
        "\n",
        "-- if **no excess stock** is left at the end of the first day in each two-day shelf life： \n",
        "\n",
        "Co = Purchase Price of a unit - salvage price of a unit\n",
        "\n",
        "-- if **excess stock** is left at the end of the first day in each two-day shelf life： \n",
        "\n",
        "Co = (Purchase Price of a unit + cost of Retailer Minimum Quantity Effect) - salvage price of a unit \n",
        "\n",
        "- Retailer Minimum Quantity Effect = 20% Purchase Price of a unit\n",
        "- salvage price of a unit = Rs 5 /kg of cauliflower\n",
        "- the daily purchase price is fitted to the modal price in Exhibit 6 (divide these prices by 100 to get the price per kilogram )-\n",
        "\n",
        "**Step 2: Calculate the Cost of Underestock (Cu)** (daily)\n",
        "\n",
        "Cu= the selling price of a unit - Purchase Price of a unit\n",
        "\n",
        "-  selling price:  come from a uniform distribution[20,25], so we  assume the expected selling price to be the average of these two values, which is ₹22.5\n",
        "- the daily purchase price: the purchase price is fitted to the modal price in Exhibit 6 (divide these prices by 100 to get the price per kilogram )\n",
        "\n",
        "**Step 3: Calculate daily F(Q)**\n",
        "- (1)F(Q) means Prob(Demand <= Q) -> probability of not having a stockout: F(Q) = Cu / (Co + Cu)\n",
        "\n",
        "**Step 4:Calculate daily Q**\n",
        "\n",
        "- (2)Assuming a normal distribution for demand, use (\"PURCHASE\"column in EXHIBIT 7) to calculate μ & σ  \n",
        "\n",
        "-  use (1) & (2) to calculate : Q = μ + Zσ\n",
        "\n",
        "**Step 5:Calculate daily wastage based on Q**\n",
        "- use Q - daily total sale"
      ],
      "metadata": {
        "id": "Loo3Xo714EBl"
      }
    },
    {
      "cell_type": "code",
      "source": [
        "import numpy as np\n",
        "import pandas as pd\n",
        "import scipy.stats as stats\n",
        "from scipy.stats import norm\n",
        "\n",
        "\n",
        "units = pd.read_excel(\"/content/Exhibit 7.xlsx\")\n",
        "units = units.drop(index=0).reset_index(drop=True)\n",
        "days = units.shape[0]\n",
        "\n",
        "std_Sales = units['Total Sales'].std()\n",
        "meanl_Sales = units['Total Sales'].mean()\n",
        "\n",
        "purchase_price = pd.read_excel(\"/content/Exhibit 6.xlsx\")\n",
        "purchase_price['Modal Price ((/Quintal)'] = purchase_price['Modal Price ((/Quintal)'] / 100\n",
        "std_purchase_price = purchase_price['Modal Price ((/Quintal)'].std()\n",
        "mean_purchase_price = purchase_price['Modal Price ((/Quintal)'].mean()\n",
        "\n",
        "#price = randomly generated from normal with mean_purchase_price and std_purchase_price`\n",
        "pur_price = np.random.normal(mean_purchase_price, std_purchase_price, days)\n",
        "\n",
        "# Define the salvage price\n",
        "salvage_price = 5\n",
        "\n",
        "# Calculate Q and Co for each purchase price\n",
        "Q_list = []\n",
        "Co_list = []\n",
        "for i in range(days):\n",
        "    if i % 2 == 0:  # for even days\n",
        "        Co = pur_price[i] - salvage_price\n",
        "    else:  # for odd days\n",
        "        Co = np.where(Q_list[-1] - units['Total Sales'].iloc[i - 1] > 0, \n",
        "                      pur_price[i] + 0.2 * pur_price[i] - salvage_price, \n",
        "                      pur_price[i] - salvage_price)\n",
        "\n",
        "    cu = 22.5 - pur_price[i]\n",
        "    Z = norm.ppf(cu/(cu+Co))\n",
        "    Q = meanl_Sales + Z*std_Sales\n",
        "\n",
        "    Q_list.append(Q)\n",
        "    Co_list.append(Co)\n",
        "\n",
        "# Create a dataframe to store the results\n",
        "result_df = pd.DataFrame({'Purchase Price': pur_price, 'Optimized Order Q': Q_list, 'Cost of Overstock': Co_list})\n",
        "\n",
        "result_df\n",
        "\n"
      ],
      "metadata": {
        "colab": {
          "base_uri": "https://localhost:8080/",
          "height": 423
        },
        "id": "o0M1iu6IGyOi",
        "outputId": "8d6a6356-b9b0-4255-93fb-807b2427c19e"
      },
      "execution_count": null,
      "outputs": [
        {
          "output_type": "execute_result",
          "data": {
            "text/plain": [
              "    Purchase Price  Optimized Order Q   Cost of Overstock\n",
              "0        17.497212          16.644553           12.497212\n",
              "1        10.707552          31.098050  5.7075518240434295\n",
              "2        12.028510          28.232440             7.02851\n",
              "3        15.004892          22.117714  10.004891505748654\n",
              "4        10.567940          31.414514             5.56794\n",
              "..             ...                ...                 ...\n",
              "56       16.274858          19.426455           11.274858\n",
              "57       13.408940          25.383723   8.408940042941772\n",
              "58       10.904554          30.656791            5.904554\n",
              "59        7.560270          35.953934   4.072324143442756\n",
              "60       10.597205          31.347907            5.597205\n",
              "\n",
              "[61 rows x 3 columns]"
            ],
            "text/html": [
              "\n",
              "  <div id=\"df-607c8291-0f3a-49c0-b331-826532cc60ab\">\n",
              "    <div class=\"colab-df-container\">\n",
              "      <div>\n",
              "<style scoped>\n",
              "    .dataframe tbody tr th:only-of-type {\n",
              "        vertical-align: middle;\n",
              "    }\n",
              "\n",
              "    .dataframe tbody tr th {\n",
              "        vertical-align: top;\n",
              "    }\n",
              "\n",
              "    .dataframe thead th {\n",
              "        text-align: right;\n",
              "    }\n",
              "</style>\n",
              "<table border=\"1\" class=\"dataframe\">\n",
              "  <thead>\n",
              "    <tr style=\"text-align: right;\">\n",
              "      <th></th>\n",
              "      <th>Purchase Price</th>\n",
              "      <th>Optimized Order Q</th>\n",
              "      <th>Cost of Overstock</th>\n",
              "    </tr>\n",
              "  </thead>\n",
              "  <tbody>\n",
              "    <tr>\n",
              "      <th>0</th>\n",
              "      <td>17.497212</td>\n",
              "      <td>16.644553</td>\n",
              "      <td>12.497212</td>\n",
              "    </tr>\n",
              "    <tr>\n",
              "      <th>1</th>\n",
              "      <td>10.707552</td>\n",
              "      <td>31.098050</td>\n",
              "      <td>5.7075518240434295</td>\n",
              "    </tr>\n",
              "    <tr>\n",
              "      <th>2</th>\n",
              "      <td>12.028510</td>\n",
              "      <td>28.232440</td>\n",
              "      <td>7.02851</td>\n",
              "    </tr>\n",
              "    <tr>\n",
              "      <th>3</th>\n",
              "      <td>15.004892</td>\n",
              "      <td>22.117714</td>\n",
              "      <td>10.004891505748654</td>\n",
              "    </tr>\n",
              "    <tr>\n",
              "      <th>4</th>\n",
              "      <td>10.567940</td>\n",
              "      <td>31.414514</td>\n",
              "      <td>5.56794</td>\n",
              "    </tr>\n",
              "    <tr>\n",
              "      <th>...</th>\n",
              "      <td>...</td>\n",
              "      <td>...</td>\n",
              "      <td>...</td>\n",
              "    </tr>\n",
              "    <tr>\n",
              "      <th>56</th>\n",
              "      <td>16.274858</td>\n",
              "      <td>19.426455</td>\n",
              "      <td>11.274858</td>\n",
              "    </tr>\n",
              "    <tr>\n",
              "      <th>57</th>\n",
              "      <td>13.408940</td>\n",
              "      <td>25.383723</td>\n",
              "      <td>8.408940042941772</td>\n",
              "    </tr>\n",
              "    <tr>\n",
              "      <th>58</th>\n",
              "      <td>10.904554</td>\n",
              "      <td>30.656791</td>\n",
              "      <td>5.904554</td>\n",
              "    </tr>\n",
              "    <tr>\n",
              "      <th>59</th>\n",
              "      <td>7.560270</td>\n",
              "      <td>35.953934</td>\n",
              "      <td>4.072324143442756</td>\n",
              "    </tr>\n",
              "    <tr>\n",
              "      <th>60</th>\n",
              "      <td>10.597205</td>\n",
              "      <td>31.347907</td>\n",
              "      <td>5.597205</td>\n",
              "    </tr>\n",
              "  </tbody>\n",
              "</table>\n",
              "<p>61 rows × 3 columns</p>\n",
              "</div>\n",
              "      <button class=\"colab-df-convert\" onclick=\"convertToInteractive('df-607c8291-0f3a-49c0-b331-826532cc60ab')\"\n",
              "              title=\"Convert this dataframe to an interactive table.\"\n",
              "              style=\"display:none;\">\n",
              "        \n",
              "  <svg xmlns=\"http://www.w3.org/2000/svg\" height=\"24px\"viewBox=\"0 0 24 24\"\n",
              "       width=\"24px\">\n",
              "    <path d=\"M0 0h24v24H0V0z\" fill=\"none\"/>\n",
              "    <path d=\"M18.56 5.44l.94 2.06.94-2.06 2.06-.94-2.06-.94-.94-2.06-.94 2.06-2.06.94zm-11 1L8.5 8.5l.94-2.06 2.06-.94-2.06-.94L8.5 2.5l-.94 2.06-2.06.94zm10 10l.94 2.06.94-2.06 2.06-.94-2.06-.94-.94-2.06-.94 2.06-2.06.94z\"/><path d=\"M17.41 7.96l-1.37-1.37c-.4-.4-.92-.59-1.43-.59-.52 0-1.04.2-1.43.59L10.3 9.45l-7.72 7.72c-.78.78-.78 2.05 0 2.83L4 21.41c.39.39.9.59 1.41.59.51 0 1.02-.2 1.41-.59l7.78-7.78 2.81-2.81c.8-.78.8-2.07 0-2.86zM5.41 20L4 18.59l7.72-7.72 1.47 1.35L5.41 20z\"/>\n",
              "  </svg>\n",
              "      </button>\n",
              "      \n",
              "  <style>\n",
              "    .colab-df-container {\n",
              "      display:flex;\n",
              "      flex-wrap:wrap;\n",
              "      gap: 12px;\n",
              "    }\n",
              "\n",
              "    .colab-df-convert {\n",
              "      background-color: #E8F0FE;\n",
              "      border: none;\n",
              "      border-radius: 50%;\n",
              "      cursor: pointer;\n",
              "      display: none;\n",
              "      fill: #1967D2;\n",
              "      height: 32px;\n",
              "      padding: 0 0 0 0;\n",
              "      width: 32px;\n",
              "    }\n",
              "\n",
              "    .colab-df-convert:hover {\n",
              "      background-color: #E2EBFA;\n",
              "      box-shadow: 0px 1px 2px rgba(60, 64, 67, 0.3), 0px 1px 3px 1px rgba(60, 64, 67, 0.15);\n",
              "      fill: #174EA6;\n",
              "    }\n",
              "\n",
              "    [theme=dark] .colab-df-convert {\n",
              "      background-color: #3B4455;\n",
              "      fill: #D2E3FC;\n",
              "    }\n",
              "\n",
              "    [theme=dark] .colab-df-convert:hover {\n",
              "      background-color: #434B5C;\n",
              "      box-shadow: 0px 1px 3px 1px rgba(0, 0, 0, 0.15);\n",
              "      filter: drop-shadow(0px 1px 2px rgba(0, 0, 0, 0.3));\n",
              "      fill: #FFFFFF;\n",
              "    }\n",
              "  </style>\n",
              "\n",
              "      <script>\n",
              "        const buttonEl =\n",
              "          document.querySelector('#df-607c8291-0f3a-49c0-b331-826532cc60ab button.colab-df-convert');\n",
              "        buttonEl.style.display =\n",
              "          google.colab.kernel.accessAllowed ? 'block' : 'none';\n",
              "\n",
              "        async function convertToInteractive(key) {\n",
              "          const element = document.querySelector('#df-607c8291-0f3a-49c0-b331-826532cc60ab');\n",
              "          const dataTable =\n",
              "            await google.colab.kernel.invokeFunction('convertToInteractive',\n",
              "                                                     [key], {});\n",
              "          if (!dataTable) return;\n",
              "\n",
              "          const docLinkHtml = 'Like what you see? Visit the ' +\n",
              "            '<a target=\"_blank\" href=https://colab.research.google.com/notebooks/data_table.ipynb>data table notebook</a>'\n",
              "            + ' to learn more about interactive tables.';\n",
              "          element.innerHTML = '';\n",
              "          dataTable['output_type'] = 'display_data';\n",
              "          await google.colab.output.renderOutput(dataTable, element);\n",
              "          const docLink = document.createElement('div');\n",
              "          docLink.innerHTML = docLinkHtml;\n",
              "          element.appendChild(docLink);\n",
              "        }\n",
              "      </script>\n",
              "    </div>\n",
              "  </div>\n",
              "  "
            ]
          },
          "metadata": {},
          "execution_count": 12
        }
      ]
    },
    {
      "cell_type": "code",
      "source": [
        "print(\"Optimal procurement quantity for cauliflower (Q):\", result_df[\"Optimized Order Q\"])"
      ],
      "metadata": {
        "colab": {
          "base_uri": "https://localhost:8080/"
        },
        "id": "Duron7cVJNhG",
        "outputId": "ed07d269-116a-44fe-fa81-6261bc7c286e"
      },
      "execution_count": null,
      "outputs": [
        {
          "output_type": "stream",
          "name": "stdout",
          "text": [
            "Optimal procurement quantity for cauliflower (Q): 0     16.644553\n",
            "1     31.098050\n",
            "2     28.232440\n",
            "3     22.117714\n",
            "4     31.414514\n",
            "        ...    \n",
            "56    19.426455\n",
            "57    25.383723\n",
            "58    30.656791\n",
            "59    35.953934\n",
            "60    31.347907\n",
            "Name: Optimized Order Q, Length: 61, dtype: float64\n"
          ]
        }
      ]
    },
    {
      "cell_type": "code",
      "source": [
        "# Create a new column for the previous day's 'Optimized Order Q' and 'Total Sales' \n",
        "result_df['Previous Q'] = result_df['Optimized Order Q'].shift()\n",
        "result_df['Previous Total Sales'] = units['Total Sales'].shift()\n",
        "\n",
        "# Initialize 'Estimate Wastage' as 0\n",
        "result_df['Estimate Wastage'] = 0\n",
        "\n",
        "# Calculate 'Estimate Wastage' for even days\n",
        "result_df.loc[result_df.index % 2 == 0, 'Estimate Wastage'] = (\n",
        "    (result_df.loc[result_df.index % 2 == 0, 'Previous Q'] + result_df.loc[result_df.index % 2 == 0, 'Optimized Order Q']) -\n",
        "    (result_df.loc[result_df.index % 2 == 0, 'Previous Total Sales'] + units.loc[units.index % 2 == 0, 'Total Sales'])\n",
        ")\n",
        "\n",
        "# Ensure 'Estimate Wastage' is not negative\n",
        "result_df['Estimate Wastage'] = result_df['Estimate Wastage'].clip(lower=0)\n",
        "\n",
        "result_df"
      ],
      "metadata": {
        "colab": {
          "base_uri": "https://localhost:8080/",
          "height": 423
        },
        "id": "eDVmHA2xIvEY",
        "outputId": "745b3909-0ad5-4f2b-d2d1-bb03e0777e19"
      },
      "execution_count": null,
      "outputs": [
        {
          "output_type": "execute_result",
          "data": {
            "text/plain": [
              "    Purchase Price  Optimized Order Q   Cost of Overstock  Previous Q  \\\n",
              "0        17.497212          16.644553           12.497212         NaN   \n",
              "1        10.707552          31.098050  5.7075518240434295   16.644553   \n",
              "2        12.028510          28.232440             7.02851   31.098050   \n",
              "3        15.004892          22.117714  10.004891505748654   28.232440   \n",
              "4        10.567940          31.414514             5.56794   22.117714   \n",
              "..             ...                ...                 ...         ...   \n",
              "56       16.274858          19.426455           11.274858   19.963458   \n",
              "57       13.408940          25.383723   8.408940042941772   19.426455   \n",
              "58       10.904554          30.656791            5.904554   25.383723   \n",
              "59        7.560270          35.953934   4.072324143442756   30.656791   \n",
              "60       10.597205          31.347907            5.597205   35.953934   \n",
              "\n",
              "   Previous Total Sales Estimate Wastage  \n",
              "0                  None              NaN  \n",
              "1                    36                0  \n",
              "2                    27                0  \n",
              "3                    57                0  \n",
              "4                    56                0  \n",
              "..                  ...              ...  \n",
              "56                   63                0  \n",
              "57                   33                0  \n",
              "58                   21        18.040513  \n",
              "59                   17                0  \n",
              "60                   16        31.301841  \n",
              "\n",
              "[61 rows x 6 columns]"
            ],
            "text/html": [
              "\n",
              "  <div id=\"df-a95f2656-7ec5-41e9-a1ea-da7ee1c2f81a\">\n",
              "    <div class=\"colab-df-container\">\n",
              "      <div>\n",
              "<style scoped>\n",
              "    .dataframe tbody tr th:only-of-type {\n",
              "        vertical-align: middle;\n",
              "    }\n",
              "\n",
              "    .dataframe tbody tr th {\n",
              "        vertical-align: top;\n",
              "    }\n",
              "\n",
              "    .dataframe thead th {\n",
              "        text-align: right;\n",
              "    }\n",
              "</style>\n",
              "<table border=\"1\" class=\"dataframe\">\n",
              "  <thead>\n",
              "    <tr style=\"text-align: right;\">\n",
              "      <th></th>\n",
              "      <th>Purchase Price</th>\n",
              "      <th>Optimized Order Q</th>\n",
              "      <th>Cost of Overstock</th>\n",
              "      <th>Previous Q</th>\n",
              "      <th>Previous Total Sales</th>\n",
              "      <th>Estimate Wastage</th>\n",
              "    </tr>\n",
              "  </thead>\n",
              "  <tbody>\n",
              "    <tr>\n",
              "      <th>0</th>\n",
              "      <td>17.497212</td>\n",
              "      <td>16.644553</td>\n",
              "      <td>12.497212</td>\n",
              "      <td>NaN</td>\n",
              "      <td>None</td>\n",
              "      <td>NaN</td>\n",
              "    </tr>\n",
              "    <tr>\n",
              "      <th>1</th>\n",
              "      <td>10.707552</td>\n",
              "      <td>31.098050</td>\n",
              "      <td>5.7075518240434295</td>\n",
              "      <td>16.644553</td>\n",
              "      <td>36</td>\n",
              "      <td>0</td>\n",
              "    </tr>\n",
              "    <tr>\n",
              "      <th>2</th>\n",
              "      <td>12.028510</td>\n",
              "      <td>28.232440</td>\n",
              "      <td>7.02851</td>\n",
              "      <td>31.098050</td>\n",
              "      <td>27</td>\n",
              "      <td>0</td>\n",
              "    </tr>\n",
              "    <tr>\n",
              "      <th>3</th>\n",
              "      <td>15.004892</td>\n",
              "      <td>22.117714</td>\n",
              "      <td>10.004891505748654</td>\n",
              "      <td>28.232440</td>\n",
              "      <td>57</td>\n",
              "      <td>0</td>\n",
              "    </tr>\n",
              "    <tr>\n",
              "      <th>4</th>\n",
              "      <td>10.567940</td>\n",
              "      <td>31.414514</td>\n",
              "      <td>5.56794</td>\n",
              "      <td>22.117714</td>\n",
              "      <td>56</td>\n",
              "      <td>0</td>\n",
              "    </tr>\n",
              "    <tr>\n",
              "      <th>...</th>\n",
              "      <td>...</td>\n",
              "      <td>...</td>\n",
              "      <td>...</td>\n",
              "      <td>...</td>\n",
              "      <td>...</td>\n",
              "      <td>...</td>\n",
              "    </tr>\n",
              "    <tr>\n",
              "      <th>56</th>\n",
              "      <td>16.274858</td>\n",
              "      <td>19.426455</td>\n",
              "      <td>11.274858</td>\n",
              "      <td>19.963458</td>\n",
              "      <td>63</td>\n",
              "      <td>0</td>\n",
              "    </tr>\n",
              "    <tr>\n",
              "      <th>57</th>\n",
              "      <td>13.408940</td>\n",
              "      <td>25.383723</td>\n",
              "      <td>8.408940042941772</td>\n",
              "      <td>19.426455</td>\n",
              "      <td>33</td>\n",
              "      <td>0</td>\n",
              "    </tr>\n",
              "    <tr>\n",
              "      <th>58</th>\n",
              "      <td>10.904554</td>\n",
              "      <td>30.656791</td>\n",
              "      <td>5.904554</td>\n",
              "      <td>25.383723</td>\n",
              "      <td>21</td>\n",
              "      <td>18.040513</td>\n",
              "    </tr>\n",
              "    <tr>\n",
              "      <th>59</th>\n",
              "      <td>7.560270</td>\n",
              "      <td>35.953934</td>\n",
              "      <td>4.072324143442756</td>\n",
              "      <td>30.656791</td>\n",
              "      <td>17</td>\n",
              "      <td>0</td>\n",
              "    </tr>\n",
              "    <tr>\n",
              "      <th>60</th>\n",
              "      <td>10.597205</td>\n",
              "      <td>31.347907</td>\n",
              "      <td>5.597205</td>\n",
              "      <td>35.953934</td>\n",
              "      <td>16</td>\n",
              "      <td>31.301841</td>\n",
              "    </tr>\n",
              "  </tbody>\n",
              "</table>\n",
              "<p>61 rows × 6 columns</p>\n",
              "</div>\n",
              "      <button class=\"colab-df-convert\" onclick=\"convertToInteractive('df-a95f2656-7ec5-41e9-a1ea-da7ee1c2f81a')\"\n",
              "              title=\"Convert this dataframe to an interactive table.\"\n",
              "              style=\"display:none;\">\n",
              "        \n",
              "  <svg xmlns=\"http://www.w3.org/2000/svg\" height=\"24px\"viewBox=\"0 0 24 24\"\n",
              "       width=\"24px\">\n",
              "    <path d=\"M0 0h24v24H0V0z\" fill=\"none\"/>\n",
              "    <path d=\"M18.56 5.44l.94 2.06.94-2.06 2.06-.94-2.06-.94-.94-2.06-.94 2.06-2.06.94zm-11 1L8.5 8.5l.94-2.06 2.06-.94-2.06-.94L8.5 2.5l-.94 2.06-2.06.94zm10 10l.94 2.06.94-2.06 2.06-.94-2.06-.94-.94-2.06-.94 2.06-2.06.94z\"/><path d=\"M17.41 7.96l-1.37-1.37c-.4-.4-.92-.59-1.43-.59-.52 0-1.04.2-1.43.59L10.3 9.45l-7.72 7.72c-.78.78-.78 2.05 0 2.83L4 21.41c.39.39.9.59 1.41.59.51 0 1.02-.2 1.41-.59l7.78-7.78 2.81-2.81c.8-.78.8-2.07 0-2.86zM5.41 20L4 18.59l7.72-7.72 1.47 1.35L5.41 20z\"/>\n",
              "  </svg>\n",
              "      </button>\n",
              "      \n",
              "  <style>\n",
              "    .colab-df-container {\n",
              "      display:flex;\n",
              "      flex-wrap:wrap;\n",
              "      gap: 12px;\n",
              "    }\n",
              "\n",
              "    .colab-df-convert {\n",
              "      background-color: #E8F0FE;\n",
              "      border: none;\n",
              "      border-radius: 50%;\n",
              "      cursor: pointer;\n",
              "      display: none;\n",
              "      fill: #1967D2;\n",
              "      height: 32px;\n",
              "      padding: 0 0 0 0;\n",
              "      width: 32px;\n",
              "    }\n",
              "\n",
              "    .colab-df-convert:hover {\n",
              "      background-color: #E2EBFA;\n",
              "      box-shadow: 0px 1px 2px rgba(60, 64, 67, 0.3), 0px 1px 3px 1px rgba(60, 64, 67, 0.15);\n",
              "      fill: #174EA6;\n",
              "    }\n",
              "\n",
              "    [theme=dark] .colab-df-convert {\n",
              "      background-color: #3B4455;\n",
              "      fill: #D2E3FC;\n",
              "    }\n",
              "\n",
              "    [theme=dark] .colab-df-convert:hover {\n",
              "      background-color: #434B5C;\n",
              "      box-shadow: 0px 1px 3px 1px rgba(0, 0, 0, 0.15);\n",
              "      filter: drop-shadow(0px 1px 2px rgba(0, 0, 0, 0.3));\n",
              "      fill: #FFFFFF;\n",
              "    }\n",
              "  </style>\n",
              "\n",
              "      <script>\n",
              "        const buttonEl =\n",
              "          document.querySelector('#df-a95f2656-7ec5-41e9-a1ea-da7ee1c2f81a button.colab-df-convert');\n",
              "        buttonEl.style.display =\n",
              "          google.colab.kernel.accessAllowed ? 'block' : 'none';\n",
              "\n",
              "        async function convertToInteractive(key) {\n",
              "          const element = document.querySelector('#df-a95f2656-7ec5-41e9-a1ea-da7ee1c2f81a');\n",
              "          const dataTable =\n",
              "            await google.colab.kernel.invokeFunction('convertToInteractive',\n",
              "                                                     [key], {});\n",
              "          if (!dataTable) return;\n",
              "\n",
              "          const docLinkHtml = 'Like what you see? Visit the ' +\n",
              "            '<a target=\"_blank\" href=https://colab.research.google.com/notebooks/data_table.ipynb>data table notebook</a>'\n",
              "            + ' to learn more about interactive tables.';\n",
              "          element.innerHTML = '';\n",
              "          dataTable['output_type'] = 'display_data';\n",
              "          await google.colab.output.renderOutput(dataTable, element);\n",
              "          const docLink = document.createElement('div');\n",
              "          docLink.innerHTML = docLinkHtml;\n",
              "          element.appendChild(docLink);\n",
              "        }\n",
              "      </script>\n",
              "    </div>\n",
              "  </div>\n",
              "  "
            ]
          },
          "metadata": {},
          "execution_count": 14
        }
      ]
    },
    {
      "cell_type": "code",
      "source": [
        "Estimated_average_wastage = result_df[\"Estimate Wastage\"].mean()\n",
        "print(\"Average of Estimated Wastage using Q:\", Estimated_average_wastage)\n",
        "\n",
        "actual_average_wastage = units['Wastage'].mean()\n",
        "print(\"Average of Actual Wastage:\",  actual_average_wastage)"
      ],
      "metadata": {
        "colab": {
          "base_uri": "https://localhost:8080/"
        },
        "id": "BqohM5qBJTHS",
        "outputId": "0ad536d1-e164-4538-b374-567684f658c3"
      },
      "execution_count": null,
      "outputs": [
        {
          "output_type": "stream",
          "name": "stdout",
          "text": [
            "Average of Estimated Wastage using Q: 5.946146010770427\n",
            "Average of Actual Wastage: 25.42622950819672\n"
          ]
        }
      ]
    },
    {
      "cell_type": "code",
      "source": [
        "print(\"wastage does get reduced via simulation using a news vendor model, the reducing amount of wastage:\",round(actual_average_wastage-Estimated_average_wastage,2))"
      ],
      "metadata": {
        "colab": {
          "base_uri": "https://localhost:8080/"
        },
        "id": "sVKhiW2cJej8",
        "outputId": "b3c29a45-11f4-4bdf-ad81-2f70d3168c8f"
      },
      "execution_count": null,
      "outputs": [
        {
          "output_type": "stream",
          "name": "stdout",
          "text": [
            "wastage does get reduced via simulation using a news vendor model, the reducing amount of wastage: 19.48\n"
          ]
        }
      ]
    },
    {
      "cell_type": "markdown",
      "source": [
        "#### **5. What other decision areas should VVF be concerned about ?**"
      ],
      "metadata": {
        "id": "4xgHs9Q0PJ2L"
      }
    },
    {
      "cell_type": "markdown",
      "source": [
        "\n",
        "\n",
        "- **Inventory management optimization:** VVF needs to carefully manage its inventory levels to minimize wastage and stockouts. Implementing inventory management models and techniques, such as forecasting, safety stock calculation, and reorder points, can help in this regard.\n",
        "\n",
        "- **collection center layout and store design:** VVF should consider optimizing the layout and design of collection center to facilitate efficient operations, reduce wastage, and provide a better shopping experience for customers.\n",
        "\n",
        "- **Logistics and transportation optimization:** VVF should also focus on **optimizing the *transportation routes, delivery schedules, and transportation methods to minimize costs and maximize efficiency** while maintaining the quality and freshness of the F&V.\n",
        "\n",
        "- **Workforce management**: VVF should optimize labor costs by effectively managing the workforce involved in various activities such as sorting, grading, and billing. This can be achieved through **scheduling optimization, workload balancing, and cross-training.**\n",
        "\n",
        "- **Pricing strategy:** VVF should develop pricing strategies to maximize profits. This may involve using various pricing techniques, such as dynamic pricing or promotional pricing, based on demand and market conditions.\n",
        "\n"
      ],
      "metadata": {
        "id": "vlq8MendcY4n"
      }
    },
    {
      "cell_type": "code",
      "source": [],
      "metadata": {
        "id": "F4uQp8wprHGP"
      },
      "execution_count": null,
      "outputs": []
    },
    {
      "cell_type": "markdown",
      "source": [
        "# **Inventory Optimization as a Flow network 10 pts**"
      ],
      "metadata": {
        "id": "wqku_EpdrT9u"
      }
    },
    {
      "cell_type": "markdown",
      "source": [
        "1.Suppose you, as the experienced manager of the inventory, know all the\n",
        "demands up to time T. Model the problem as a min-cost flow to find\n",
        "the most profitable inventory planning up to time T. In your solution\n",
        "you should specify the number of items you manufacture and sell every\n",
        "day. Assume that producing items takes at most one day and there is\n",
        "no limit on the number of items you would manufacture per day, and\n",
        "you could sell them on the same day"
      ],
      "metadata": {
        "id": "wlhpKJjXrekq"
      }
    },
    {
      "cell_type": "markdown",
      "source": [
        "\n",
        "\n",
        "\\begin{align*}\n",
        "\\text{Minimize: Total Cost} = \\sum\\limits_{i=1}^{10} C_{i}*F_{i,i} + \\sum\\limits_{i=2}^{10} (C_{i}+b)*F_{i,i-1} + \\sum\\limits_{i=1}^{9} (C_{i}+h)*F_{i,i+1}\n",
        "\\end{align*}\n",
        "\n",
        "\\begin{align*}\n",
        "\\text{Subject to:}\\\\\n",
        "& \\text{for i from 1 to 10:  } \\\\\n",
        "&&  \\text{if i from 2 to 9:  }  F_{i,i} + F_{i-1,i} + F_{i+1,i} = D_{i}\\\\\n",
        "&&  \\text{if i = 1:  } F_{i,i} + F_{i+1,i} = D_{i} \\\\\n",
        "&&  \\text{if i = 10:  } F_{i,i} + F_{i-1,i} = D_{i} \n",
        "\\end{align*}"
      ],
      "metadata": {
        "id": "MZHx2PD1n04d"
      }
    },
    {
      "cell_type": "markdown",
      "source": [
        "2.Using Pyomo, find the optimal planning when p = 8, h = 1, and b = 2."
      ],
      "metadata": {
        "id": "PIVih_kkrWA9"
      }
    },
    {
      "cell_type": "code",
      "source": [
        "!pip install -q pyomo\n",
        "import pyomo.environ as pyo\n",
        "!apt-get install -y -qq glpk-utils"
      ],
      "metadata": {
        "id": "89wD1HHJr1CS",
        "colab": {
          "base_uri": "https://localhost:8080/"
        },
        "outputId": "846c9290-23c8-42ea-b229-743486a26505"
      },
      "execution_count": null,
      "outputs": [
        {
          "output_type": "stream",
          "name": "stdout",
          "text": [
            "\u001b[2K     \u001b[90m━━━━━━━━━━━━━━━━━━━━━━━━━━━━━━━━━━━━━━━━\u001b[0m \u001b[32m10.7/10.7 MB\u001b[0m \u001b[31m27.0 MB/s\u001b[0m eta \u001b[36m0:00:00\u001b[0m\n",
            "\u001b[2K     \u001b[90m━━━━━━━━━━━━━━━━━━━━━━━━━━━━━━━━━━━━━━━━\u001b[0m \u001b[32m49.6/49.6 kB\u001b[0m \u001b[31m2.1 MB/s\u001b[0m eta \u001b[36m0:00:00\u001b[0m\n",
            "\u001b[?25hSelecting previously unselected package libsuitesparseconfig5:amd64.\n",
            "(Reading database ... 122518 files and directories currently installed.)\n",
            "Preparing to unpack .../libsuitesparseconfig5_1%3a5.7.1+dfsg-2_amd64.deb ...\n",
            "Unpacking libsuitesparseconfig5:amd64 (1:5.7.1+dfsg-2) ...\n",
            "Selecting previously unselected package libamd2:amd64.\n",
            "Preparing to unpack .../libamd2_1%3a5.7.1+dfsg-2_amd64.deb ...\n",
            "Unpacking libamd2:amd64 (1:5.7.1+dfsg-2) ...\n",
            "Selecting previously unselected package libcolamd2:amd64.\n",
            "Preparing to unpack .../libcolamd2_1%3a5.7.1+dfsg-2_amd64.deb ...\n",
            "Unpacking libcolamd2:amd64 (1:5.7.1+dfsg-2) ...\n",
            "Selecting previously unselected package libglpk40:amd64.\n",
            "Preparing to unpack .../libglpk40_4.65-2_amd64.deb ...\n",
            "Unpacking libglpk40:amd64 (4.65-2) ...\n",
            "Selecting previously unselected package glpk-utils.\n",
            "Preparing to unpack .../glpk-utils_4.65-2_amd64.deb ...\n",
            "Unpacking glpk-utils (4.65-2) ...\n",
            "Setting up libsuitesparseconfig5:amd64 (1:5.7.1+dfsg-2) ...\n",
            "Setting up libamd2:amd64 (1:5.7.1+dfsg-2) ...\n",
            "Setting up libcolamd2:amd64 (1:5.7.1+dfsg-2) ...\n",
            "Setting up libglpk40:amd64 (4.65-2) ...\n",
            "Setting up glpk-utils (4.65-2) ...\n",
            "Processing triggers for man-db (2.9.1-1) ...\n",
            "Processing triggers for libc-bin (2.31-0ubuntu9.9) ...\n"
          ]
        }
      ]
    },
    {
      "cell_type": "code",
      "source": [
        "\n",
        "# define input data\n",
        "C = [1, 2, 3, 6, 8, 2, 1, 2, 5, 3]\n",
        "D = [4, 5, 3, 6, 8, 2, 0, 6, 4, 3]\n",
        "N = len(C)\n",
        "\n",
        "# define Pyomo model\n",
        "model = pyo.ConcreteModel()\n",
        "\n",
        "# define decision variables\n",
        "model.F = pyo.Var(range(N), range(N), within=pyo.NonNegativeReals, initialize=0)\n",
        "\n",
        "# define objective function\n",
        "model.obj = pyo.Objective(\n",
        "    expr=sum(C[i]*model.F[i,i] for i in range(N)) \n",
        "        + sum((C[i]+1)*model.F[i,i+1] for i in range(N-1)) \n",
        "        + sum((C[i]+2)*model.F[i,i-1] for i in range(1,N)) \n",
        "        , sense=pyo.minimize)\n",
        "# define constraints\n",
        "model.demand = pyo.ConstraintList()\n",
        "for i in range(N):\n",
        "    if i in range(1,N-1):\n",
        "        model.demand.add(expr=(model.F[i,i] + model.F[i+1,i] + model.F[i-1,i] == D[i]))\n",
        "    if i == 9:\n",
        "        model.demand.add(expr=(model.F[i,i] + model.F[i-1,i] == D[i]))\n",
        "    elif i == 0: \n",
        "        model.demand.add(expr=(model.F[i,i] + model.F[i+1,i] == D[i]))\n",
        "\n",
        "# solve the model\n",
        "solver = pyo.SolverFactory('glpk')\n",
        "results = solver.solve(model)\n",
        "\n",
        "# print results\n",
        "print(f\"Minimized cost: {pyo.value(model.obj):.2f}\")\n",
        "for i in range(N):\n",
        "    total_orders = sum(pyo.value(model.F[i,j]) for j in range(N))\n",
        "    print(f\"Amount of orders at day {i+1} is {total_orders:.2f}\")\n"
      ],
      "metadata": {
        "id": "IXOjZYtFrHII",
        "outputId": "0d423c5a-a086-4cb0-d3dd-66782aa9ae24",
        "colab": {
          "base_uri": "https://localhost:8080/"
        }
      },
      "execution_count": null,
      "outputs": [
        {
          "output_type": "stream",
          "name": "stdout",
          "text": [
            "Minimized cost: 116.00\n",
            "Amount of orders at day 1 is 4.00\n",
            "Amount of orders at day 2 is 8.00\n",
            "Amount of orders at day 3 is 6.00\n",
            "Amount of orders at day 4 is 0.00\n",
            "Amount of orders at day 5 is 0.00\n",
            "Amount of orders at day 6 is 10.00\n",
            "Amount of orders at day 7 is 6.00\n",
            "Amount of orders at day 8 is 4.00\n",
            "Amount of orders at day 9 is 0.00\n",
            "Amount of orders at day 10 is 3.00\n"
          ]
        }
      ]
    },
    {
      "cell_type": "markdown",
      "source": [
        "# **Task Allocation 10 pts**"
      ],
      "metadata": {
        "id": "rDnaogF1gTpn"
      }
    },
    {
      "cell_type": "markdown",
      "source": [
        "#### **1.  Given the context information, A, B, c, and d reduce this problem to a minimum cut problem in order to find a reassignment of tasks into groups A and B such that the cost qd + pc is minimized**"
      ],
      "metadata": {
        "id": "-E1ZzE3agfrn"
      }
    },
    {
      "cell_type": "markdown",
      "source": [
        "- Set $x_{i}$ be a binary decision variable that:\n",
        " > $x_{i}$ = 1 if task ${i}$ is assigned to Machine A ; \n",
        "\n",
        " > $x_{i}$ = 0 if task ${i}$ is assigned to Machine B.\n",
        "\n",
        "- Set $y_{ij}$ be a binary decision variable that:\n",
        " > $y_{ij}$ = 1 if task ${i}$ and task ${j}$ share context and are assigned to different Machines; \n",
        "\n",
        " > $y_{ij}$ = 0 if task ${i}$ and task ${j}$  share context and are assigned to same machines; \n",
        "\n",
        "- Set $initial\\_assignment_{i}$ be a binary decision variable that:\n",
        " > $initial\\_assignment_{i}$ = 1 if task ${i}$ is initially assigned to machine A\n",
        "\n",
        " > $initial\\_assignment_{i}$ = 0 if task ${i}$ is initially assigned to machine B\n",
        "\n",
        "\\begin{align*}\n",
        "\\text{p}&=\\sum_{i \\in \\text{{n tasks}}}  |x_i - \\text{initial_assignment}_i| \n",
        "\\end{align*}\n",
        "\n",
        "\\begin{align*}\n",
        "\\text{q}&=\\sum_{(i,j) \\in \\text{{pairs}}} y_{ij}  \n",
        "\\end{align*}\n",
        "\n",
        "**Note:** \"pairs\" refers to the set of all pairs of tasks that share a lot of context\n",
        "\n"
      ],
      "metadata": {
        "id": "xiVxDwbzgosh"
      }
    },
    {
      "cell_type": "markdown",
      "source": [
        " **ILP:**\n",
        "\n",
        "\\begin{align*}\n",
        "\\text{Minimize} \\quad Z = & \\sum_{i \\in \\text{{n tasks}}} c \\cdot |x_i - \\text{initial_assignment}_i| + \\sum_{(i,j) \\in \\text{{pairs}}} d \\cdot y_{ij} \\\\\n",
        "\\text{Subject to:} \\\\\n",
        "& y_{ij} \\geq x_i - x_j \\quad \\forall (i,j) \\in \\text{{pairs}} \\\\\n",
        "& y_{ij} \\geq x_j - x_i \\quad \\forall (i,j) \\in \\text{{pairs}} \\\\\n",
        "& x_i \\in \\{0, 1\\} \\quad \\forall i \\in \\text{{tasks}} \\\\\n",
        "& y_{ij} \\in \\{0, 1\\} \\quad \\forall (i,j) \\in \\text{{pairs}}\n",
        "\\end{align*}\n"
      ],
      "metadata": {
        "id": "ObpS_cW6gxvX"
      }
    },
    {
      "cell_type": "markdown",
      "source": [
        "#### **2. Using Pyomo solve the following real instance. In your solution make sure to include the new assignments of tasks into groups A and B.There are 11 taks in a factory who are labeled with numbers 1, 2, ...,11. The following table shows the relations (a pair (x,y) in the table means x and y share context). Let c = 15, d = 10, A = {1,2,3,4,5}, and B = {6,7,8,9,10,11}.Tasks with similar context information:[(1,5), (1,10), (2,7),(2,8), (2,9), (2,10), (3,10), (4,10) , (5,6), (5,11), (7,9)]**"
      ],
      "metadata": {
        "id": "wWv7aGoGhK18"
      }
    },
    {
      "cell_type": "code",
      "source": [
        "! pip install pyomo\n",
        "! pip install networkx"
      ],
      "metadata": {
        "colab": {
          "base_uri": "https://localhost:8080/"
        },
        "id": "SFYnB4e0hezt",
        "outputId": "3bcf69fd-7c64-43ba-93ee-927c55b59d4d"
      },
      "execution_count": null,
      "outputs": [
        {
          "output_type": "stream",
          "name": "stdout",
          "text": [
            "Looking in indexes: https://pypi.org/simple, https://us-python.pkg.dev/colab-wheels/public/simple/\n",
            "Collecting pyomo\n",
            "  Downloading Pyomo-6.5.0-cp310-cp310-manylinux_2_17_x86_64.manylinux2014_x86_64.whl (10.7 MB)\n",
            "\u001b[2K     \u001b[90m━━━━━━━━━━━━━━━━━━━━━━━━━━━━━━━━━━━━━━━━\u001b[0m \u001b[32m10.7/10.7 MB\u001b[0m \u001b[31m48.3 MB/s\u001b[0m eta \u001b[36m0:00:00\u001b[0m\n",
            "\u001b[?25hCollecting ply (from pyomo)\n",
            "  Downloading ply-3.11-py2.py3-none-any.whl (49 kB)\n",
            "\u001b[2K     \u001b[90m━━━━━━━━━━━━━━━━━━━━━━━━━━━━━━━━━━━━━━━━\u001b[0m \u001b[32m49.6/49.6 kB\u001b[0m \u001b[31m3.0 MB/s\u001b[0m eta \u001b[36m0:00:00\u001b[0m\n",
            "\u001b[?25hInstalling collected packages: ply, pyomo\n",
            "Successfully installed ply-3.11 pyomo-6.5.0\n",
            "Looking in indexes: https://pypi.org/simple, https://us-python.pkg.dev/colab-wheels/public/simple/\n",
            "Requirement already satisfied: networkx in /usr/local/lib/python3.10/dist-packages (3.1)\n"
          ]
        }
      ]
    },
    {
      "cell_type": "code",
      "source": [
        "from pyomo.environ import *\n",
        "from pyomo.network import *\n",
        "import networkx as nx\n",
        "\n",
        "# Parameters\n",
        "c = 15\n",
        "d = 10\n",
        "A = {1, 2, 3, 4, 5}\n",
        "B = {6, 7, 8, 9, 10, 11}\n",
        "pairs = [(1, 5), (1, 10), (2, 7), (2, 8), (2, 9), (2, 10), (3, 10), (4, 10), (5, 6), (5, 11), (7, 9)]\n",
        "tasks = list(A.union(B))\n",
        "\n",
        "# Create a directed graph\n",
        "G = nx.DiGraph()\n",
        "\n",
        "# Add source and target nodes\n",
        "G.add_node('S')\n",
        "G.add_node('T')\n",
        "\n",
        "# Add tasks and edges\n",
        "for task in tasks:\n",
        "    G.add_node(task)\n",
        "    if task in A:\n",
        "        G.add_edge('S', task, capacity=c)\n",
        "    if task in B:\n",
        "        G.add_edge(task, 'T', capacity=c)\n",
        "        \n",
        "for pair in pairs:\n",
        "    G.add_edge(pair[0], pair[1], capacity=d)\n",
        "    G.add_edge(pair[1], pair[0], capacity=d)\n",
        "\n",
        "# Use networkx to find the minimum cut\n",
        "cut_value, partition = nx.minimum_cut(G, 'S', 'T', capacity='capacity')\n",
        "\n",
        "# Determine the new assignments\n",
        "A_new = {task for task in partition[0] if task != 'S'}\n",
        "B_new = {task for task in partition[1] if task != 'T'}\n",
        "\n",
        "print(\"Minimum cost:\", cut_value)\n",
        "print(\"New assignment for Machine A:\", A_new)\n",
        "print(\"New assignment for Machine B:\", B_new)"
      ],
      "metadata": {
        "colab": {
          "base_uri": "https://localhost:8080/"
        },
        "id": "EAanEBibhhdW",
        "outputId": "8c4d3285-714e-46b8-97fa-4252b247d377"
      },
      "execution_count": null,
      "outputs": [
        {
          "output_type": "stream",
          "name": "stdout",
          "text": [
            "Minimum cost: 60\n",
            "New assignment for Machine A: {1, 3, 4, 5, 10}\n",
            "New assignment for Machine B: {2, 6, 7, 8, 9, 11}\n"
          ]
        }
      ]
    },
    {
      "cell_type": "code",
      "source": [],
      "metadata": {
        "id": "0j_cM6MXwmo3"
      },
      "execution_count": null,
      "outputs": []
    },
    {
      "cell_type": "markdown",
      "source": [
        "# **Economic Order Quantity (EOQ) 10 pts**"
      ],
      "metadata": {
        "id": "14aKWWhK1Q31"
      }
    },
    {
      "cell_type": "markdown",
      "source": [
        "**1. What are the EOQs for A and B? What are the annual setup andholding costs for A and B?**"
      ],
      "metadata": {
        "id": "IRMVgW3M1X3y"
      }
    },
    {
      "cell_type": "code",
      "source": [
        "import math\n",
        "\n",
        "Fix = 200\n",
        "\n",
        "Month_demand_A = 250\n",
        "Month_demand_B = 300\n",
        "\n",
        "Handle_A = 700\n",
        "Handle_B = 800\n",
        "#Annual Hold Cost per unit for A\n",
        "lambd = 0.15\n",
        "Annual_holding_A = lambd * Handle_A\n",
        "Annual_holding_B = lambd * Handle_B\n",
        "\n",
        "Annual_demand_A = Month_demand_A * 12\n",
        "Annual_demand_B = Month_demand_B * 12\n",
        "\n",
        "EOQ_A = math.sqrt((2*Annual_demand_A*Fix)/Annual_holding_A)\n",
        "EOQ_B = math.sqrt((2*Annual_demand_B*Fix)/Annual_holding_B)\n",
        "\n",
        "Annual_setup_A = (Annual_demand_A/EOQ_A)*Fix\n",
        "Annual_setup_B = (Annual_demand_B/EOQ_B)*Fix\n",
        "\n",
        "Annual_hold_A = (EOQ_A/2)*Handle_A\n",
        "Annual_hold_B = (EOQ_B/2)*Handle_B\n",
        "\n",
        "print(\"EOQs for A:\",EOQ_A,\". Annual Setup cost for A:\",Annual_setup_A,\". Annual hold cost for A:\",Annual_hold_A)\n",
        "print(\"EOQs for B:\",EOQ_B,\". Annual Setup cost for B:\",Annual_setup_B,\". Annual hold cost for B:\",Annual_hold_B)\n",
        "\n",
        "Total = Annual_setup_A + Annual_hold_A + Annual_setup_B + Annual_hold_B\n",
        "print(\"Total Cost:\", Total)"
      ],
      "metadata": {
        "id": "4iQmevFu1QPs",
        "colab": {
          "base_uri": "https://localhost:8080/"
        },
        "outputId": "90218870-d9a6-494e-d9bc-aa1ae49f3b5d"
      },
      "execution_count": null,
      "outputs": [
        {
          "output_type": "stream",
          "name": "stdout",
          "text": [
            "EOQs for A: 106.90449676496976 . Annual Setup cost for A: 5612.486080160912 . Annual hold cost for A: 37416.57386773942\n",
            "EOQs for B: 109.54451150103323 . Annual Setup cost for B: 6572.670690061993 . Annual hold cost for B: 43817.80460041329\n",
            "Total Cost: 93419.53523837561\n"
          ]
        }
      ]
    },
    {
      "cell_type": "markdown",
      "source": [
        "**2. What will be the optimal order quantities for A and B? What will be the resulting annual setup and holdingcosts?**"
      ],
      "metadata": {
        "id": "i4-M_OGmZle5"
      }
    },
    {
      "cell_type": "code",
      "source": [
        "Capacity_A = 60\n",
        "Capacity_B = 75\n",
        "\n",
        "Annual_setup_A2 = (Annual_demand_A/Capacity_A)*Fix\n",
        "Annual_holding_A2 = (Capacity_A/2)*Handle_A\n",
        "\n",
        "Annual_setup_B2 = (Annual_demand_B/Capacity_B)*Fix\n",
        "Annual_holding_B2 = (Capacity_B/2)*Handle_B\n",
        "\n",
        "print(\"Optimal order quantity for A is Capacity 60, and Annual Setup fee for A is\",Annual_setup_A2,\"and Annual holding fee for A is\",Annual_holding_A2)\n",
        "print(\"Optimal order quantity for B is Capacity 75, and Annual Setup fee for B is\",Annual_setup_B2,\"and Annual holding fee for B is\",Annual_holding_B2)"
      ],
      "metadata": {
        "id": "9WvirZQsZlye",
        "colab": {
          "base_uri": "https://localhost:8080/"
        },
        "outputId": "3ee197e0-3b5c-452e-8772-7a0ae49b9e48"
      },
      "execution_count": null,
      "outputs": [
        {
          "output_type": "stream",
          "name": "stdout",
          "text": [
            "Optimal order quantity for A is Capacity 60, and Annual Setup fee for A is 10000.0 and Annual holding fee for A is 21000.0\n",
            "Optimal order quantity for B is Capacity 75, and Annual Setup fee for B is 9600.0 and Annual holding fee for B is 30000.0\n"
          ]
        }
      ]
    },
    {
      "cell_type": "markdown",
      "source": [
        "**3. Let T denote time between successive orders. What will be the optimal T if you wants to minimize the total setup and holding cost? What are the corresponding order quantities?**"
      ],
      "metadata": {
        "id": "a0AXXK1uZmKQ"
      }
    },
    {
      "cell_type": "code",
      "source": [
        "from scipy.optimize import minimize_scalar\n",
        "\n",
        "# Define the cost function\n",
        "def cost_function(T):\n",
        "    Annual_total_setup_cost = (12/T)*400\n",
        "    Q_A = Annual_demand_A/(12/T)\n",
        "    Q_B = Annual_demand_B/(12/T)\n",
        "    Annual_holding_A3 = (Q_A/2)*700\n",
        "    Annual_holding_B3 = (Q_B/2)*800\n",
        "    Total_Cost = Annual_total_setup_cost + Annual_holding_A3 + Annual_holding_B3\n",
        "    return Total_Cost.item()\n",
        "\n",
        "# Find the optimal T\n",
        "res = minimize_scalar(cost_function, bounds=(0.01, 365), method='bounded')\n",
        "optimal_T = res.x\n",
        "optimal_cost = res.fun\n",
        "\n",
        "print(f\"Optimal T: {optimal_T:.2f}\")\n",
        "print(f\"Optimal cost: ${optimal_cost:.2f}\")"
      ],
      "metadata": {
        "id": "k4SnNIWFZma2",
        "colab": {
          "base_uri": "https://localhost:8080/"
        },
        "outputId": "7aaebe7b-928d-40d4-bea2-8700ef6df2a0"
      },
      "execution_count": null,
      "outputs": [
        {
          "output_type": "stream",
          "name": "stdout",
          "text": [
            "Optimal T: 0.15\n",
            "Optimal cost: $63118.94\n"
          ]
        }
      ]
    },
    {
      "cell_type": "markdown",
      "source": [
        "**4. What is the resulting total setup and holding cost? How does it compare to the cost in part 1 when you order A and B separately? Explain why.**"
      ],
      "metadata": {
        "id": "3aM1DEI6Zm47"
      }
    },
    {
      "cell_type": "code",
      "source": [
        "T = 0.15\n",
        "\n",
        "Annual_total_setup_cost = (12/T)*400\n",
        "Q_A = Annual_demand_A/(12/T)\n",
        "Q_B = Annual_demand_B/(12/T)\n",
        "Annual_holding_A3 = (Q_A/2)*700\n",
        "Annual_holding_B3 = (Q_B/2)*800\n",
        "\n",
        "\n",
        "print(\"Total set up cost:\",Annual_total_setup_cost,\"Annual holding cost for A:\",Annual_holding_A3,\"Annual holding cost for B:\",Annual_holding_B3)\n",
        "\n",
        "if optimal_cost - Total > 0:\n",
        "  print(\"Ordering separately is better\")\n",
        "else:\n",
        "  print(\"Ordering together is better\")\n",
        "\n",
        "print(\"Maybe because when ordering together they cost less because of the fixed shipping fee.\")"
      ],
      "metadata": {
        "id": "ShJvD78pZnKi",
        "colab": {
          "base_uri": "https://localhost:8080/"
        },
        "outputId": "c54d21eb-b15e-4844-e9b9-f2fbf0bad083"
      },
      "execution_count": null,
      "outputs": [
        {
          "output_type": "stream",
          "name": "stdout",
          "text": [
            "Total set up cost: 32000.0 Annual holding cost for A: 13125.0 Annual holding cost for B: 18000.0\n",
            "Ordering together is better\n",
            "Maybe because when ordering together they cost less because of the fixed shipping fee.\n"
          ]
        }
      ]
    },
    {
      "cell_type": "markdown",
      "source": [
        "# **Supply Chain Contract 10 pts**"
      ],
      "metadata": {
        "id": "bjojgdOtkn-t"
      }
    },
    {
      "cell_type": "markdown",
      "source": [
        "#### **1. Based on the given discrete distribution, what are the overage and underage costs and how many baklavas should Nergis make at the start of each day?**"
      ],
      "metadata": {
        "id": "EmnLliDMku0t"
      }
    },
    {
      "cell_type": "code",
      "source": [
        "## Overage cost is the cost of making a baklavas, because all leftover baklavas would be discarded with no net value.\n",
        "cost_o = 15   # Each baklava costs 15 cents to make\n",
        "print(\"Cost of overage:\",cost_o)"
      ],
      "metadata": {
        "colab": {
          "base_uri": "https://localhost:8080/"
        },
        "id": "5sAYq3PnksIF",
        "outputId": "e98048f7-2e4c-4c53-c9d4-e164192205d6"
      },
      "execution_count": null,
      "outputs": [
        {
          "output_type": "stream",
          "name": "stdout",
          "text": [
            "Cost of overage: 15\n"
          ]
        }
      ]
    },
    {
      "cell_type": "code",
      "source": [
        "## Underage cost is the potential profit that we lose due to insufficient inventory, which would be the profit of making and selling a baklava.\n",
        "cost_u = 50-15   # Each baklava costs 15 cents to make and they are sold for 50 cents each \n",
        "print(\"Cost of underage:\",cost_u)"
      ],
      "metadata": {
        "colab": {
          "base_uri": "https://localhost:8080/"
        },
        "id": "LyO5zishlYI_",
        "outputId": "73a7b068-6b22-4045-c144-608e3e5a4302"
      },
      "execution_count": null,
      "outputs": [
        {
          "output_type": "stream",
          "name": "stdout",
          "text": [
            "Cost of underage: 35\n"
          ]
        }
      ]
    },
    {
      "cell_type": "code",
      "source": [
        "## Use Newsvendor Model to find Q*\n",
        "## Calculate the F(Q)\n",
        "FQ = cost_u / (cost_u + cost_o)\n",
        "print(\"F(Q) = \", FQ)"
      ],
      "metadata": {
        "colab": {
          "base_uri": "https://localhost:8080/"
        },
        "id": "xVgOYV9RmG2-",
        "outputId": "9cdaf58e-e656-46ff-9edc-508d86b8bf15"
      },
      "execution_count": null,
      "outputs": [
        {
          "output_type": "stream",
          "name": "stdout",
          "text": [
            "F(Q) =  0.7\n"
          ]
        }
      ]
    },
    {
      "cell_type": "markdown",
      "source": [
        "Looking at the given cumulative distribution, the quantity that most closely meets this criterion is 25 baklavas, which has a cumulative probability of 0.72. Therefore, Nergis should make 25 baklavas at the start of each day."
      ],
      "metadata": {
        "id": "z95NdochncoX"
      }
    },
    {
      "cell_type": "markdown",
      "source": [
        "#### **2. Now, suppose that the baklavas unsold at the end of the day are purchased by a nearby food kitchen for 5 cents each. What are the overage and underage costs in this case? How many baklavas should Nergis make at the start of each day?**"
      ],
      "metadata": {
        "id": "nQ5cB4venh5n"
      }
    },
    {
      "cell_type": "code",
      "source": [
        "## Overage cost is the cost of making a baklavas minus the purchase price of food kitchen at the end of the day.\n",
        "cost_o = 15 - 5   # Each baklava costs 15 cents to make, will be sold to food kitchen for 5 cents\n",
        "print(\"Cost of overage:\",cost_o)"
      ],
      "metadata": {
        "colab": {
          "base_uri": "https://localhost:8080/"
        },
        "id": "ucK1IH-vmvqr",
        "outputId": "ec601c68-64c9-4289-bea8-36aa4b90ac33"
      },
      "execution_count": null,
      "outputs": [
        {
          "output_type": "stream",
          "name": "stdout",
          "text": [
            "Cost of overage: 10\n"
          ]
        }
      ]
    },
    {
      "cell_type": "code",
      "source": [
        "## Underage cost is the potential profit that we lose due to insufficient inventory, which would be the profit of making and selling a baklava.\n",
        "cost_u = 50-15   # Each baklava costs 15 cents to make and they are sold for 50 cents each \n",
        "print(\"Cost of underage:\",cost_u)"
      ],
      "metadata": {
        "colab": {
          "base_uri": "https://localhost:8080/"
        },
        "id": "xxAdFLr7oGb5",
        "outputId": "3ce5f40d-4319-483b-e80a-b19aebea7136"
      },
      "execution_count": null,
      "outputs": [
        {
          "output_type": "stream",
          "name": "stdout",
          "text": [
            "Cost of underage: 35\n"
          ]
        }
      ]
    },
    {
      "cell_type": "code",
      "source": [
        "## Use Newsvendor Model to find Q*\n",
        "## Calculate the F(Q)\n",
        "FQ = cost_u / (cost_u + cost_o)\n",
        "print(\"F(Q) = \", FQ)"
      ],
      "metadata": {
        "colab": {
          "base_uri": "https://localhost:8080/"
        },
        "id": "46B4cXyToKgU",
        "outputId": "c2eabe8f-c7cf-43d7-b3d9-d86beccab68b"
      },
      "execution_count": null,
      "outputs": [
        {
          "output_type": "stream",
          "name": "stdout",
          "text": [
            "F(Q) =  0.7777777777777778\n"
          ]
        }
      ]
    },
    {
      "cell_type": "markdown",
      "source": [
        "Looking at the given cumulative distribution, the quantity that most closely meets this criterion is still 25 baklavas, which has a cumulative probability of 0.72. Therefore, Nergis should make 25 baklavas at the start of each day."
      ],
      "metadata": {
        "id": "cNiVEOyCpQhi"
      }
    },
    {
      "cell_type": "markdown",
      "source": [
        "#### **3. Now,instead of making the baklavas, Nergis buys baklavas from Cemile's store every morning at 20 cents each and sells them for 50 cents. In addition, to promote the sales of baklavas, Cemile's store buys back the leftover baklavas at the end of the day from Nergis at 7 cents. What are the overage and underage costs in this case? How many baklavas should Nergis buy at the start of each day?**"
      ],
      "metadata": {
        "id": "YfGUQQemsdT2"
      }
    },
    {
      "cell_type": "code",
      "source": [
        "## Overage cost is the cost of buying a baklavas minus the buy-back price of Cemile's at the end of the day.\n",
        "cost_o = 20 - 7   # Nergis buys baklavas from Cemile's store at 20 cents each and Cemile's store buys back the leftover at 7 cents.\n",
        "print(\"Cost of overage:\",cost_o)"
      ],
      "metadata": {
        "colab": {
          "base_uri": "https://localhost:8080/"
        },
        "id": "i9CJkTcTpP-a",
        "outputId": "85886407-08ac-435a-972b-d74f3e61cfc1"
      },
      "execution_count": null,
      "outputs": [
        {
          "output_type": "stream",
          "name": "stdout",
          "text": [
            "Cost of overage: 13\n"
          ]
        }
      ]
    },
    {
      "cell_type": "code",
      "source": [
        "## Underage cost is the potential profit that we lose due to insufficient inventory, which would be the profit of buying and selling a baklava.\n",
        "cost_u = 50-20   # Nergis buys baklavas from Cemile's store every morning at 20 cents each and sells them for 50 cents.\n",
        "print(\"Cost of underage:\",cost_u)"
      ],
      "metadata": {
        "colab": {
          "base_uri": "https://localhost:8080/"
        },
        "id": "SCDujMaitN0G",
        "outputId": "e96f6d32-e1ff-4911-9ef0-737db15313bb"
      },
      "execution_count": null,
      "outputs": [
        {
          "output_type": "stream",
          "name": "stdout",
          "text": [
            "Cost of underage: 30\n"
          ]
        }
      ]
    },
    {
      "cell_type": "code",
      "source": [
        "## Use Newsvendor Model to find Q*\n",
        "## Calculate the F(Q)\n",
        "FQ = cost_u / (cost_u + cost_o)\n",
        "print(\"F(Q) = \", FQ)"
      ],
      "metadata": {
        "colab": {
          "base_uri": "https://localhost:8080/"
        },
        "id": "aioEHxqMtYX6",
        "outputId": "d85870b2-c50d-4bad-ce69-4e5dda31f144"
      },
      "execution_count": null,
      "outputs": [
        {
          "output_type": "stream",
          "name": "stdout",
          "text": [
            "F(Q) =  0.6976744186046512\n"
          ]
        }
      ]
    },
    {
      "cell_type": "markdown",
      "source": [
        "Looking at the given cumulative distribution, the quantity that most closely meets this criterion is still 25 baklavas, which has a cumulative probability of 0.72. Therefore, Nergis should buy 25 baklavas at the start of each day."
      ],
      "metadata": {
        "id": "DY_CHDlqthAm"
      }
    },
    {
      "cell_type": "markdown",
      "source": [
        "#### **4. Nergis still buys the baklavas from Cemile's store every morning at 20 cents each and sells them for 50 cents. But now, instead of buying back the unsold units, Cemile's store agrees to pay Nergis a rebate of 2 cents for every unit sold to end customers at Nergis's. What are the overage and underage costs in this case? How many baklavas should Nergis buy at the start of the day?**"
      ],
      "metadata": {
        "id": "xX_HuH3_tsC1"
      }
    },
    {
      "cell_type": "code",
      "source": [
        "## Overage cost is the cost of buying a baklavas, because all leftover baklavas would be discarded with no net value.\n",
        "cost_o = 20   #  Nergis buys the baklavas from Cemile's store every morning at 20 cents each\n",
        "print(\"Cost of overage:\",cost_o)"
      ],
      "metadata": {
        "colab": {
          "base_uri": "https://localhost:8080/"
        },
        "id": "3TJm1mUUtgbJ",
        "outputId": "0856872a-58ba-4876-ce59-330498bdcde2"
      },
      "execution_count": null,
      "outputs": [
        {
          "output_type": "stream",
          "name": "stdout",
          "text": [
            "Cost of overage: 20\n"
          ]
        }
      ]
    },
    {
      "cell_type": "code",
      "source": [
        "## Underage cost is the potential profit that we lose due to insufficient inventory, \n",
        "## which would be the profit of buying and selling a baklava plus the rebate from Cemile's\n",
        "cost_u = 50-20+2   # Nergis sells baklavas for 50 cents. Cemile's store agrees to pay Nergis a rebate of 2 cents for every unit sold.\n",
        "print(\"Cost of underage:\",cost_u)"
      ],
      "metadata": {
        "colab": {
          "base_uri": "https://localhost:8080/"
        },
        "id": "eANO9OVwuMIQ",
        "outputId": "bbc8f9fb-adf5-4b7c-fe3d-289374d32945"
      },
      "execution_count": null,
      "outputs": [
        {
          "output_type": "stream",
          "name": "stdout",
          "text": [
            "Cost of underage: 32\n"
          ]
        }
      ]
    },
    {
      "cell_type": "code",
      "source": [
        "## Use Newsvendor Model to find Q*\n",
        "## Calculate the F(Q)\n",
        "FQ = cost_u / (cost_u + cost_o)\n",
        "print(\"F(Q) = \", FQ)"
      ],
      "metadata": {
        "colab": {
          "base_uri": "https://localhost:8080/"
        },
        "id": "ESgTC_nJuowG",
        "outputId": "b1c4ec2b-f692-4b2c-e014-7e18f166b2ce"
      },
      "execution_count": null,
      "outputs": [
        {
          "output_type": "stream",
          "name": "stdout",
          "text": [
            "F(Q) =  0.6153846153846154\n"
          ]
        }
      ]
    },
    {
      "cell_type": "markdown",
      "source": [
        "Looking at the given cumulative distribution, the quantity that most closely meets this criterion is still 25 baklavas, which has a cumulative probability of 0.72. Therefore, Nergis should buy 25 baklavas at the start of each day."
      ],
      "metadata": {
        "id": "8illn05au0Rl"
      }
    },
    {
      "cell_type": "code",
      "source": [],
      "metadata": {
        "id": "tR6L_YN6xwpj"
      },
      "execution_count": null,
      "outputs": []
    },
    {
      "cell_type": "markdown",
      "source": [
        "# **Multi-commodity flow Network 10 pts**"
      ],
      "metadata": {
        "id": "oAsz158AxhUU"
      }
    },
    {
      "cell_type": "markdown",
      "source": [
        "#### **Consider a multi-commodity min cost flow problem, i.e., one for which we are transporting multiple commodities (e.g. oil, water, milk) over the same network. Assume that each link has just a single capacity and cost. However, nodes can have separate demands for each of the various commodities. The goal in such a network is to satisfy as much of the total demand as possible while satisfying the capacity constraints.**\n",
        "#### **Model this as a Linear Program. Show that a BFS in such a problem is not necessarily integral, even if the demands and capacities are all integers. Hint: There is a counterexample with three nodes, three directed edges, and three commodities.**"
      ],
      "metadata": {
        "id": "T237ZJ43xjXi"
      }
    },
    {
      "cell_type": "markdown",
      "source": [
        "In this scenario, we need to minimize the cost of flow with three main constraints:\n",
        "\n",
        "1. The incoming flow minus the outcoming flow at one node should equal to the demand at this node (if the demand is negetive, it means that the node is a source, if the demand is positive, it means that the node is a sink);\n",
        "\n",
        "2. The capacity of each edge should not be exceeded;\n",
        "\n",
        "3. The flow should be non-negetive."
      ],
      "metadata": {
        "id": "mqkSEHHR5czy"
      }
    },
    {
      "cell_type": "markdown",
      "source": [
        "**Let's denote:**\n",
        "\n",
        "$i$ and $j$ as nodes in the network\n",
        "\n",
        "$k$ as a type of commodity\n",
        "\n",
        "$x_{ijk}$ as the flow of commodity $k$ from node $i$ to node $j$\n",
        "\n",
        "$c_{ij}$ as the cost of transporting any commodity from node $i$ to node $j$\n",
        "\n",
        "$u_{ij}$ as the capacity of the edge from node $i$ to node $j$\n",
        "\n",
        "$d_{ik}$ as the demand of commodity $k$ at node $i$\n",
        "\n",
        "$N$ as the set of all nodes\n",
        "\n",
        "$K$ as the set of all commodities\n",
        "\n",
        "$E$ as the set of all edges"
      ],
      "metadata": {
        "id": "zgrGlzQSzqqt"
      }
    },
    {
      "cell_type": "markdown",
      "source": [
        "**The LP can be written as:**"
      ],
      "metadata": {
        "id": "I1bmNWYu0Wc8"
      }
    },
    {
      "cell_type": "markdown",
      "source": [
        "\\begin{align*}\n",
        "\\text{Minimize:} \\quad & \\sum_{(i,j) \\in E} \\sum_{k \\in K} c_{ij} x_{ijk} \\\\\n",
        "\\text{Subject to:} \\\\\n",
        "& \\forall i \\in N, \\forall k \\in K: \\sum_{j|(j,i) \\in E} x_{jik} - \\sum_{j|(i,j) \\in E} x_{ijk} = d_{ik} \\quad & \\text{(Flow Conservation)} \\\\\n",
        "& \\forall (i,j) \\in E: \\sum_{k \\in K} x_{ijk} \\leq u_{ij} \\quad & \\text{(Capacity Constraints)} \\\\\n",
        "& \\forall (i,j) \\in E, \\forall k \\in K: x_{ijk} \\geq 0 \\quad & \\text{(Non-negativity Constraints)} \\\\\n",
        "\\end{align*}"
      ],
      "metadata": {
        "id": "QnFZ6bWfy4Lo"
      }
    },
    {
      "cell_type": "markdown",
      "source": [
        "Consider a network with three nodes (1, 2, 3), three directed edges ((1,2), (2,3), (1,3)) and three commodities (A, B, C). Let's say that each edge has a capacity of 1, and the demand at node 3 for each commodity is 1 (node 3 is the sink), the demand at node 1 for each commodity is -1 (node 1 is the source). One BFS could be that we send 1/3 units of each commodity along each edge (1->3 and 1->2->3), then we satisfy as much of the total demand as possible while satisfying the capacity constraints, but the solution is not integral. This shows that a BFS to a multi-commodity min-cost flow problem can be fractional even if the demands and capacities are integers."
      ],
      "metadata": {
        "id": "4MCI5gfuzSGl"
      }
    }
  ]
}